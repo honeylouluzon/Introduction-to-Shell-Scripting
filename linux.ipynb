{
 "cells": [
  {
   "cell_type": "code",
   "execution_count": 1,
   "id": "7ab7e4b6",
   "metadata": {},
   "outputs": [
    {
     "name": "stderr",
     "output_type": "stream",
     "text": [
      "\n",
      "WARNING: apt does not have a stable CLI interface. Use with caution in scripts.\n",
      "\n"
     ]
    },
    {
     "name": "stdout",
     "output_type": "stream",
     "text": [
      "Hit:1 https://repo.anaconda.com/pkgs/misc/debrepo/conda stable InRelease\n",
      "Hit:2 https://dl.yarnpkg.com/debian stable InRelease\n",
      "Hit:3 https://packages.microsoft.com/repos/microsoft-ubuntu-focal-prod focal InRelease\n",
      "Hit:4 http://archive.ubuntu.com/ubuntu focal InRelease\n",
      "Get:5 http://security.ubuntu.com/ubuntu focal-security InRelease [128 kB]\n",
      "Get:7 http://archive.ubuntu.com/ubuntu focal-updates InRelease [128 kB]\n",
      "Hit:6 https://packagecloud.io/github/git-lfs/ubuntu focal InRelease\n",
      "Get:8 http://archive.ubuntu.com/ubuntu focal-backports InRelease [128 kB]\n",
      "Fetched 383 kB in 4s (103 kB/s)\n",
      "Reading package lists...\n",
      "Building dependency tree...\n",
      "Reading state information...\n",
      "51 packages can be upgraded. Run 'apt list --upgradable' to see them.\n"
     ]
    }
   ],
   "source": [
    "%%bash\n",
    "sudo apt update"
   ]
  },
  {
   "cell_type": "code",
   "execution_count": 2,
   "id": "2fee6365",
   "metadata": {},
   "outputs": [
    {
     "name": "stdout",
     "output_type": "stream",
     "text": [
      "ldap.conf (5)        - LDAP configuration file/environment variables\n",
      "adduser.conf (5)     - configuration file for adduser(8) and addgroup(8) .\n",
      "deluser.conf (5)     - configuration file for deluser(8) and delgroup(8) .\n",
      "mailcap.order (5)    - the mailcap ordering specifications\n",
      "odbc.ini (5)         - unixODBC data sources configuration\n",
      "odbcinst.ini (5)     - An unixODBC drivers configuration\n",
      "30-systemd-environment-d-generator (8) - Load variables specified by environm...\n",
      "as (1)               - the portable GNU assembler.\n",
      "tc-bpf (8)           - BPF programmable classifier and actions for ingress/eg...\n",
      "bpf-helpers (7)      - list of eBPF helper functions\n",
      "Compose (5)          - X client mappings for multi-key input sequences\n",
      "Dpkg (3perl)         - module with core variables\n",
      "Error (3pm)          - Error/exception handling in an OO-ish way\n",
      "FD_CLR (2)           - synchronous I/O multiplexing\n",
      "FD_CLR (3)           - synchronous I/O multiplexing\n",
      "pselect (2)          - synchronous I/O multiplexing\n",
      "FD_ISSET (3)         - synchronous I/O multiplexing\n",
      "FD_SET (3)           - synchronous I/O multiplexing\n",
      "FD_ZERO (3)          - synchronous I/O multiplexing\n",
      "ffi (3)              - Foreign Function Interface\n"
     ]
    }
   ],
   "source": [
    "%%bash\n",
    "man -k . | head -n 20"
   ]
  },
  {
   "cell_type": "code",
   "execution_count": 3,
   "id": "e758ae43",
   "metadata": {},
   "outputs": [
    {
     "name": "stdout",
     "output_type": "stream",
     "text": [
      "LS(1)                            User Commands                           LS(1)\n",
      "\n",
      "NAME\n",
      "       ls - list directory contents\n",
      "\n",
      "SYNOPSIS\n",
      "       ls [OPTION]... [FILE]...\n",
      "\n",
      "DESCRIPTION\n",
      "       List  information  about  the FILEs (the current directory by default).\n",
      "       Sort entries alphabetically if none of -cftuvSUX nor --sort  is  speci‐\n",
      "       fied.\n",
      "\n",
      "       Mandatory  arguments  to  long  options are mandatory for short options\n",
      "       too.\n",
      "\n",
      "       -a, --all\n",
      "              do not ignore entries starting with .\n",
      "\n",
      "       -A, --almost-all\n"
     ]
    }
   ],
   "source": [
    "%%bash\n",
    "man ls | head -n 20"
   ]
  },
  {
   "cell_type": "code",
   "execution_count": 4,
   "id": "f5f71e3c",
   "metadata": {},
   "outputs": [
    {
     "name": "stdout",
     "output_type": "stream",
     "text": [
      "README.md\n",
      "linux.ipynb\n",
      "linux.sh\n"
     ]
    }
   ],
   "source": [
    "%%bash\n",
    "ls"
   ]
  },
  {
   "cell_type": "code",
   "execution_count": 5,
   "id": "7aea0e32",
   "metadata": {},
   "outputs": [
    {
     "name": "stderr",
     "output_type": "stream",
     "text": [
      "npm warn deprecated inflight@1.0.6: This module is not supported, and leaks memory. Do not use it. Check out lru-cache if you want a good and tested way to coalesce async requests by a key value, which is much more comprehensive and powerful.\n",
      "npm warn deprecated glob@7.2.3: Glob versions prior to v9 are no longer supported\n"
     ]
    },
    {
     "name": "stdout",
     "output_type": "stream",
     "text": [
      "\n",
      "changed 90 packages in 8s\n",
      "\n",
      "27 packages are looking for funding\n",
      "  run `npm fund` for details\n"
     ]
    }
   ],
   "source": [
    "%%bash\n",
    "npm install -g tldr"
   ]
  },
  {
   "cell_type": "code",
   "execution_count": 6,
   "id": "a6b867b4",
   "metadata": {},
   "outputs": [
    {
     "name": "stdout",
     "output_type": "stream",
     "text": [
      "\n",
      "  \u001b[1m\u001b[4mls\u001b[24m\u001b[22m\n",
      "\n",
      "  \u001b[1mList directory contents.\u001b[22m\n",
      "\u001b[1m  More information: https://www.gnu.org/software/coreutils/manual/html_node/ls-invocation.html.\u001b[22m\n",
      "\n",
      "  - List files one per line:\n",
      "    ls -1\n",
      "\n",
      "  - List all files, including hidden files:\n",
      "    ls \u001b[4m[-a|--all]\u001b[24m\n",
      "\n",
      "  - List files with a trailing symbol to indicate file type (directory/, symbolic_link@, executable*, ...):\n",
      "    ls \u001b[4m[-F|--classify]\u001b[24m\n",
      "\n",
      "  - List all files in [l]ong format (permissions, ownership, size, and modification date):\n",
      "    ls \u001b[4m[-la|-l --all]\u001b[24m\n",
      "\n",
      "  - List files in [l]ong format with size displayed using human-readable units (KiB, MiB, GiB):\n",
      "    ls \u001b[4m[-lh|-l --human-readable]\u001b[24m\n"
     ]
    }
   ],
   "source": [
    "%%bash\n",
    "tldr ls | head -n 20"
   ]
  },
  {
   "cell_type": "code",
   "execution_count": 7,
   "id": "019f4a9e",
   "metadata": {},
   "outputs": [
    {
     "name": "stdout",
     "output_type": "stream",
     "text": [
      "codespace\n"
     ]
    }
   ],
   "source": [
    "%%bash\n",
    "whoami"
   ]
  },
  {
   "cell_type": "code",
   "execution_count": 8,
   "id": "292e3c54",
   "metadata": {},
   "outputs": [
    {
     "name": "stdout",
     "output_type": "stream",
     "text": [
      "Linux\n"
     ]
    }
   ],
   "source": [
    "%%bash\n",
    "uname"
   ]
  },
  {
   "cell_type": "code",
   "execution_count": 9,
   "id": "061a0f88",
   "metadata": {},
   "outputs": [
    {
     "name": "stdout",
     "output_type": "stream",
     "text": [
      "Linux codespaces-94d38b 6.8.0-1026-azure #31~22.04.1-Ubuntu SMP Thu Mar 20 04:12:50 UTC 2025 x86_64 x86_64 x86_64 GNU/Linux\n"
     ]
    }
   ],
   "source": [
    "%%bash\n",
    "uname -a"
   ]
  },
  {
   "cell_type": "code",
   "execution_count": 10,
   "id": "cf307c06",
   "metadata": {},
   "outputs": [
    {
     "name": "stdout",
     "output_type": "stream",
     "text": [
      "uid=1000(codespace) gid=1000(codespace) groups=1000(codespace),106(ssh),107(docker),989(pipx),990(python),991(oryx),992(golang),993(sdkman),994(rvm),995(php),996(conda),997(nvs),998(nvm),999(hugo)\n"
     ]
    }
   ],
   "source": [
    "%%bash\n",
    "id"
   ]
  },
  {
   "cell_type": "code",
   "execution_count": 11,
   "id": "a34b3ddf",
   "metadata": {},
   "outputs": [
    {
     "name": "stdout",
     "output_type": "stream",
     "text": [
      "1000\n"
     ]
    }
   ],
   "source": [
    "%%bash\n",
    "id -u"
   ]
  },
  {
   "cell_type": "code",
   "execution_count": 12,
   "id": "f762e87e",
   "metadata": {},
   "outputs": [
    {
     "name": "stdout",
     "output_type": "stream",
     "text": [
      "codespace\n"
     ]
    }
   ],
   "source": [
    "%%bash\n",
    "id -u -n"
   ]
  },
  {
   "cell_type": "code",
   "execution_count": 13,
   "id": "3a37b193",
   "metadata": {},
   "outputs": [
    {
     "name": "stdout",
     "output_type": "stream",
     "text": [
      "Filesystem     1K-blocks     Used Available Use% Mounted on\n",
      "overlay         32847680 11485944  19667636  37% /\n",
      "tmpfs              65536        0     65536   0% /dev\n",
      "shm                65536        8     65528   1% /dev/shm\n",
      "/dev/root       30298176 13442980  16838812  45% /vscode\n",
      "/dev/sda1       46127956 19161960  24590420  44% /tmp\n",
      "/dev/loop4      32847680 11485944  19667636  37% /workspaces\n"
     ]
    }
   ],
   "source": [
    "%%bash\n",
    "df"
   ]
  },
  {
   "cell_type": "code",
   "execution_count": 15,
   "id": "3d29210b",
   "metadata": {},
   "outputs": [
    {
     "name": "stdout",
     "output_type": "stream",
     "text": [
      "Filesystem      Size  Used Avail Use% Mounted on\n",
      "overlay          32G   11G   19G  37% /\n",
      "tmpfs            64M     0   64M   0% /dev\n",
      "shm              64M  8.0K   64M   1% /dev/shm\n",
      "/dev/root        29G   13G   17G  45% /vscode\n",
      "/dev/sda1        44G   19G   24G  44% /tmp\n",
      "/dev/loop4       32G   11G   19G  37% /workspaces\n"
     ]
    }
   ],
   "source": [
    "%%bash\n",
    "df -h"
   ]
  },
  {
   "cell_type": "code",
   "execution_count": 14,
   "id": "dcbc4f7e",
   "metadata": {},
   "outputs": [
    {
     "name": "stdout",
     "output_type": "stream",
     "text": [
      "    PID TTY          TIME CMD\n",
      "      1 ?        00:00:00 docker-init\n",
      "      6 ?        00:00:01 sh\n",
      "   1408 ?        00:00:00 sh\n",
      "   2049 ?        00:00:00 sh\n",
      "   2058 ?        00:00:54 node\n",
      "   2218 ?        00:00:38 node\n",
      "   2235 ?        00:00:05 node\n",
      "   2714 ?        00:00:12 node\n",
      "   3214 ?        00:00:00 node\n",
      "   3755 ?        00:00:00 sh\n",
      "   8101 ?        00:00:00 node\n",
      "   8536 ?        00:00:00 pet\n",
      "   9155 ?        00:00:03 node\n",
      "   9549 ?        00:00:00 sh\n",
      "   9851 ?        00:00:26 node\n",
      "   9863 ?        00:00:05 node\n",
      "   9976 ?        00:00:00 pet\n",
      "  10598 ?        00:00:03 node\n",
      "  10686 ?        00:00:00 sh\n",
      "  11259 ?        00:00:00 sh\n",
      "  11675 ?        00:00:13 node\n",
      "  12490 ?        00:00:00 sh\n",
      "  15052 ?        00:00:00 sh\n",
      "  15524 ?        00:00:06 node\n",
      "  16530 ?        00:00:00 sh\n",
      "  20824 ?        00:00:00 sh\n",
      "  21409 ?        00:00:12 node\n",
      "  22453 ?        00:00:00 sh\n",
      "  25569 ?        00:00:15 python\n",
      "  39047 ?        00:00:00 sh\n",
      "  39650 ?        00:00:10 node\n",
      "  40519 ?        00:00:01 python\n",
      "  40590 ?        00:00:00 sh\n",
      "  42286 ?        00:00:00 sh\n",
      "  42938 ?        00:00:06 node\n",
      "  43772 ?        00:00:10 python\n",
      "  43881 ?        00:00:00 sh\n",
      "  59788 ?        00:00:00 sh\n",
      "  60499 ?        00:00:11 node\n",
      "  61285 ?        00:00:08 python\n",
      "  61372 ?        00:00:00 sh\n",
      "  72418 ?        00:00:00 sh\n",
      "  73186 ?        00:00:19 node\n",
      "  74002 ?        00:00:00 python\n",
      "  74106 ?        00:00:00 sh\n",
      "  75858 ?        00:00:00 python\n",
      "  76825 ?        00:00:00 python\n",
      "  78150 ?        00:00:00 python\n",
      "  78257 ?        00:00:00 sh\n",
      "  79912 ?        00:00:00 python\n",
      "  80804 ?        00:00:00 python\n",
      "  81667 ?        00:00:00 python\n",
      "  82597 ?        00:00:00 python\n",
      "  83717 ?        00:00:00 python\n",
      "  87542 ?        00:00:01 node\n",
      "  90236 ?        00:00:00 sh\n",
      "  91196 ?        00:00:22 node\n",
      "  91207 ?        00:00:05 node\n",
      "  91345 ?        00:00:00 pet\n",
      "  91981 ?        00:00:00 python\n",
      "  92036 ?        00:00:10 node\n",
      "  92116 ?        00:00:00 sh\n",
      "  93901 ?        00:00:00 sleep\n",
      "  93902 ?        00:00:00 bash\n",
      "  93903 ?        00:00:00 ps\n"
     ]
    }
   ],
   "source": [
    "%%bash\n",
    "ps"
   ]
  },
  {
   "cell_type": "code",
   "execution_count": 16,
   "id": "00a26d33",
   "metadata": {},
   "outputs": [
    {
     "name": "stdout",
     "output_type": "stream",
     "text": [
      "    PID TTY          TIME CMD\n",
      "      1 ?        00:00:00 docker-init\n",
      "      6 ?        00:00:01 sh\n",
      "    174 ?        00:00:00 sshd\n",
      "    325 ?        00:00:00 dockerd\n",
      "    578 ?        00:00:04 containerd\n",
      "   1408 ?        00:00:00 sh\n",
      "   1431 ?        00:00:00 sh\n",
      "   2049 ?        00:00:00 sh\n",
      "   2058 ?        00:00:54 node\n",
      "   2218 ?        00:00:38 node\n",
      "   2235 ?        00:00:05 node\n",
      "   2714 ?        00:00:12 node\n",
      "   3214 ?        00:00:00 node\n",
      "   3755 ?        00:00:00 sh\n",
      "   3815 ?        00:00:00 sh\n",
      "   8101 ?        00:00:00 node\n",
      "   8536 ?        00:00:00 pet\n",
      "   8730 pts/0    00:00:00 bash\n",
      "   9155 ?        00:00:03 node\n",
      "   9549 ?        00:00:00 sh\n",
      "   9603 ?        00:00:00 sh\n",
      "   9851 ?        00:00:26 node\n",
      "   9863 ?        00:00:05 node\n",
      "   9976 ?        00:00:00 pet\n",
      "  10171 pts/3    00:00:00 bash\n",
      "  10598 ?        00:00:03 node\n",
      "  10686 ?        00:00:00 sh\n",
      "  10710 ?        00:00:00 sh\n",
      "  11259 ?        00:00:00 sh\n",
      "  11316 ?        00:00:00 sh\n",
      "  11675 ?        00:00:13 node\n",
      "  11974 pts/4    00:00:00 bash\n",
      "  12490 ?        00:00:00 sh\n",
      "  12519 ?        00:00:00 sh\n",
      "  15052 ?        00:00:00 sh\n",
      "  15107 ?        00:00:00 sh\n",
      "  15524 ?        00:00:06 node\n",
      "  15868 pts/5    00:00:00 bash\n",
      "  16530 ?        00:00:00 sh\n",
      "  16582 ?        00:00:00 sh\n",
      "  20824 ?        00:00:00 sh\n",
      "  20860 ?        00:00:00 sh\n",
      "  21409 ?        00:00:12 node\n",
      "  21808 pts/6    00:00:00 bash\n",
      "  22453 ?        00:00:00 sh\n",
      "  22476 ?        00:00:00 sh\n",
      "  25569 ?        00:00:15 python\n",
      "  39047 ?        00:00:00 sh\n",
      "  39088 ?        00:00:00 sh\n",
      "  39650 ?        00:00:10 node\n",
      "  40030 pts/1    00:00:00 bash\n",
      "  40519 ?        00:00:01 python\n",
      "  40590 ?        00:00:00 sh\n",
      "  40625 ?        00:00:00 sh\n",
      "  42286 ?        00:00:00 sh\n",
      "  42325 ?        00:00:00 sh\n",
      "  42938 ?        00:00:06 node\n",
      "  43255 pts/7    00:00:00 bash\n",
      "  43772 ?        00:00:10 python\n",
      "  43881 ?        00:00:00 sh\n",
      "  43908 ?        00:00:00 sh\n",
      "  59788 ?        00:00:00 sh\n",
      "  59820 ?        00:00:00 sh\n",
      "  60499 ?        00:00:11 node\n",
      "  60835 pts/8    00:00:00 bash\n",
      "  61285 ?        00:00:08 python\n",
      "  61372 ?        00:00:00 sh\n",
      "  61397 ?        00:00:00 sh\n",
      "  72418 ?        00:00:00 sh\n",
      "  72451 ?        00:00:00 sh\n",
      "  73186 ?        00:00:19 node\n",
      "  73564 pts/9    00:00:00 bash\n",
      "  74002 ?        00:00:00 python\n",
      "  74106 ?        00:00:00 sh\n",
      "  74131 ?        00:00:00 sh\n",
      "  75429 pts/10   00:00:00 bash\n",
      "  75858 ?        00:00:00 python\n",
      "  76296 pts/11   00:00:00 bash\n",
      "  76825 ?        00:00:00 python\n",
      "  77662 pts/12   00:00:00 bash\n",
      "  78150 ?        00:00:00 python\n",
      "  78257 ?        00:00:00 sh\n",
      "  78275 ?        00:00:00 sh\n",
      "  79388 pts/13   00:00:00 bash\n",
      "  79912 ?        00:00:00 python\n",
      "  80317 pts/14   00:00:00 bash\n",
      "  80804 ?        00:00:00 python\n",
      "  81184 pts/15   00:00:00 bash\n",
      "  81667 ?        00:00:00 python\n",
      "  82062 pts/16   00:00:00 bash\n",
      "  82597 ?        00:00:00 python\n",
      "  83199 pts/17   00:00:00 bash\n",
      "  83717 ?        00:00:00 python\n",
      "  84070 pts/18   00:00:00 bash\n",
      "  84957 pts/19   00:00:00 bash\n",
      "  85807 pts/20   00:00:00 bash\n",
      "  86927 pts/21   00:00:00 bash\n",
      "  87542 ?        00:00:01 node\n",
      "  90236 ?        00:00:00 sh\n",
      "  90269 ?        00:00:00 sh\n",
      "  91196 ?        00:00:22 node\n",
      "  91207 ?        00:00:05 node\n",
      "  91345 ?        00:00:00 pet\n",
      "  91525 pts/22   00:00:00 bash\n",
      "  91981 ?        00:00:01 python\n",
      "  92036 ?        00:00:10 node\n",
      "  92116 ?        00:00:00 sh\n",
      "  92136 ?        00:00:00 sh\n",
      "  93961 ?        00:00:00 sleep\n",
      "  93980 ?        00:00:00 bash\n",
      "  93981 ?        00:00:00 ps\n"
     ]
    }
   ],
   "source": [
    "%%bash\n",
    "ps -e"
   ]
  },
  {
   "cell_type": "code",
   "execution_count": 2,
   "id": "ad5ddbfd",
   "metadata": {},
   "outputs": [
    {
     "name": "stdout",
     "output_type": "stream",
     "text": [
      "/home/codespace/.python/current/bin\n",
      "/vscode/bin/linux-x64/17baf841131aa23349f217ca7c570c76ee87b957/bin/remote-cli\n",
      "/home/codespace/.local/bin\n",
      "/home/codespace/.dotnet\n",
      "/home/codespace/nvm/current/bin\n",
      "/home/codespace/.php/current/bin\n",
      "/home/codespace/.python/current/bin\n",
      "/home/codespace/java/current/bin\n",
      "/home/codespace/.ruby/current/bin\n",
      "/home/codespace/.local/bin\n",
      "/usr/local/python/current/bin\n",
      "/usr/local/py-utils/bin\n",
      "/usr/local/jupyter\n",
      "/usr/local/oryx\n",
      "/usr/local/go/bin\n",
      "/go/bin\n",
      "/usr/local/sdkman/bin\n",
      "/usr/local/sdkman/candidates/java/current/bin\n",
      "/usr/local/sdkman/candidates/gradle/current/bin\n",
      "/usr/local/sdkman/candidates/maven/current/bin\n",
      "/usr/local/sdkman/candidates/ant/current/bin\n",
      "/usr/local/rvm/gems/default/bin\n",
      "/usr/local/rvm/gems/default@global/bin\n",
      "/usr/local/rvm/rubies/default/bin\n",
      "/usr/local/share/rbenv/bin\n",
      "/usr/local/php/current/bin\n",
      "/opt/conda/bin\n",
      "/usr/local/nvs\n",
      "/usr/local/share/nvm/current/bin\n",
      "/usr/local/hugo/bin\n",
      "/usr/local/sbin\n",
      "/usr/local/bin\n",
      "/usr/sbin\n",
      "/usr/bin\n",
      "/sbin\n",
      "/bin\n",
      "/usr/share/dotnet\n",
      "/home/codespace/.dotnet/tools\n",
      "/usr/local/rvm/bin\n",
      "/vscode/bin/linux-x64/17baf841131aa23349f217ca7c570c76ee87b957/bin/remote-cli\n",
      "/home/codespace/.local/bin\n",
      "/home/codespace/.dotnet\n",
      "/home/codespace/nvm/current/bin\n",
      "/home/codespace/.php/current/bin\n",
      "/home/codespace/.python/current/bin\n",
      "/home/codespace/java/current/bin\n",
      "/home/codespace/.ruby/current/bin\n",
      "/home/codespace/.local/bin\n",
      "/usr/local/python/current/bin\n",
      "/usr/local/py-utils/bin\n",
      "/usr/local/jupyter\n",
      "/usr/local/oryx\n",
      "/usr/local/go/bin\n",
      "/go/bin\n",
      "/usr/local/sdkman/bin\n",
      "/usr/local/sdkman/candidates/java/current/bin\n",
      "/usr/local/sdkman/candidates/gradle/current/bin\n",
      "/usr/local/sdkman/candidates/maven/current/bin\n",
      "/usr/local/sdkman/candidates/ant/current/bin\n",
      "/usr/local/rvm/gems/default/bin\n",
      "/usr/local/rvm/gems/default@global/bin\n",
      "/usr/local/rvm/rubies/default/bin\n",
      "/usr/local/share/rbenv/bin\n",
      "/usr/local/php/current/bin\n",
      "/opt/conda/bin\n",
      "/usr/local/nvs\n",
      "/usr/local/share/nvm/current/bin\n",
      "/usr/local/hugo/bin\n",
      "/usr/local/sbin\n",
      "/usr/local/bin\n",
      "/usr/sbin\n",
      "/usr/bin\n",
      "/sbin\n",
      "/bin\n",
      "/usr/share/dotnet\n",
      "/home/codespace/.dotnet/tools\n",
      "/usr/local/rvm/bin\n",
      "Hello World!\n"
     ]
    }
   ],
   "source": [
    "%%bash\n",
    "echo $PATH | tr ':' '\\n'\n",
    "echo \"Hello World!\""
   ]
  },
  {
   "cell_type": "code",
   "execution_count": 3,
   "id": "2555cbf0",
   "metadata": {},
   "outputs": [
    {
     "name": "stdout",
     "output_type": "stream",
     "text": [
      "Printing\n",
      "This 2nd line.\n"
     ]
    }
   ],
   "source": [
    "%%bash\n",
    "echo -e \"Printing\\nThis 2nd line.\""
   ]
  },
  {
   "cell_type": "code",
   "execution_count": 4,
   "id": "660013a2",
   "metadata": {},
   "outputs": [
    {
     "name": "stdout",
     "output_type": "stream",
     "text": [
      "Sun Apr 27 21:32:32 UTC 2025\n"
     ]
    }
   ],
   "source": [
    "%%bash\n",
    "date"
   ]
  },
  {
   "cell_type": "code",
   "execution_count": 4,
   "id": "9e9a2df6",
   "metadata": {},
   "outputs": [
    {
     "name": "stdout",
     "output_type": "stream",
     "text": [
      "2025\n",
      "04/27/25\n",
      "The current time is 22:06:06\n"
     ]
    }
   ],
   "source": [
    "%%bash\n",
    "date \"+%Y\"\n",
    "date \"+%D\"\n",
    "date \"+The current time is %T\""
   ]
  },
  {
   "cell_type": "code",
   "execution_count": 47,
   "id": "b1cb54cb",
   "metadata": {},
   "outputs": [
    {
     "name": "stdout",
     "output_type": "stream",
     "text": [
      "bin\n",
      "boot\n",
      "dev\n",
      "etc\n",
      "go\n",
      "home\n",
      "lib\n",
      "lib32\n",
      "lib64\n",
      "libx32\n",
      "media\n",
      "mnt\n",
      "opt\n",
      "proc\n",
      "root\n",
      "run\n",
      "sbin\n",
      "srv\n",
      "sys\n",
      "tmp\n",
      "usr\n",
      "var\n",
      "vscode\n",
      "workspaces\n"
     ]
    }
   ],
   "source": [
    "%%bash\n",
    "ls ../.."
   ]
  },
  {
   "cell_type": "code",
   "execution_count": 48,
   "id": "06ffec30",
   "metadata": {},
   "outputs": [
    {
     "name": "stdout",
     "output_type": "stream",
     "text": [
      "java\n",
      "nvm\n"
     ]
    }
   ],
   "source": [
    "%%bash\n",
    "ls ~"
   ]
  },
  {
   "cell_type": "code",
   "execution_count": 49,
   "id": "83b68958",
   "metadata": {},
   "outputs": [
    {
     "name": "stdout",
     "output_type": "stream",
     "text": [
      "/workspaces/Introduction-to-Shell-Scripting\n"
     ]
    }
   ],
   "source": [
    "%%bash\n",
    "pwd"
   ]
  },
  {
   "cell_type": "code",
   "execution_count": 50,
   "id": "a74c4f5f",
   "metadata": {},
   "outputs": [
    {
     "name": "stdout",
     "output_type": "stream",
     "text": [
      "/home/codespace\n"
     ]
    }
   ],
   "source": [
    "%%bash\n",
    "cd ~\n",
    "pwd"
   ]
  },
  {
   "cell_type": "code",
   "execution_count": 51,
   "id": "759e89c3",
   "metadata": {},
   "outputs": [
    {
     "name": "stderr",
     "output_type": "stream",
     "text": [
      "bash: line 1: cd: ../../workspace/Introduction-to-Shell-Scripting: No such file or directory\n"
     ]
    },
    {
     "name": "stdout",
     "output_type": "stream",
     "text": [
      "/workspaces/Introduction-to-Shell-Scripting\n",
      "README.md\n",
      "linux.ipynb\n",
      "linux.sh\n"
     ]
    }
   ],
   "source": [
    "%%bash\n",
    "cd ../../workspace/Introduction-to-Shell-Scripting\n",
    "pwd\n",
    "ls"
   ]
  },
  {
   "cell_type": "code",
   "execution_count": null,
   "id": "fcefda3c",
   "metadata": {},
   "outputs": [
    {
     "name": "stdout",
     "output_type": "stream",
     "text": [
      "Introduction-to-Shell-Scripting\n",
      "/workspaces/Introduction-to-Shell-Scripting\n"
     ]
    }
   ],
   "source": [
    "%%bash\n",
    "ls .."
   ]
  },
  {
   "cell_type": "code",
   "execution_count": 44,
   "id": "ab4ef0bb",
   "metadata": {},
   "outputs": [
    {
     "name": "stdout",
     "output_type": "stream",
     "text": [
      "README.md\n",
      "linux.ipynb\n",
      "linux.sh\n",
      "/workspaces/Introduction-to-Shell-Scripting\n"
     ]
    }
   ],
   "source": [
    "%%bash\n",
    "ls .\n",
    "pwd ."
   ]
  },
  {
   "cell_type": "code",
   "execution_count": 3,
   "id": "9309bb0b",
   "metadata": {},
   "outputs": [
    {
     "name": "stdout",
     "output_type": "stream",
     "text": [
      "README.md\n",
      "linux.ipynb\n",
      "linux.sh\n",
      "sample\n",
      "sample2\n"
     ]
    }
   ],
   "source": [
    "%%bash\n",
    "mkdir sample\n",
    "mkdir sample2\n",
    "ls"
   ]
  },
  {
   "cell_type": "code",
   "execution_count": 4,
   "id": "c2f83517",
   "metadata": {},
   "outputs": [
    {
     "name": "stdout",
     "output_type": "stream",
     "text": [
      "README.md\n",
      "linux.ipynb\n",
      "linux.sh\n",
      "sample\n",
      "sample.md\n",
      "sample2\n",
      "sample2.md\n"
     ]
    }
   ],
   "source": [
    "%%bash\n",
    "touch sample.md\n",
    "touch sample2.md\n",
    "ls"
   ]
  },
  {
   "cell_type": "code",
   "execution_count": 5,
   "id": "b89137d3",
   "metadata": {},
   "outputs": [
    {
     "name": "stdout",
     "output_type": "stream",
     "text": [
      "sample.md\n"
     ]
    }
   ],
   "source": [
    "%%bash\n",
    "cp sample.md sample\n",
    "ls sample"
   ]
  },
  {
   "cell_type": "code",
   "execution_count": 6,
   "id": "6cda35f3",
   "metadata": {},
   "outputs": [],
   "source": [
    "%%bash\n",
    "cp -r sample sample3"
   ]
  },
  {
   "cell_type": "code",
   "execution_count": 7,
   "id": "54e93727",
   "metadata": {},
   "outputs": [
    {
     "name": "stdout",
     "output_type": "stream",
     "text": [
      "README.md\n",
      "linux.ipynb\n",
      "linux.sh\n",
      "sample\n",
      "sample.md\n",
      "sample2\n",
      "sample2.md\n",
      "sample3\n"
     ]
    }
   ],
   "source": [
    "%%bash\n",
    "ls"
   ]
  },
  {
   "cell_type": "code",
   "execution_count": 8,
   "id": "7a15f259",
   "metadata": {},
   "outputs": [
    {
     "name": "stdout",
     "output_type": "stream",
     "text": [
      "sample.md\n"
     ]
    }
   ],
   "source": [
    "%%bash\n",
    "ls sample"
   ]
  },
  {
   "cell_type": "code",
   "execution_count": 9,
   "id": "a565833b",
   "metadata": {},
   "outputs": [
    {
     "name": "stdout",
     "output_type": "stream",
     "text": [
      "sample.md\n"
     ]
    }
   ],
   "source": [
    "%%bash\n",
    "ls sample3"
   ]
  },
  {
   "cell_type": "code",
   "execution_count": 10,
   "id": "9e5c1761",
   "metadata": {},
   "outputs": [
    {
     "name": "stdout",
     "output_type": "stream",
     "text": [
      "README.md\n",
      "linux.ipynb\n",
      "linux.sh\n",
      "sample\n",
      "sample.md\n",
      "sample2\n",
      "sample3\n"
     ]
    }
   ],
   "source": [
    "%%bash\n",
    "mv sample2.md sample\n",
    "ls"
   ]
  },
  {
   "cell_type": "code",
   "execution_count": 11,
   "id": "8722bf14",
   "metadata": {},
   "outputs": [
    {
     "name": "stdout",
     "output_type": "stream",
     "text": [
      "sample.md\n",
      "sample2.md\n"
     ]
    }
   ],
   "source": [
    "%%bash\n",
    "ls sample"
   ]
  },
  {
   "cell_type": "code",
   "execution_count": 12,
   "id": "8627ab53",
   "metadata": {},
   "outputs": [
    {
     "name": "stdout",
     "output_type": "stream",
     "text": [
      "README.md\n",
      "linux.ipynb\n",
      "linux.sh\n",
      "sample.md\n",
      "sample2\n",
      "sample3\n"
     ]
    }
   ],
   "source": [
    "%%bash\n",
    "mv sample sample3\n",
    "ls"
   ]
  },
  {
   "cell_type": "code",
   "execution_count": 15,
   "id": "143cad35",
   "metadata": {},
   "outputs": [
    {
     "name": "stdout",
     "output_type": "stream",
     "text": [
      "sample\n",
      "sample.md\n"
     ]
    }
   ],
   "source": [
    "%%bash\n",
    "ls sample3"
   ]
  },
  {
   "cell_type": "code",
   "execution_count": 17,
   "id": "00f6ef73",
   "metadata": {},
   "outputs": [
    {
     "name": "stdout",
     "output_type": "stream",
     "text": [
      "README.md\n",
      "linux.ipynb\n",
      "linux.sh\n"
     ]
    }
   ],
   "source": [
    "%%bash\n",
    "rm sample.md\n",
    "rm -r sample3\n",
    "rmdir sample2\n",
    "ls"
   ]
  },
  {
   "cell_type": "code",
   "execution_count": 39,
   "id": "6d6b0aed",
   "metadata": {},
   "outputs": [
    {
     "name": "stdout",
     "output_type": "stream",
     "text": [
      "man -k ."
     ]
    }
   ],
   "source": [
    "%%bash\n",
    "cat linux.sh"
   ]
  },
  {
   "cell_type": "code",
   "execution_count": 17,
   "id": "1ab32604",
   "metadata": {},
   "outputs": [
    {
     "name": "stdout",
     "output_type": "stream",
     "text": [
      "ldap.conf (5)        - LDAP configuration file/environment variables\n",
      "adduser.conf (5)     - configuration file for adduser(8) and addgroup(8) .\n",
      "deluser.conf (5)     - configuration file for deluser(8) and delgroup(8) .\n",
      "mailcap.order (5)    - the mailcap ordering specifications\n",
      "odbc.ini (5)         - unixODBC data sources configuration\n",
      "odbcinst.ini (5)     - An unixODBC drivers configuration\n",
      "30-systemd-environment-d-generator (8) - Load variables specified by environm...\n",
      "as (1)               - the portable GNU assembler.\n",
      "tc-bpf (8)           - BPF programmable classifier and actions for ingress/eg...\n",
      "bpf-helpers (7)      - list of eBPF helper functions\n",
      "Compose (5)          - X client mappings for multi-key input sequences\n",
      "Dpkg (3perl)         - module with core variables\n",
      "Error (3pm)          - Error/exception handling in an OO-ish way\n",
      "FD_CLR (2)           - synchronous I/O multiplexing\n",
      "FD_CLR (3)           - synchronous I/O multiplexing\n",
      "pselect (2)          - synchronous I/O multiplexing\n",
      "FD_ISSET (3)         - synchronous I/O multiplexing\n",
      "FD_SET (3)           - synchronous I/O multiplexing\n",
      "FD_ZERO (3)          - synchronous I/O multiplexing\n",
      "ffi (3)              - Foreign Function Interface\n"
     ]
    }
   ],
   "source": [
    "%%bash\n",
    "man -k . | head -n 20"
   ]
  },
  {
   "cell_type": "code",
   "execution_count": 18,
   "id": "ad925b15",
   "metadata": {},
   "outputs": [
    {
     "name": "stdout",
     "output_type": "stream",
     "text": [
      "BASH(1)                     General Commands Manual                    BASH(1)\n",
      "\n",
      "NAME\n",
      "       bash - GNU Bourne-Again SHell\n",
      "\n",
      "SYNOPSIS\n",
      "       bash [options] [command_string | file]\n",
      "\n",
      "COPYRIGHT\n",
      "       Bash is Copyright (C) 1989-2018 by the Free Software Foundation, Inc.\n",
      "\n",
      "DESCRIPTION\n",
      "       Bash  is  an  sh-compatible  command language interpreter that executes\n",
      "       commands read from the standard input or from a file.  Bash also incor‐\n",
      "       porates useful features from the Korn and C shells (ksh and csh).\n",
      "\n",
      "       Bash  is  intended  to  be a conformant implementation of the Shell and\n",
      "       Utilities portion  of  the  IEEE  POSIX  specification  (IEEE  Standard\n",
      "       1003.1).  Bash can be configured to be POSIX-conformant by default.\n",
      "\n"
     ]
    }
   ],
   "source": [
    "%%bash\n",
    "man bash | head -n 20"
   ]
  },
  {
   "cell_type": "code",
   "execution_count": null,
   "id": "17c05484",
   "metadata": {},
   "outputs": [],
   "source": [
    "%%bash\n",
    "nano -w linux.sh"
   ]
  },
  {
   "cell_type": "code",
   "execution_count": null,
   "id": "7e83e19f",
   "metadata": {},
   "outputs": [],
   "source": [
    "%%bash\n",
    "vim linux.sh"
   ]
  },
  {
   "cell_type": "code",
   "execution_count": null,
   "id": "feeefd7d",
   "metadata": {},
   "outputs": [
    {
     "name": "stdout",
     "output_type": "stream",
     "text": [
      "-rwxrwxrwx 1 codespace codespace 8 Apr 27 20:40 linux.sh\n"
     ]
    }
   ],
   "source": [
    "%%bash\n",
    "ls -l linux.sh"
   ]
  },
  {
   "cell_type": "code",
   "execution_count": 17,
   "id": "cff1a775",
   "metadata": {},
   "outputs": [
    {
     "name": "stdout",
     "output_type": "stream",
     "text": [
      "total 48\n",
      "-rw-rw-rw- 1 codespace root       4582 Apr 27 22:08 README.md\n",
      "-rw-rw-rw- 1 codespace codespace 33557 Apr 28 03:54 linux.ipynb\n",
      "-rwxrwxrwx 1 codespace codespace     8 Apr 27 20:40 linux.sh\n"
     ]
    }
   ],
   "source": [
    "%%bash\n",
    "chmod +x linux.sh\n",
    "ls -l"
   ]
  },
  {
   "cell_type": "code",
   "execution_count": 18,
   "id": "1cbeab42",
   "metadata": {},
   "outputs": [
    {
     "name": "stdout",
     "output_type": "stream",
     "text": [
      "/bin/b2sum\n",
      "/bin/base32\n",
      "/bin/base64\n",
      "/bin/basename\n",
      "/bin/bash\n",
      "/bin/bashbug\n",
      "/bin/bc\n",
      "/bin/bison\n",
      "/bin/bison.yacc\n",
      "/bin/bootctl\n",
      "/bin/bsd-from\n",
      "/bin/bsd-write\n",
      "/bin/bugpoint\n",
      "/bin/bugpoint-10\n",
      "/bin/bunzip2\n",
      "/bin/busctl\n",
      "/bin/bzcat\n",
      "/bin/bzcmp\n",
      "/bin/bzdiff\n",
      "/bin/bzegrep\n",
      "/bin/bzexe\n",
      "/bin/bzfgrep\n",
      "/bin/bzgrep\n",
      "/bin/bzip2\n",
      "/bin/bzip2recover\n",
      "/bin/bzless\n",
      "/bin/bzmore\n"
     ]
    }
   ],
   "source": [
    "%%bash\n",
    "ls /bin/b*"
   ]
  },
  {
   "cell_type": "code",
   "execution_count": 19,
   "id": "c400e831",
   "metadata": {},
   "outputs": [
    {
     "name": "stdout",
     "output_type": "stream",
     "text": [
      "/bin/ar\n",
      "/bin/autoheader\n",
      "/bin/bzip2recover\n",
      "/bin/calendar\n",
      "/bin/cautious-launcher\n",
      "/bin/chattr\n",
      "/bin/clear\n",
      "/bin/ctr\n",
      "/bin/dbus-monitor\n",
      "/bin/deb-systemd-helper\n",
      "/bin/dir\n",
      "/bin/dirmngr\n",
      "/bin/docker\n",
      "/bin/dpkg-maintscript-helper\n",
      "/bin/dpkg-trigger\n",
      "/bin/dpkg-vendor\n",
      "/bin/editor\n",
      "/bin/expr\n",
      "/bin/factor\n",
      "/bin/fish_key_reader\n"
     ]
    }
   ],
   "source": [
    "%%bash\n",
    "ls /bin/*r | head -n 20"
   ]
  },
  {
   "cell_type": "code",
   "execution_count": 21,
   "id": "df700743",
   "metadata": {},
   "outputs": [
    {
     "name": "stdout",
     "output_type": "stream",
     "text": [
      "/workspaces/Introduction-to-Shell-Scripting\n",
      "total 48\n",
      "-rw-rw-rw- 1 codespace root       4582 Apr 27 22:08 README.md\n",
      "-rw-rw-rw- 1 codespace codespace 35486 Apr 28 04:07 linux.ipynb\n",
      "-rwxrwxrwx 1 codespace codespace     8 Apr 27 20:40 linux.sh\n"
     ]
    }
   ],
   "source": [
    "%%bash\n",
    "pwd\n",
    "ls -l"
   ]
  },
  {
   "cell_type": "code",
   "execution_count": 23,
   "id": "29433ba9",
   "metadata": {},
   "outputs": [
    {
     "name": "stdout",
     "output_type": "stream",
     "text": [
      "total 688\n",
      "drwxr-xr-x 1 root root    4096 Apr 27 20:36 .\n",
      "drwxr-xr-x 1 root root    4096 Apr 27 20:34 ..\n",
      "-rw------- 1 root root       0 Oct 11  2024 .pwd.lock\n",
      "drwxr-xr-x 2 root root    4096 Mar 21  2024 ODBCDataSources\n",
      "drwxr-xr-x 2 root root    4096 Mar 17 16:55 PackageKit\n",
      "drwxr-xr-x 1 root root    4096 Mar 17 16:56 X11\n",
      "-rw-r--r-- 1 root root    3028 Oct 11  2024 adduser.conf\n",
      "drwxr-xr-x 1 root root    4096 Mar 28 00:24 alternatives\n",
      "drwxr-xr-x 3 root root    4096 Mar 17 16:56 apache2\n"
     ]
    }
   ],
   "source": [
    "%%bash\n",
    "ls -la /etc | head -n 10"
   ]
  },
  {
   "cell_type": "code",
   "execution_count": 24,
   "id": "6f577b9b",
   "metadata": {},
   "outputs": [
    {
     "name": "stdout",
     "output_type": "stream",
     "text": [
      "Sun Apr 27 20:40:53 UTC 2025\n"
     ]
    }
   ],
   "source": [
    "%%bash\n",
    "date -r linux.sh"
   ]
  },
  {
   "cell_type": "code",
   "execution_count": 2,
   "id": "3d6dfeed",
   "metadata": {},
   "outputs": [
    {
     "name": "stderr",
     "output_type": "stream",
     "text": [
      "find: ‘/etc/polkit-1/localauthority’: Permission denied\n",
      "find: ‘/etc/ssl/private’: Permission denied\n"
     ]
    },
    {
     "ename": "CalledProcessError",
     "evalue": "Command 'b\"find /etc -name \\\\'*.txt\\\\'\\n\"' returned non-zero exit status 1.",
     "output_type": "error",
     "traceback": [
      "\u001b[31m---------------------------------------------------------------------------\u001b[39m",
      "\u001b[31mCalledProcessError\u001b[39m                        Traceback (most recent call last)",
      "\u001b[36mCell\u001b[39m\u001b[36m \u001b[39m\u001b[32mIn[2]\u001b[39m\u001b[32m, line 1\u001b[39m\n\u001b[32m----> \u001b[39m\u001b[32m1\u001b[39m \u001b[43mget_ipython\u001b[49m\u001b[43m(\u001b[49m\u001b[43m)\u001b[49m\u001b[43m.\u001b[49m\u001b[43mrun_cell_magic\u001b[49m\u001b[43m(\u001b[49m\u001b[33;43m'\u001b[39;49m\u001b[33;43mbash\u001b[39;49m\u001b[33;43m'\u001b[39;49m\u001b[43m,\u001b[49m\u001b[43m \u001b[49m\u001b[33;43m'\u001b[39;49m\u001b[33;43m'\u001b[39;49m\u001b[43m,\u001b[49m\u001b[43m \u001b[49m\u001b[33;43m\"\u001b[39;49m\u001b[33;43mfind /etc -name \u001b[39;49m\u001b[38;5;130;43;01m\\\\\u001b[39;49;00m\u001b[33;43m'\u001b[39;49m\u001b[33;43m*.txt\u001b[39;49m\u001b[38;5;130;43;01m\\\\\u001b[39;49;00m\u001b[33;43m'\u001b[39;49m\u001b[38;5;130;43;01m\\n\u001b[39;49;00m\u001b[33;43m\"\u001b[39;49m\u001b[43m)\u001b[49m\n",
      "\u001b[36mFile \u001b[39m\u001b[32m~/.local/lib/python3.12/site-packages/IPython/core/interactiveshell.py:2542\u001b[39m, in \u001b[36mInteractiveShell.run_cell_magic\u001b[39m\u001b[34m(self, magic_name, line, cell)\u001b[39m\n\u001b[32m   2540\u001b[39m \u001b[38;5;28;01mwith\u001b[39;00m \u001b[38;5;28mself\u001b[39m.builtin_trap:\n\u001b[32m   2541\u001b[39m     args = (magic_arg_s, cell)\n\u001b[32m-> \u001b[39m\u001b[32m2542\u001b[39m     result = \u001b[43mfn\u001b[49m\u001b[43m(\u001b[49m\u001b[43m*\u001b[49m\u001b[43margs\u001b[49m\u001b[43m,\u001b[49m\u001b[43m \u001b[49m\u001b[43m*\u001b[49m\u001b[43m*\u001b[49m\u001b[43mkwargs\u001b[49m\u001b[43m)\u001b[49m\n\u001b[32m   2544\u001b[39m \u001b[38;5;66;03m# The code below prevents the output from being displayed\u001b[39;00m\n\u001b[32m   2545\u001b[39m \u001b[38;5;66;03m# when using magics with decorator @output_can_be_silenced\u001b[39;00m\n\u001b[32m   2546\u001b[39m \u001b[38;5;66;03m# when the last Python token in the expression is a ';'.\u001b[39;00m\n\u001b[32m   2547\u001b[39m \u001b[38;5;28;01mif\u001b[39;00m \u001b[38;5;28mgetattr\u001b[39m(fn, magic.MAGIC_OUTPUT_CAN_BE_SILENCED, \u001b[38;5;28;01mFalse\u001b[39;00m):\n",
      "\u001b[36mFile \u001b[39m\u001b[32m~/.local/lib/python3.12/site-packages/IPython/core/magics/script.py:159\u001b[39m, in \u001b[36mScriptMagics._make_script_magic.<locals>.named_script_magic\u001b[39m\u001b[34m(line, cell)\u001b[39m\n\u001b[32m    157\u001b[39m \u001b[38;5;28;01melse\u001b[39;00m:\n\u001b[32m    158\u001b[39m     line = script\n\u001b[32m--> \u001b[39m\u001b[32m159\u001b[39m \u001b[38;5;28;01mreturn\u001b[39;00m \u001b[38;5;28;43mself\u001b[39;49m\u001b[43m.\u001b[49m\u001b[43mshebang\u001b[49m\u001b[43m(\u001b[49m\u001b[43mline\u001b[49m\u001b[43m,\u001b[49m\u001b[43m \u001b[49m\u001b[43mcell\u001b[49m\u001b[43m)\u001b[49m\n",
      "\u001b[36mFile \u001b[39m\u001b[32m~/.local/lib/python3.12/site-packages/IPython/core/magics/script.py:336\u001b[39m, in \u001b[36mScriptMagics.shebang\u001b[39m\u001b[34m(self, line, cell)\u001b[39m\n\u001b[32m    331\u001b[39m \u001b[38;5;28;01mif\u001b[39;00m args.raise_error \u001b[38;5;129;01mand\u001b[39;00m p.returncode != \u001b[32m0\u001b[39m:\n\u001b[32m    332\u001b[39m     \u001b[38;5;66;03m# If we get here and p.returncode is still None, we must have\u001b[39;00m\n\u001b[32m    333\u001b[39m     \u001b[38;5;66;03m# killed it but not yet seen its return code. We don't wait for it,\u001b[39;00m\n\u001b[32m    334\u001b[39m     \u001b[38;5;66;03m# in case it's stuck in uninterruptible sleep. -9 = SIGKILL\u001b[39;00m\n\u001b[32m    335\u001b[39m     rc = p.returncode \u001b[38;5;129;01mor\u001b[39;00m -\u001b[32m9\u001b[39m\n\u001b[32m--> \u001b[39m\u001b[32m336\u001b[39m     \u001b[38;5;28;01mraise\u001b[39;00m CalledProcessError(rc, cell)\n",
      "\u001b[31mCalledProcessError\u001b[39m: Command 'b\"find /etc -name \\\\'*.txt\\\\'\\n\"' returned non-zero exit status 1."
     ]
    }
   ],
   "source": [
    "%%bash\n",
    "find /etc -name \\'*.txt\\'"
   ]
  },
  {
   "cell_type": "code",
   "execution_count": 1,
   "id": "09cae017",
   "metadata": {},
   "outputs": [
    {
     "name": "stdout",
     "output_type": "stream",
     "text": [
      "-rwxrwxrwx 1 codespace codespace 8 Apr 27 20:40 linux.sh\n"
     ]
    }
   ],
   "source": [
    "%%bash\n",
    "ls -l linux.sh"
   ]
  },
  {
   "cell_type": "code",
   "execution_count": 5,
   "id": "00b6b175",
   "metadata": {},
   "outputs": [
    {
     "name": "stdout",
     "output_type": "stream",
     "text": [
      "-rw-rwxrwx 1 codespace codespace 8 Apr 27 20:40 linux.sh\n"
     ]
    }
   ],
   "source": [
    "%%bash\n",
    "chmod u-x linux.sh\n",
    "ls -l linux.sh"
   ]
  },
  {
   "cell_type": "code",
   "execution_count": 7,
   "id": "04f9ba25",
   "metadata": {},
   "outputs": [
    {
     "name": "stdout",
     "output_type": "stream",
     "text": [
      "-rw-r--r-- 1 codespace codespace 8 Apr 27 20:40 linux.sh\n"
     ]
    }
   ],
   "source": [
    "%%bash\n",
    "chmod go-wx linux.sh\n",
    "ls -l linux.sh\n"
   ]
  },
  {
   "cell_type": "code",
   "execution_count": 8,
   "id": "2ccedc94",
   "metadata": {},
   "outputs": [
    {
     "name": "stdout",
     "output_type": "stream",
     "text": [
      "-rwxrw-r-- 1 codespace codespace 8 Apr 27 20:40 linux.sh\n"
     ]
    }
   ],
   "source": [
    "%%bash\n",
    "chmod g+w linux.sh\n",
    "chmod u+x linux.sh\n",
    "ls -l linux.sh"
   ]
  },
  {
   "cell_type": "code",
   "execution_count": 9,
   "id": "40fc09bb",
   "metadata": {},
   "outputs": [
    {
     "name": "stdout",
     "output_type": "stream",
     "text": [
      "total 56\n",
      "-rw-rw-rw- 1 codespace root       4582 Apr 27 22:08 README.md\n",
      "-rw-rw-rw- 1 codespace codespace 43593 Apr 28 08:40 linux.ipynb\n",
      "-rwxrw-r-- 1 codespace codespace     8 Apr 27 20:40 linux.sh\n"
     ]
    }
   ],
   "source": [
    "%%bash\n",
    "ls -l"
   ]
  },
  {
   "cell_type": "code",
   "execution_count": 15,
   "id": "3e3a9fa9",
   "metadata": {},
   "outputs": [],
   "source": [
    "%%bash\n",
    "mkdir sample"
   ]
  },
  {
   "cell_type": "code",
   "execution_count": 17,
   "id": "baf65d55",
   "metadata": {},
   "outputs": [
    {
     "name": "stdout",
     "output_type": "stream",
     "text": [
      "drwxrwxrwx+ 2 codespace codespace 4096 Apr 28 08:44 sample\n"
     ]
    }
   ],
   "source": [
    "%%bash\n",
    "ls -ld sample"
   ]
  },
  {
   "cell_type": "code",
   "execution_count": 18,
   "id": "c779bbc5",
   "metadata": {},
   "outputs": [
    {
     "name": "stdout",
     "output_type": "stream",
     "text": [
      "man -k ."
     ]
    }
   ],
   "source": [
    "%%bash\n",
    "cat linux.sh"
   ]
  },
  {
   "cell_type": "code",
   "execution_count": 23,
   "id": "dc1d06b9",
   "metadata": {},
   "outputs": [
    {
     "name": "stdout",
     "output_type": "stream",
     "text": [
      "::::::::::::::\n",
      "README.md\n",
      "::::::::::::::\n",
      "# Introduction to Linux Commands and Shell Scripting\n",
      "\n",
      "This repository contains a Jupyter Notebook (`linux.ipynb`) that demonstrates various Linux commands and their usage. Below is a preview of the notebook's content:\n",
      "\n",
      "## Notebook Preview\n",
      "\n",
      "1. **Update System Packages**\n",
      "   - Command: `sudo apt update`\n",
      "   - Description: Updates the list of available packages and their versions.\n",
      "\n",
      "2. **Search Manual Pages**\n",
      "   - Command: `man -k .`\n",
      "   - Description: Searches the manual pages for all available commands.\n",
      "\n",
      "3. **View Manual for `ls` Command**\n",
      "   - Command: `man ls`\n",
      "   - Description: Displays the manual for the `ls` command.\n",
      "\n",
      "4. **List Files in Directory**\n",
      "   - Command: `ls`\n",
      "   - Description: Lists all files in the current directory.\n",
      "\n",
      "5. **Install `tldr` Command**\n",
      "   - Command: `npm install -g tldr`\n",
      "   - Description: Installs the `tldr` command for simplified manual pages.\n",
      "\n",
      "6. **View `tldr` for `ls` Command**\n",
      "   - Command: `tldr ls`\n",
      "   - Description: Displays a simplified manual for the `ls` command.\n",
      "\n",
      "7. **Display Current User**\n",
      "   - Command: `whoami`\n",
      "   - Description: Displays the username of the current user.\n",
      "\n",
      "8. **Display System Name**\n",
      "   - Command: `uname`\n",
      "   - Description: Displays the system's name.\n",
      "\n",
      "9. **Display System Information**\n",
      "   - Command: `uname -a`\n",
      "   - Description: Displays detailed system information.\n",
      "\n",
      "10. **Display User ID**\n",
      "    - Command: `id`\n",
      "    - Description: Displays the user ID and group ID of the current user.\n",
      "\n",
      "11. **Display User Numeric ID**\n",
      "    - Command: `id -u`\n",
      "    - Description: Displays the numeric user ID of the current user.\n",
      "\n",
      "12. **Display User Name from Numeric ID**\n",
      "    - Command: `id -u -n`\n",
      "    - Description: Displays the username corresponding to the numeric user ID.\n",
      "\n",
      "13. **Display Disk Usage**\n",
      "    - Command: `df`\n",
      "    - Description: Displays disk space usage.\n",
      "\n",
      "14. **Display Disk Usage (Human-Readable)**\n",
      "    - Command: `df -h`\n",
      "    - Description: Displays disk space usage in a human-readable format.\n",
      "\n",
      "15. **List Running Processes**\n",
      "    - Command: `ps`\n",
      "    - Description: Lists currently running processes.\n",
      "\n",
      "16. **List All Processes**\n",
      "    - Command: `ps -e`\n",
      "    - Description: Lists all processes running on the system.\n",
      "\n",
      "17. **Print Environment Path**\n",
      "    - Command: `echo $PATH | tr ':' '\\n'`\n",
      "    - Description: Prints each directory in the PATH environment variable on a new line.\n",
      "\n",
      "18. **Print a Message**\n",
      "    - Command: `echo \"Hello World!\"`\n",
      "    - Description: Prints the message \"Hello World!\" to the terminal.\n",
      "\n",
      "19. **Print Formatted Text**\n",
      "    - Command: `echo -e \"Printing\\nThis 2nd line.\"`\n",
      "    - Description: Prints formatted text with a newline.\n",
      "\n",
      "20. **Display Current Date**\n",
      "    - Command: `date`\n",
      "    - Description: Displays the current date and time.\n",
      "\n",
      "21. **Display Custom Date Formats**\n",
      "    - Commands:\n",
      "      - `date \"+%Y\"`\n",
      "      - `date \"+%D\"`\n",
      "      - `date \"+The current time is %T\"`\n",
      "    - Description: Displays the year, date, and a custom time format.\n",
      "\n",
      "22. **List Files in Parent Directory**\n",
      "    - Command: `ls ../..`\n",
      "    - Description: Lists files in the parent directory two levels up.\n",
      "\n",
      "23. **List Files in Home Directory**\n",
      "    - Command: `ls ~`\n",
      "    - Description: Lists files in the home directory.\n",
      "\n",
      "24. **Print Current Directory**\n",
      "    - Command: `pwd`\n",
      "    - Description: Prints the current working directory.\n",
      "\n",
      "25. **Change Directory to Home and Print**\n",
      "    - Commands:\n",
      "      - `cd ~`\n",
      "      - `pwd`\n",
      "    - Description: Changes to the home directory and prints the current directory.\n",
      "\n",
      "26. **Navigate to Workspace Directory**\n",
      "    - Commands:\n",
      "      - `cd ../../workspace/Introduction-to-Shell-Scripting`\n",
      "      - `pwd`\n",
      "      - `ls`\n",
      "    - Description: Navigates to the workspace directory, prints the current directory, and lists its contents.\n",
      "\n",
      "27. **List Files in Parent Directory**\n",
      "    - Command: `ls ..`\n",
      "    - Description: Lists files in the parent directory.\n",
      "\n",
      "28. **List Files in Current Directory**\n",
      "    - Commands:\n",
      "      - `ls .`\n",
      "      - `pwd .`\n",
      "    - Description: Lists files in the current directory and prints its path.\n",
      "\n",
      "29. **Create and Remove a Sample Directory**\n",
      "    - Commands:\n",
      "      - `mkdir sample`\n",
      "      - `ls`\n",
      "      - `touch sample.md`\n",
      "      - `ls`\n",
      "      - `rm sample.md`\n",
      "      - `rm -r sample`\n",
      "      - `ls`\n",
      "    - Description: Demonstrates creating, listing, and removing a directory and file.\n",
      "\n",
      "30. **View Shell Script Content**\n",
      "    - Command: `cat linux.sh`\n",
      "    - Description: Displays the content of the `linux.sh` file.\n",
      "\n",
      "31. **View Manual for Bash**\n",
      "    - Command: `man bash`\n",
      "    - Description: Displays the manual for the Bash shell.\n",
      "\n",
      "## Access the Notebook\n",
      "\n",
      "[View the Notebook](linux.ipynb)\n"
     ]
    }
   ],
   "source": [
    "%%bash\n",
    "more README.md"
   ]
  },
  {
   "cell_type": "code",
   "execution_count": 24,
   "id": "56672dd2",
   "metadata": {},
   "outputs": [
    {
     "name": "stdout",
     "output_type": "stream",
     "text": [
      "# Introduction to Linux Commands and Shell Scripting\n",
      "\n",
      "This repository contains a Jupyter Notebook (`linux.ipynb`) that demonstrates various Linux commands and their usage. Below is a preview of the notebook's content:\n",
      "\n",
      "## Notebook Preview\n",
      "\n",
      "1. **Update System Packages**\n",
      "   - Command: `sudo apt update`\n",
      "   - Description: Updates the list of available packages and their versions.\n",
      "\n"
     ]
    }
   ],
   "source": [
    "%%bash\n",
    "head README.md"
   ]
  },
  {
   "cell_type": "code",
   "execution_count": 25,
   "id": "f5863439",
   "metadata": {},
   "outputs": [
    {
     "name": "stdout",
     "output_type": "stream",
     "text": [
      "    - Command: `cat linux.sh`\n",
      "    - Description: Displays the content of the `linux.sh` file.\n",
      "\n",
      "31. **View Manual for Bash**\n",
      "    - Command: `man bash`\n",
      "    - Description: Displays the manual for the Bash shell.\n",
      "\n",
      "## Access the Notebook\n",
      "\n",
      "[View the Notebook](linux.ipynb)\n"
     ]
    }
   ],
   "source": [
    "%%bash\n",
    "tail README.md"
   ]
  },
  {
   "cell_type": "code",
   "execution_count": 26,
   "id": "ba4ee5a4",
   "metadata": {},
   "outputs": [
    {
     "name": "stdout",
     "output_type": "stream",
     "text": [
      "# Introduction to Linux Commands and Shell Scripting\n",
      "\n",
      "This repository contains a Jupyter Notebook (`linux.ipynb`) that demonstrates various Linux commands and their usage. Below is a preview of the notebook's content:\n",
      "\n",
      "## Notebook Preview\n",
      "\n",
      "1. **Update System Packages**\n",
      "   - Command: `sudo apt update`\n",
      "   - Description: Updates the list of available packages and their versions.\n",
      "\n",
      "    - Command: `cat linux.sh`\n",
      "    - Description: Displays the content of the `linux.sh` file.\n",
      "\n",
      "31. **View Manual for Bash**\n",
      "    - Command: `man bash`\n",
      "    - Description: Displays the manual for the Bash shell.\n",
      "\n",
      "## Access the Notebook\n",
      "\n",
      "[View the Notebook](linux.ipynb)\n"
     ]
    }
   ],
   "source": [
    "%%bash\n",
    "head -n 10 README.md\n",
    "tail -n 10 README.md"
   ]
  },
  {
   "cell_type": "code",
   "execution_count": 28,
   "id": "0d8c7e26",
   "metadata": {},
   "outputs": [
    {
     "name": "stdout",
     "output_type": "stream",
     "text": [
      " 150  661 4582 README.md\n",
      "150 README.md\n",
      "661 README.md\n",
      "4582 README.md\n"
     ]
    }
   ],
   "source": [
    "%%bash\n",
    "wc README.md\n",
    "wc -l README.md\n",
    "wc -w README.md\n",
    "wc -c README.md"
   ]
  },
  {
   "cell_type": "code",
   "execution_count": 82,
   "id": "1e98b81d",
   "metadata": {},
   "outputs": [],
   "source": [
    "%%bash\n",
    "mkdir copy\n",
    "cp README.md copy\n",
    "cd copy"
   ]
  },
  {
   "cell_type": "code",
   "execution_count": 86,
   "id": "88f61189",
   "metadata": {},
   "outputs": [
    {
     "name": "stdout",
     "output_type": "stream",
     "text": [
      "/workspaces/Introduction-to-Shell-Scripting/copy\n",
      "README.md\n"
     ]
    }
   ],
   "source": [
    "%%bash\n",
    "cd copy\n",
    "pwd\n",
    "ls"
   ]
  },
  {
   "cell_type": "code",
   "execution_count": 87,
   "id": "6c36ffc0",
   "metadata": {},
   "outputs": [
    {
     "name": "stdout",
     "output_type": "stream",
     "text": [
      "\n",
      "\n",
      "\n",
      "\n",
      "\n",
      "\n",
      "\n",
      "\n",
      "\n",
      "\n"
     ]
    }
   ],
   "source": [
    "%%bash\n",
    "sort README.md | head -n 10"
   ]
  },
  {
   "cell_type": "code",
   "execution_count": 88,
   "id": "58d033f9",
   "metadata": {},
   "outputs": [
    {
     "name": "stdout",
     "output_type": "stream",
     "text": [
      "[View the Notebook](linux.ipynb)\n",
      "This repository contains a Jupyter Notebook (`linux.ipynb`) that demonstrates various Linux commands and their usage. Below is a preview of the notebook's content:\n",
      "9. **Display System Information**\n",
      "8. **Display System Name**\n",
      "7. **Display Current User**\n",
      "6. **View `tldr` for `ls` Command**\n",
      "5. **Install `tldr` Command**\n",
      "4. **List Files in Directory**\n",
      "31. **View Manual for Bash**\n",
      "30. **View Shell Script Content**\n"
     ]
    }
   ],
   "source": [
    "%%bash\n",
    "sort -r README.md | head -n 10"
   ]
  },
  {
   "cell_type": "code",
   "execution_count": 90,
   "id": "d5263dd4",
   "metadata": {},
   "outputs": [
    {
     "name": "stdout",
     "output_type": "stream",
     "text": [
      "# Introduction to Linux Commands and Shell Scripting\n",
      "\n",
      "This repository contains a Jupyter Notebook (`linux.ipynb`) that demonstrates various Linux commands and their usage. Below is a preview of the notebook's content:\n",
      "\n",
      "## Notebook Preview\n",
      "\n",
      "1. **Update System Packages**\n",
      "   - Command: `sudo apt update`\n",
      "   - Description: Updates the list of available packages and their versions.\n",
      "\n"
     ]
    }
   ],
   "source": [
    "%%bash\n",
    "uniq README.md | head -n 10"
   ]
  },
  {
   "cell_type": "code",
   "execution_count": 91,
   "id": "fdbd2452",
   "metadata": {},
   "outputs": [
    {
     "name": "stdout",
     "output_type": "stream",
     "text": [
      "2. **Search Manual Pages**\n",
      "   - Description: Searches the manual pages for all available commands.\n",
      "    - Command: `echo $PATH | tr ':' '\\n'`\n",
      "    - Description: Prints each directory in the PATH environment variable on a new line.\n",
      "    - Command: `echo \"Hello World!\"`\n",
      "    - Command: `echo -e \"Printing\\nThis 2nd line.\"`\n",
      "      - `touch sample.md`\n"
     ]
    }
   ],
   "source": [
    "%%bash\n",
    "grep ch README.md | head -n 10"
   ]
  },
  {
   "cell_type": "code",
   "execution_count": 92,
   "id": "c8956797",
   "metadata": {},
   "outputs": [
    {
     "name": "stdout",
     "output_type": "stream",
     "text": [
      "2. **Search Manual Pages**\n",
      "   - Description: Searches the manual pages for all available commands.\n",
      "    - Command: `echo $PATH | tr ':' '\\n'`\n",
      "    - Description: Prints each directory in the PATH environment variable on a new line.\n",
      "    - Command: `echo \"Hello World!\"`\n",
      "    - Command: `echo -e \"Printing\\nThis 2nd line.\"`\n",
      "25. **Change Directory to Home and Print**\n",
      "    - Description: Changes to the home directory and prints the current directory.\n",
      "      - `touch sample.md`\n"
     ]
    }
   ],
   "source": [
    "%%bash\n",
    "grep -i ch README.md | head -n 10"
   ]
  },
  {
   "cell_type": "code",
   "execution_count": 93,
   "id": "35be0cbc",
   "metadata": {},
   "outputs": [
    {
     "name": "stdout",
     "output_type": "stream",
     "text": [
      " Introdu\n",
      "\n",
      "his repo\n",
      "\n",
      "# Notebo\n",
      "\n",
      ". **Upda\n",
      "  - Comm\n",
      "  - Desc\n",
      "\n"
     ]
    }
   ],
   "source": [
    "%%bash\n",
    "cut -c 2-9 README.md | head -n 10"
   ]
  },
  {
   "cell_type": "code",
   "execution_count": 94,
   "id": "fa885445",
   "metadata": {},
   "outputs": [
    {
     "name": "stdout",
     "output_type": "stream",
     "text": [
      "Introduction\n",
      "\n",
      "repository\n",
      "\n",
      "Notebook\n",
      "\n",
      "**Update\n",
      "\n",
      "\n",
      "\n"
     ]
    }
   ],
   "source": [
    "%%bash\n",
    "cut -d ' ' -f2 README.md | head -n 10"
   ]
  },
  {
   "cell_type": "code",
   "execution_count": null,
   "id": "961cfa6d",
   "metadata": {},
   "outputs": [],
   "source": [
    "%%bash\n",
    "paste first.txt last.txt\n",
    "paste -d \",\" first.txt last.txt"
   ]
  },
  {
   "cell_type": "code",
   "execution_count": 95,
   "id": "b67e5d9a",
   "metadata": {},
   "outputs": [],
   "source": [
    "%%bash\n",
    "rm -r copy"
   ]
  },
  {
   "cell_type": "code",
   "execution_count": 99,
   "id": "d3d963a6",
   "metadata": {},
   "outputs": [
    {
     "name": "stdout",
     "output_type": "stream",
     "text": [
      "/workspaces/Introduction-to-Shell-Scripting\n",
      "README.md\n",
      "linux.ipynb\n",
      "linux.sh\n"
     ]
    }
   ],
   "source": [
    "%%bash\n",
    "pwd\n",
    "ls"
   ]
  },
  {
   "cell_type": "code",
   "execution_count": 4,
   "id": "efd71d00",
   "metadata": {},
   "outputs": [
    {
     "name": "stdout",
     "output_type": "stream",
     "text": [
      "codespaces-94d38b\n",
      "codespaces-94d38b\n",
      "127.0.0.1\n"
     ]
    }
   ],
   "source": [
    "%%bash\n",
    "hostname\n",
    "hostname -s\n",
    "hostname -i"
   ]
  },
  {
   "cell_type": "code",
   "execution_count": 7,
   "id": "b5401e12",
   "metadata": {},
   "outputs": [
    {
     "name": "stdout",
     "output_type": "stream",
     "text": [
      "docker0: flags=4099<UP,BROADCAST,MULTICAST>  mtu 1500\n",
      "        inet 172.17.0.1  netmask 255.255.0.0  broadcast 172.17.255.255\n",
      "        ether 02:42:d9:50:b9:93  txqueuelen 0  (Ethernet)\n",
      "        RX packets 0  bytes 0 (0.0 B)\n",
      "        RX errors 0  dropped 0  overruns 0  frame 0\n",
      "        TX packets 0  bytes 0 (0.0 B)\n",
      "        TX errors 0  dropped 0 overruns 0  carrier 0  collisions 0\n",
      "\n",
      "eth0: flags=4163<UP,BROADCAST,RUNNING,MULTICAST>  mtu 1500\n",
      "        inet 10.0.1.62  netmask 255.255.0.0  broadcast 10.0.255.255\n",
      "        inet6 fe80::20d:3aff:fe07:c1a7  prefixlen 64  scopeid 0x20<link>\n",
      "        ether 00:0d:3a:07:c1:a7  txqueuelen 1000  (Ethernet)\n",
      "        RX packets 16846038  bytes 23478712043 (23.4 GB)\n",
      "        RX errors 0  dropped 0  overruns 0  frame 0\n",
      "        TX packets 358311  bytes 81091604 (81.0 MB)\n",
      "        TX errors 0  dropped 0 overruns 0  carrier 0  collisions 0\n",
      "\n",
      "lo: flags=73<UP,LOOPBACK,RUNNING>  mtu 65536\n",
      "        inet 127.0.0.1  netmask 255.0.0.0\n",
      "        inet6 ::1  prefixlen 128  scopeid 0x10<host>\n",
      "        loop  txqueuelen 1000  (Local Loopback)\n",
      "        RX packets 37080  bytes 53384892 (53.3 MB)\n",
      "        RX errors 0  dropped 0  overruns 0  frame 0\n",
      "        TX packets 37080  bytes 53384892 (53.3 MB)\n",
      "        TX errors 0  dropped 0 overruns 0  carrier 0  collisions 0\n",
      "\n",
      "eth0: flags=4163<UP,BROADCAST,RUNNING,MULTICAST>  mtu 1500\n",
      "        inet 10.0.1.62  netmask 255.255.0.0  broadcast 10.0.255.255\n",
      "        inet6 fe80::20d:3aff:fe07:c1a7  prefixlen 64  scopeid 0x20<link>\n",
      "        ether 00:0d:3a:07:c1:a7  txqueuelen 1000  (Ethernet)\n",
      "        RX packets 16846038  bytes 23478712043 (23.4 GB)\n",
      "        RX errors 0  dropped 0  overruns 0  frame 0\n",
      "        TX packets 358311  bytes 81091604 (81.0 MB)\n",
      "        TX errors 0  dropped 0 overruns 0  carrier 0  collisions 0\n",
      "\n"
     ]
    }
   ],
   "source": [
    "%%bash\n",
    "ifconfig\n",
    "ifconfig eth0\n"
   ]
  },
  {
   "cell_type": "code",
   "execution_count": null,
   "id": "04657153",
   "metadata": {},
   "outputs": [],
   "source": [
    "%%bash\n",
    "ping -c 5 www.google.com"
   ]
  },
  {
   "cell_type": "code",
   "execution_count": 11,
   "id": "d469ce47",
   "metadata": {},
   "outputs": [
    {
     "name": "stderr",
     "output_type": "stream",
     "text": [
      "  % Total    % Received % Xferd  Average Speed   Time    Time     Time  Current\n",
      "                                 Dload  Upload   Total   Spent    Left  Speed\n",
      "  0     0    0     0    0     0      0      0 --:--:-- --:--:-- --:--:--     0"
     ]
    },
    {
     "name": "stdout",
     "output_type": "stream",
     "text": [
      "<!doctype html><html itemscope=\"\" itemtype=\"http://schema.org/WebPage\" lang=\"en-SG\"><head><meta content=\"text/html; charset=UTF-8\" http-equiv=\"Content-Type\"><meta content=\"/images/branding/googleg/1x/googleg_standard_color_128dp.png\" itemprop=\"image\"><title>Google</title><script nonce=\"9ExferGUmprNdOrhQJ2XJA\">(function(){var _g={kEI:'KL0PaICnA7jCjuMP-8aCcA',kEXPI:'0,202792,3497466,691,435,538661,48791,30022,16105,78219,266577,247320,42724,5241681,108,86,36812449,25228681,11556,34827,91885,23054,56232,6749,23879,9138,4600,328,6225,50576,3638,9241,710,15048,15632,17572,12807,28334,29247,16737,2256,1866,4106,352,18880,69,3053,3,2745,3097,4617,5774,4309,2064,7108,14130,14890,1634,2460,801,459,2531,35,3420,3757,1728,183,2278,656,4882,569,2250,3740,342,3905,947,354,658,609,3971,445,99,3506,922,6405,5819,1147,3478,2711,871,983,9,1,3,453,4131,1126,1613,123,704,5,3438,117,2,1,2,2,2,3,1883,399,331,367,1416,182,2092,505,13,3,1503,1229,839,684,263,310,334,601,3,1470,1241,238,31,1100,1264,1738,1162,2456,20,573,627,1,20,727,2219,497,2,78,311,905,681,27,515,537,4,128,243,671,12,1,67,7,160,777,70,212,5,282,237,211,202,178,519,45,19,94,2293,307,61,2,117,1449,1599,52,79,125,732,460,2300,732,2,3,2,2,2,1132,472,68,184,425,63,79,109,915,65,400,270,2,563,165,28,100,820,71,438,3,53,20,61,189,4,71,49,1,1,1620,267,140,93,1,6,24,24,45,519,17,5,139,267,349,334,287,622,63,75,3,1,45,156,504,11,3,194,185,1,22,170,43,221,286,9,86,2,4,40,94,4,34,4,5,183,9,205,93,131,144,121,3,189,352,183,651,14,227,10,162,684,1715,140,444,3,21289842,18,4540,8,5638,1183,5,2009,978,4,1358,473,2445,1619,110,881,3,412,15,463,115,140,1254,606,200,913,8529560',kBL:'ME6P',kOPI:89978449};(function(){var a;((a=window.google)==null?0:a.stvsc)?google.kEI=_g.kEI:window.google=_g;}).call(this);})();(function(){google.sn='webhp';google.kHL='en-SG';})();(function(){\n",
      "var g=this||self;function k(){return window.google&&window.google.kOPI||null};var l,m=[];function n(a){for(var b;a&&(!a.getAttribute||!(b=a.getAttribute(\"eid\")));)a=a.parentNode;return b||l}function p(a){for(var b=null;a&&(!a.getAttribute||!(b=a.getAttribute(\"leid\")));)a=a.parentNode;return b}function q(a){/^http:/i.test(a)&&window.location.protocol===\"https:\"&&(google.ml&&google.ml(Error(\"a\"),!1,{src:a,glmm:1}),a=\"\");return a}\n",
      "function r(a,b,d,c,h){var e=\"\";b.search(\"&ei=\")===-1&&(e=\"&ei=\"+n(c),b.search(\"&lei=\")===-1&&(c=p(c))&&(e+=\"&lei=\"+c));var f=b.search(\"&cshid=\")===-1&&a!==\"slh\";c=\"&zx=\"+Date.now().toString();g._cshid&&f&&(c+=\"&cshid=\"+g._cshid);(d=d())&&(c+=\"&opi=\"+d);return\"/\"+(h||\"gen_204\")+\"?atyp=i&ct=\"+String(a)+\"&cad=\"+(b+e+c)};l=google.kEI;google.getEI=n;google.getLEI=p;google.ml=function(){return null};google.log=function(a,b,d,c,h,e){e=e===void 0?k:e;d||(d=r(a,b,e,c,h));if(d=q(d)){a=new Image;var f=m.length;m[f]=a;a.onerror=a.onload=a.onabort=function(){delete m[f]};a.src=d}};google.logUrl=function(a,b){b=b===void 0?k:b;return r(\"\",a,b)};}).call(this);(function(){google.y={};google.sy=[];var d;(d=google).x||(d.x=function(a,b){if(a)var c=a.id;else{do c=Math.random();while(google.y[c])}google.y[c]=[a,b];return!1});var e;(e=google).sx||(e.sx=function(a){google.sy.push(a)});google.lm=[];var f;(f=google).plm||(f.plm=function(a){google.lm.push.apply(google.lm,a)});google.lq=[];var g;(g=google).load||(g.load=function(a,b,c){google.lq.push([[a],b,c])});var h;(h=google).loadAll||(h.loadAll=function(a,b){google.lq.push([a,b])});google.bx=!1;var k;(k=google).lx||(k.lx=function(){});var l=[],m;(m=google).fce||(m.fce=function(a,b,c,n){l.push([a,b,c,n])});google.qce=l;}).call(this);google.f={};(function(){\n",
      "document.documentElement.addEventListener(\"submit\",function(b){var a;if(a=b.target){var c=a.getAttribute(\"data-submitfalse\");a=c===\"1\"||c===\"q\"&&!a.elements.q.value?!0:!1}else a=!1;a&&(b.preventDefault(),b.stopPropagation())},!0);document.documentElement.addEventListener(\"click\",function(b){var a;a:{for(a=b.target;a&&a!==document.documentElement;a=a.parentElement)if(a.tagName===\"A\"){a=a.getAttribute(\"data-nohref\")===\"1\";break a}a=!1}a&&b.preventDefault()},!0);}).call(this);</script><style>#gbar,#guser{font-size:13px;padding-top:1px !important;}#gbar{height:22px}#guser{padding-bottom:7px !important;text-align:right}.gbh,.gbd{border-top:1px solid #c9d7f1;font-size:1px}.gbh{height:0;position:absolute;top:24px;width:100%}@media all{.gb1{height:22px;margin-right:.5em;vertical-align:top}#gbar{float:left}}a.gb1,a.gb4{text-decoration:underline !important}a.gb1,a.gb4{color:#00c !important}.gbi .gb4{color:#dd8e27 !important}.gbf .gb4{color:#900 !important}\n",
      "</style><style>body,td,a,p,.h{font-family:sans-serif}body{margin:0;overflow-y:scroll}#gog{padding:3px 8px 0}td{line-height:.8em}.gac_m td{line-height:17px}form{margin-bottom:20px}.h{color:#1967d2}em{font-weight:bold;font-style:normal}.lst{height:25px;width:496px}.gsfi,.lst{font:18px sans-serif}.gsfs{font:17px sans-serif}.ds{display:inline-box;display:inline-block;margin:3px 0 4px;margin-left:4px}input{font-family:inherit}body{background:#fff;color:#000}a{color:#681da8;text-decoration:none}a:hover,a:active{text-decoration:underline}.fl a{color:#1967d2}a:visited{color:#681da8}.sblc{padding-top:5px}.sblc a{display:block;margin:2px 0;margin-left:13px;font-size:11px}.lsbb{background:#f8f9fa;border:solid 1px;border-color:#dadce0 #70757a #70757a #dadce0;height:30px}.lsbb{display:block}#WqQANb a{display:inline-block;margin:0 12px}.lsb{background:url(/images/nav_logo229.png) 0 -261px repeat-x;color:#000;border:none;cursor:pointer;height:30px;margin:0;outline:0;font:15px sans-serif;vertical-align:top}.lsb:active{background:#dadce0}.lst:focus{outline:none}</style><script nonce=\"9ExferGUmprNdOrhQJ2XJA\">(function(){window.google.erd={jsr:1,bv:2209,de:true,dpf:'--CcglqpwbTILC3EwmEBFXqb-gi3M08oIUli8JRX3AQ'};\n",
      "var g=this||self;var k,l=(k=g.mei)!=null?k:1,m,p=(m=g.diel)!=null?m:0,q,r=(q=g.sdo)!=null?q:!0,t=0,u,w=google.erd,x=w.jsr;google.ml=function(a,b,d,n,e){e=e===void 0?2:e;b&&(u=a&&a.message);d===void 0&&(d={});d.cad=\"ple_\"+google.ple+\".aple_\"+google.aple;if(google.dl)return google.dl(a,e,d,!0),null;b=d;if(x<0){window.console&&console.error(a,b);if(x===-2)throw a;b=!1}else b=!a||!a.message||a.message===\"Error loading script\"||t>=l&&!n?!1:!0;if(!b)return null;t++;d=d||{};b=encodeURIComponent;var c=\"/gen_204?atyp=i&ei=\"+b(google.kEI);google.kEXPI&&(c+=\"&jexpid=\"+b(google.kEXPI));c+=\"&srcpg=\"+b(google.sn)+\"&jsr=\"+b(w.jsr)+\n",
      "\"&bver=\"+b(w.bv);w.dpf&&(c+=\"&dpf=\"+b(w.dpf));var f=a.lineNumber;f!==void 0&&(c+=\"&line=\"+f);var h=a.fileName;h&&(h.indexOf(\"-extension:/\")>0&&(e=3),c+=\"&script=\"+b(h),f&&h===window.location.href&&(f=document.documentElement.outerHTML.split(\"\\n\")[f],c+=\"&cad=\"+b(f?f.substring(0,300):\"No script found.\")));google.ple&&google.ple===1&&(e=2);c+=\"&jsel=\"+e;for(var v in d)c+=\"&\",c+=b(v),c+=\"=\",c+=b(d[v]);c=c+\"&emsg=\"+b(a.name+\": \"+a.message);c=c+\"&jsst=\"+b(a.stack||\"N/A\");c.length>=12288&&(c=c.substr(0,12288));a=c;n||google.log(0,\"\",a);return a};window.onerror=function(a,b,d,n,e){u!==a&&(a=e instanceof Error?e:Error(a),d===void 0||\"lineNumber\"in a||(a.lineNumber=d),b===void 0||\"fileName\"in a||(a.fileName=b),google.ml(a,!1,void 0,!1,a.name===\"SyntaxError\"||a.message.substring(0,11)===\"SyntaxError\"||a.message.indexOf(\"Script error\")!==-1?3:p));u=null;r&&t>=l&&(window.onerror=null)};})();</script></head><body bgcolor=\"#fff\"><script nonce=\"9ExferGUmprNdOrhQJ2XJA\">(function(){var src='/images/nav_logo229.png';var iesg=false;document.body.onload = function(){window.n && window.n();if (document.images){new Image().src=src;}\n",
      "if (!iesg){document.f&&document.f.q.focus();document.gbqf&&document.gbqf.q.focus();}\n",
      "}\n",
      "})();</script><div id=\"mngb\"><div id=gbar><nobr><b class=gb1>Search</b> <a class=gb1 href=\"https://www.google.com/imghp?hl=en&tab=wi\">Images</a> <a class=gb1 href=\"http://maps.google.com.sg/maps?hl=en&tab=wl\">Maps</a> <a class=gb1 href=\"https://play.google.com/?hl=en&tab=w8\">Play</a> <a class=gb1 href=\"https://www.youtube.com/?tab=w1\">YouTube</a> <a class=gb1 href=\"https://news.google.com/?tab=wn\">News</a> <a class=gb1 href=\"https://mail.google.com/mail/?tab=wm\">Gmail</a> <a class=gb1 href=\"https://drive.google.com/?tab=wo\">Drive</a> <a class=gb1 style=\"text-decoration:none\" href=\"https://www.google.com.sg/intl/en/about/products?tab=wh\"><u>More</u> &raquo;</a></nobr></div><div id=guser width=100%><nobr><span id=gbn class=gbi></span><span id=gbf class=gbf></span><span id=gbe></span><a href=\"http://www.google.com.sg/history/optout?hl=en\" class=gb4>Web History</a> | <a  href=\"/preferences?hl=en\" class=gb4>Settings</a> | <a target=_top id=gb_70 href=\"https://accounts.google.com/ServiceLogin?hl=en&passive=true&continue=http://www.google.com/&ec=GAZAAQ\" class=gb4>Sign in</a></nobr></div><div class=gbh style=left:0></div><div class=gbh style=right:0></div></div><center><br clear=\"all\" id=\"lgpd\"><div id=\"XjhHGf\"><img alt=\"Google\" height=\"92\" src=\"/images/branding/googlelogo/1x/googlelogo_white_background_color_272x92dp.png\" style=\"padding:28px 0 14px\" width=\"272\" id=\"hplogo\"><br><br></div><form action=\"/search\" name=\"f\"><table cellpadding=\"0\" cellspacing=\"0\"><tr valign=\"top\"><td width=\"25%\">&nbsp;</td><td align=\"center\" nowrap=\"\"><input name=\"ie\" value=\"ISO-8859-1\" type=\"hidden\"><input value=\"en-SG\" name=\"hl\" type=\"hidden\"><input name=\"source\" type=\"hidden\" value=\"hp\"><input name=\"biw\" type=\"hidden\"><input name=\"bih\" type=\"hidden\"><div class=\"ds\" style=\"height:32px;margin:4px 0\"><input class=\"lst\" style=\"margin:0;padding:5px 8px 0 6px;vertical-align:top;color:#000\" autocomplete=\"off\" value=\"\" title=\"Google Search\" maxlength=\"2048\" name=\"q\" size=\"57\"></div><br style=\"line-height:0\"><span class=\"ds\"><span class=\"lsbb\"><input class=\"lsb\" value=\"Google Search\" name=\"btnG\" type=\"submit\"></span></span><span class=\"ds\"><span class=\"lsbb\"><input class=\"lsb\" id=\"tsuid_KL0PaICnA7jCjuMP-8aCcA_1\" value=\"I'm Feeling Lucky\" name=\"btnI\" type=\"submit\"><script nonce=\"9ExferGUmprNdOrhQJ2XJA\">(function(){var id='tsuid_KL0PaICnA7jCjuMP-8aCcA_1';document.getElementById(id).onclick = function(){if (this.form.q.value){this.checked = 1;if (this.form.iflsig)this.form.iflsig.disabled = false;}\n",
      "else top.location='/doodles/';};})();</script><input value=\"ACkRmUkAAAAAaA_LOJOZATeNXo4b3wiCnQaa38ODf_lg\" name=\"iflsig\" type=\"hidden\"></span></span></td><td class=\"fl sblc\" align=\"left\" nowrap=\"\" width=\"25%\"><a href=\"/advanced_search?hl=en-SG&amp;authuser=0\">Advanced search</a></td></tr></table><input id=\"gbv\" name=\"gbv\" type=\"hidden\" value=\"1\"><script nonce=\"9ExferGUmprNdOrhQJ2XJA\">(function(){var a,b=\"1\";if(document&&document.getElementById)if(typeof XMLHttpRequest!=\"undefined\")b=\"2\";else if(typeof ActiveXObject!=\"undefined\"){var c,d,e=[\"MSXML2.XMLHTTP.6.0\",\"MSXML2.XMLHTTP.3.0\",\"MSXML2.XMLHTTP\",\"Microsoft.XMLHTTP\"];for(c=0;d=e[c++];)try{new ActiveXObject(d),b=\"2\"}catch(h){}}a=b;if(a==\"2\"&&location.search.indexOf(\"&gbv=2\")==-1){var f=google.gbvu,g=document.getElementById(\"gbv\");g&&(g.value=a);f&&window.setTimeout(function(){location.href=f},0)};}).call(this);</script></form><div style=\"font-size:83%;min-height:3.5em\"><br><div id=\"gws-output-pages-elements-homepage_additional_languages__als\"><style>#gws-output-pages-elements-homepage_additional_languages__als{font-size:small;margin-bottom:24px}#SIvCob{color:#474747;display:inline-block;line-height:28px;}#SIvCob a{padding:0 3px;}.H6sW5{display:inline-block;margin:0 2px;white-space:nowrap}.z4hgWe{display:inline-block;margin:0 2px}</style><div id=\"SIvCob\">Google offered in:  <a href=\"http://www.google.com/setprefs?sig=0_flujQtg-mdZDgQiAzebBLQ2XWZw%3D&amp;hl=zh-CN&amp;source=homepage&amp;sa=X&amp;ved=0ahUKEwiA27HAovuMAxU4oWMGHXujAA4Q2ZgBCAY\">&#31616;&#20307;&#20013;&#25991;</a>    <a href=\"http://www.google.com/setprefs?sig=0_flujQtg-mdZDgQiAzebBLQ2XWZw%3D&amp;hl=ms&amp;source=homepage&amp;sa=X&amp;ved=0ahUKEwiA27HAovuMAxU4oWMGHXujAA4Q2ZgBCAc\">Bahasa Melayu</a>    <a href=\"http://www.google.com/setprefs?sig=0_flujQtg-mdZDgQiAzebBLQ2XWZw%3D&amp;hl=ta&amp;source=homepage&amp;sa=X&amp;ved=0ahUKEwiA27HAovuMAxU4oWMGHXujAA4Q2ZgBCAg\">&#2980;&#2990;&#3007;&#2996;&#3021;</a>  </div></div></div><span id=\"footer\"><div style=\"font-size:10pt\"><div style=\"margin:19px auto;text-align:center\" id=\"WqQANb\"><a href=\"/intl/en/ads/\">Advertising</a><a href=\"http://www.google.com.sg/intl/en/services/\">Business Solutions</a><a href=\"/intl/en/about.html\">About Google</a><a href=\"http://www.google.com/setprefdomain?prefdom=SG&amp;prev=http://www.google.com.sg/&amp;sig=K_keLMRlX8DNtjDicZl5rnWRCkK_k%3D\">Google.com.sg</a></div></div><p style=\"font-size:8pt;color:#70757a\">&copy; 2025 - <a href=\"/intl/en/policies/privacy/\">Privacy</a> - <a href=\"/intl/en/policies/terms/\">Terms</a></p></span></center><script nonce=\"9ExferGUmprNdOrhQJ2XJA\">(function(){window.google.cdo={height:757,width:1440};(function(){var a=window.innerWidth,b=window.innerHeight;if(!a||!b){var c=window.document,d=c.compatMode==\"CSS1Compat\"?c.documentElement:c.body;a=d.clientWidth;b=d.clientHeight}if(a&&b&&(a!=google.cdo.width||b!=google.cdo.height)){var e=google,f=e.log,g=\"/client_204?&atyp=i&biw=\"+a+\"&bih=\"+b+\"&ei=\"+google.kEI,h=\"\",k=window.google&&window.google.kOPI||null;k&&(h+=\"&opi=\"+k);f.call(e,\"\",\"\",g+h)};}).call(this);})();(function(){google.xjs={basecomb:'/xjs/_/js/k\\x3dxjs.hp.en.QeKBjFMJtLg.es5.O/ck\\x3dxjs.hp.dRTmF_e_nOI.L.X.O/am\\x3dAAAAAAAQAAAAAAAAAAAAAAAAAAAAAAAAAABggBIYBAEAgAAAAAAAAAAALACAAEoJABwIAAAARQAIEAAAAAAAAAAAAAEAAEAEAEAAAAABAAAA4jsCAAKwEAAALw/d\\x3d1/ed\\x3d1/dg\\x3d0/ujg\\x3d1/rs\\x3dACT90oE_Epolf08K-ymUGFnhEK_7vWuiww',basecss:'/xjs/_/ss/k\\x3dxjs.hp.dRTmF_e_nOI.L.X.O/am\\x3dAAAAAAAQAAAAAAAAAAAAAAAAAAAAAAAAAABggBIYAAEAgAAAAAAAAAAALACAAEoBAAAIAAAARQAIEAAAAAAAAAAAAAEAAEAEAEAAAAAB/rs\\x3dACT90oFtnBoYMS-6Q0iBYP6hhRdskzGAIg',basejs:'/xjs/_/js/k\\x3dxjs.hp.en.QeKBjFMJtLg.es5.O/am\\x3dAAAAAAAAAAAAAAAAAAAAAAAAAAAAAAAAAAAAAAAABAAAAAAAAAAAAAAAIAAAAAAIABwAAAAAAAAAAAAAAAAAAAAAAAAAAAAAAAAAAAAAAAAA4jsCAAKwEAAALw/dg\\x3d0/rs\\x3dACT90oEYleWF9ocbOMCmnbGIRega9MXk8Q',excm:[]};})();(function(){var u='/xjs/_/js/k\\x3dxjs.hp.en.QeKBjFMJtLg.es5.O/am\\x3dAAAAAAAAAAAAAAAAAAAAAAAAAAAAAAAAAAAAAAAABAAAAAAAAAAAAAAAIAAAAAAIABwAAAAAAAAAAAAAAAAAAAAAAAAAAAAAAAAAAAAAAAAA4jsCAAKwEAAALw/d\\x3d1/ed\\x3d1/dg\\x3d3/rs\\x3dACT90oEYleWF9ocbOMCmnbGIRega9MXk8Q/m\\x3dsb_he,d';var st=1;var amd=1000;var mmd=0;var pod=true;var pop=true;var povp=false;var fp='';\n",
      "var e=this||self;function f(){var b,a,d;if(a=b=(a=window.google)==null?void 0:(d=a.ia)==null?void 0:d.r.B2Jtyd)a=b.m,a=a===1||a===5;return a&&b.cbfd!=null&&b.cbvi!=null?b:void 0};function g(){var b=[u];if(!google.dp){for(var a=0;a<b.length;a++){var d=b[a],c=document.createElement(\"link\");c.as=\"script\";c.href=d;c.rel=\"preload\";document.body.appendChild(c)}google.dp=!0}};google.ps===void 0&&(google.ps=[]);function h(){var b=u,a=function(){};google.lx=google.stvsc?a:function(){k(b);google.lx=a};google.bx||google.lx()}function l(b,a){a&&(b.src=a);fp&&(b.fetchPriority=fp);var d=b.onload;b.onload=function(c){d&&d(c);google.ps=google.ps.filter(function(G){return b!==G})};google.ps.push(b);document.body.appendChild(b)}google.as=l;function k(b){google.timers&&google.timers.load&&google.tick&&google.tick(\"load\",\"xjsls\");var a=document.createElement(\"script\");a.onerror=function(){google.ple=1};a.onload=function(){google.ple=0};google.xjsus=void 0;l(a,b);google.aple=-1;google.dp=!0};function m(b){var a=b.getAttribute(\"jscontroller\");return(a===\"UBXHI\"||a===\"R3fhkb\"||a===\"TSZEqd\")&&b.hasAttribute(\"data-src\")}function n(){for(var b=document.getElementsByTagName(\"img\"),a=0,d=b.length;a<d;a++){var c=b[a];if(c.hasAttribute(\"data-lzy_\")&&Number(c.getAttribute(\"data-atf\"))&1&&!m(c))return!0}return!1}for(var p=document.getElementsByTagName(\"img\"),q=0,r=p.length;q<r;++q){var t=p[q];Number(t.getAttribute(\"data-atf\"))&1&&m(t)&&(t.src=t.getAttribute(\"data-src\"))};var w,x,y,z,A,B,C,D,E,F;function H(){google.xjsu=u;e._F_jsUrl=u;A=function(){h()};w=!1;x=(st===1||st===3)&&!!google.caft&&!n();y=f();z=(st===2||st===3)&&!!y&&!n();B=pod;C=pop;D=povp;E=pop&&document.prerendering||povp&&document.hidden;F=D?\"visibilitychange\":\"prerenderingchange\"}function I(){w||x||z||E||(A(),w=!0)}\n",
      "setTimeout(function(){google&&google.tick&&google.timers&&google.timers.load&&google.tick(\"load\",\"xjspls\");H();if(x||z||E){if(x){var b=function(){x=!1;I()};google.caft(b);window.setTimeout(b,amd)}z&&(b=function(){z=!1;I()},y.cbvi.push(b),window.setTimeout(b,mmd));if(E){var a=function(){(D?document.hidden:document.prerendering)||(E=!1,I(),document.removeEventListener(F,a))};document.addEventListener(F,a,{passive:!0})}if(B||C||D)w||g()}else A()},0);})();window._ = window._ || {};window._DumpException = _._DumpException = function(e){throw e;};window._s = window._s || {};_s._DumpException = _._DumpException;window._qs = window._qs || {};_qs._DumpException = _._DumpException;(function(){var t=[0,16384,0,0,0,0,0,100966424,33028,536870914,0,771754768,608775,155760,282624,1026,264,67108864,67108864,537919489,81924,797442048,270532643,1068,47];window._F_toggles = window._xjs_toggles = t;})();window._F_installCss = window._F_installCss || function(css){};(function(){google.jl={bfl:0,dw:false,ine:false,injs:'none',injt:0,injth:0,injv2:false,ubm:false,uwp:true,vs:false};})();(function(){var pmc='{\\x22d\\x22:{},\\x22sb_he\\x22:{\\x22client\\x22:\\x22heirloom-hp\\x22,\\x22dh\\x22:true,\\x22ds\\x22:\\x22\\x22,\\x22host\\x22:\\x22google.com\\x22,\\x22jsonp\\x22:true,\\x22msgs\\x22:{\\x22cibl\\x22:\\x22Clear Search\\x22,\\x22dym\\x22:\\x22Did you mean:\\x22,\\x22lcky\\x22:\\x22I\\\\u0026#39;m Feeling Lucky\\x22,\\x22lml\\x22:\\x22Learn more\\x22,\\x22psrc\\x22:\\x22This search was removed from your \\\\u003Ca href\\x3d\\\\\\x22/history\\\\\\x22\\\\u003EWeb History\\\\u003C/a\\\\u003E\\x22,\\x22psrl\\x22:\\x22Remove\\x22,\\x22sbit\\x22:\\x22Search by image\\x22,\\x22srch\\x22:\\x22Google Search\\x22},\\x22ovr\\x22:{},\\x22pq\\x22:\\x22\\x22,\\x22rfs\\x22:[],\\x22stok\\x22:\\x22wHUio2wZy7rUOh4B06qbeJ64zfQ\\x22}}';google.pmc=JSON.parse(pmc);})();</script>       </body></html>"
     ]
    },
    {
     "name": "stderr",
     "output_type": "stream",
     "text": [
      "100 17859    0 17859    0     0   379k      0 --:--:-- --:--:-- --:--:--  379k\n"
     ]
    }
   ],
   "source": [
    "%%bash\n",
    "curl www.google.com"
   ]
  },
  {
   "cell_type": "code",
   "execution_count": 12,
   "id": "2079a1bb",
   "metadata": {},
   "outputs": [
    {
     "name": "stderr",
     "output_type": "stream",
     "text": [
      "  % Total    % Received % Xferd  Average Speed   Time    Time     Time  Current\n",
      "                                 Dload  Upload   Total   Spent    Left  Speed\n",
      "100 17800    0 17800    0     0      0      0 --:--:-- --:--:-- --:--:--     0 0     0   354k      0 --:--:-- --:--:-- --:--:--  354k\n"
     ]
    },
    {
     "name": "stdout",
     "output_type": "stream",
     "text": [
      "<!doctype html><html itemscope=\"\" itemtype=\"http://schema.org/WebPage\" lang=\"en-SG\"><head><meta content=\"text/html; charset=UTF-8\" http-equiv=\"Content-Type\"><meta content=\"/images/branding/googleg/1x/googleg_standard_color_128dp.png\" itemprop=\"image\"><title>Google</title><script nonce=\"-VGLrgc8hRfsVGUsDnT7KA\">(function(){var _g={kEI:'B74PaNzhLryc4-EPnoXq0Qs',kEXPI:'0,202791,47,3497432,1114,587452,46127,344796,247319,42725,5241682,107,85,36812450,25228681,11555,39641,5,166346,6756,23879,7033,2106,4599,328,6225,24366,39799,6748,8301,15631,30379,28334,48295,1608,203,4105,353,2265,16206,409,5870,1908,1192,4614,5774,4309,12342,10960,4719,4905,5265,1635,2808,453,459,2531,35,3420,3757,1727,184,2932,4884,569,2251,1938,6041,954,354,658,609,2438,1525,453,99,3505,11687,1460,1148,3477,1516,1195,264,391,213,1453,105,96,3637,292,1126,603,1010,123,704,5,3438,117,2,1,2,2,2,3,1883,1097,1419,179,2597,13,3,2753,1502,263,310,334,1490,2,580,903,1,339,238,31,1098,1266,551,1186,1044,1100,825,477,174,593,626,1,20,727,984,1547,185,2,78,1216,681,27,198,299,347,203,4,135,239,685,1,75,7,393,87,450,73,208,5,27,255,237,198,216,177,519,45,15,98,882,696,1022,61,2,1567,1649,946,451,1871,3,103,317,6,732,2,3,2,2,2,701,431,724,425,63,79,109,339,576,65,94,582,2,309,247,194,99,755,66,72,437,3,54,18,60,39,1232,504,429,140,124,64,934,363,380,158,86,623,63,69,3,1,145,565,12,3,190,212,170,454,191,10,4,32,95,4,151,288,93,131,142,127,3,537,183,387,6,258,10,403,376,67,78,1,7,1577,293,144,21290285,18,4540,8,4178,1461,1182,5,2009,983,4,1332,493,4067,108,881,3,412,15,464,93,1415,563,243,8682288',kBL:'ME6P',kOPI:89978449};(function(){var a;((a=window.google)==null?0:a.stvsc)?google.kEI=_g.kEI:window.google=_g;}).call(this);})();(function(){google.sn='webhp';google.kHL='en-SG';})();(function(){\n",
      "var g=this||self;function k(){return window.google&&window.google.kOPI||null};var l,m=[];function n(a){for(var b;a&&(!a.getAttribute||!(b=a.getAttribute(\"eid\")));)a=a.parentNode;return b||l}function p(a){for(var b=null;a&&(!a.getAttribute||!(b=a.getAttribute(\"leid\")));)a=a.parentNode;return b}function q(a){/^http:/i.test(a)&&window.location.protocol===\"https:\"&&(google.ml&&google.ml(Error(\"a\"),!1,{src:a,glmm:1}),a=\"\");return a}\n",
      "function r(a,b,d,c,h){var e=\"\";b.search(\"&ei=\")===-1&&(e=\"&ei=\"+n(c),b.search(\"&lei=\")===-1&&(c=p(c))&&(e+=\"&lei=\"+c));var f=b.search(\"&cshid=\")===-1&&a!==\"slh\";c=\"&zx=\"+Date.now().toString();g._cshid&&f&&(c+=\"&cshid=\"+g._cshid);(d=d())&&(c+=\"&opi=\"+d);return\"/\"+(h||\"gen_204\")+\"?atyp=i&ct=\"+String(a)+\"&cad=\"+(b+e+c)};l=google.kEI;google.getEI=n;google.getLEI=p;google.ml=function(){return null};google.log=function(a,b,d,c,h,e){e=e===void 0?k:e;d||(d=r(a,b,e,c,h));if(d=q(d)){a=new Image;var f=m.length;m[f]=a;a.onerror=a.onload=a.onabort=function(){delete m[f]};a.src=d}};google.logUrl=function(a,b){b=b===void 0?k:b;return r(\"\",a,b)};}).call(this);(function(){google.y={};google.sy=[];var d;(d=google).x||(d.x=function(a,b){if(a)var c=a.id;else{do c=Math.random();while(google.y[c])}google.y[c]=[a,b];return!1});var e;(e=google).sx||(e.sx=function(a){google.sy.push(a)});google.lm=[];var f;(f=google).plm||(f.plm=function(a){google.lm.push.apply(google.lm,a)});google.lq=[];var g;(g=google).load||(g.load=function(a,b,c){google.lq.push([[a],b,c])});var h;(h=google).loadAll||(h.loadAll=function(a,b){google.lq.push([a,b])});google.bx=!1;var k;(k=google).lx||(k.lx=function(){});var l=[],m;(m=google).fce||(m.fce=function(a,b,c,n){l.push([a,b,c,n])});google.qce=l;}).call(this);google.f={};(function(){\n",
      "document.documentElement.addEventListener(\"submit\",function(b){var a;if(a=b.target){var c=a.getAttribute(\"data-submitfalse\");a=c===\"1\"||c===\"q\"&&!a.elements.q.value?!0:!1}else a=!1;a&&(b.preventDefault(),b.stopPropagation())},!0);document.documentElement.addEventListener(\"click\",function(b){var a;a:{for(a=b.target;a&&a!==document.documentElement;a=a.parentElement)if(a.tagName===\"A\"){a=a.getAttribute(\"data-nohref\")===\"1\";break a}a=!1}a&&b.preventDefault()},!0);}).call(this);</script><style>#gbar,#guser{font-size:13px;padding-top:1px !important;}#gbar{height:22px}#guser{padding-bottom:7px !important;text-align:right}.gbh,.gbd{border-top:1px solid #c9d7f1;font-size:1px}.gbh{height:0;position:absolute;top:24px;width:100%}@media all{.gb1{height:22px;margin-right:.5em;vertical-align:top}#gbar{float:left}}a.gb1,a.gb4{text-decoration:underline !important}a.gb1,a.gb4{color:#00c !important}.gbi .gb4{color:#dd8e27 !important}.gbf .gb4{color:#900 !important}\n",
      "</style><style>body,td,a,p,.h{font-family:sans-serif}body{margin:0;overflow-y:scroll}#gog{padding:3px 8px 0}td{line-height:.8em}.gac_m td{line-height:17px}form{margin-bottom:20px}.h{color:#1967d2}em{font-weight:bold;font-style:normal}.lst{height:25px;width:496px}.gsfi,.lst{font:18px sans-serif}.gsfs{font:17px sans-serif}.ds{display:inline-box;display:inline-block;margin:3px 0 4px;margin-left:4px}input{font-family:inherit}body{background:#fff;color:#000}a{color:#681da8;text-decoration:none}a:hover,a:active{text-decoration:underline}.fl a{color:#1967d2}a:visited{color:#681da8}.sblc{padding-top:5px}.sblc a{display:block;margin:2px 0;margin-left:13px;font-size:11px}.lsbb{background:#f8f9fa;border:solid 1px;border-color:#dadce0 #70757a #70757a #dadce0;height:30px}.lsbb{display:block}#WqQANb a{display:inline-block;margin:0 12px}.lsb{background:url(/images/nav_logo229.png) 0 -261px repeat-x;color:#000;border:none;cursor:pointer;height:30px;margin:0;outline:0;font:15px sans-serif;vertical-align:top}.lsb:active{background:#dadce0}.lst:focus{outline:none}</style><script nonce=\"-VGLrgc8hRfsVGUsDnT7KA\">(function(){window.google.erd={jsr:1,bv:2209,de:true,dpf:'--CcglqpwbTILC3EwmEBFXqb-gi3M08oIUli8JRX3AQ'};\n",
      "var g=this||self;var k,l=(k=g.mei)!=null?k:1,m,p=(m=g.diel)!=null?m:0,q,r=(q=g.sdo)!=null?q:!0,t=0,u,w=google.erd,x=w.jsr;google.ml=function(a,b,d,n,e){e=e===void 0?2:e;b&&(u=a&&a.message);d===void 0&&(d={});d.cad=\"ple_\"+google.ple+\".aple_\"+google.aple;if(google.dl)return google.dl(a,e,d,!0),null;b=d;if(x<0){window.console&&console.error(a,b);if(x===-2)throw a;b=!1}else b=!a||!a.message||a.message===\"Error loading script\"||t>=l&&!n?!1:!0;if(!b)return null;t++;d=d||{};b=encodeURIComponent;var c=\"/gen_204?atyp=i&ei=\"+b(google.kEI);google.kEXPI&&(c+=\"&jexpid=\"+b(google.kEXPI));c+=\"&srcpg=\"+b(google.sn)+\"&jsr=\"+b(w.jsr)+\n",
      "\"&bver=\"+b(w.bv);w.dpf&&(c+=\"&dpf=\"+b(w.dpf));var f=a.lineNumber;f!==void 0&&(c+=\"&line=\"+f);var h=a.fileName;h&&(h.indexOf(\"-extension:/\")>0&&(e=3),c+=\"&script=\"+b(h),f&&h===window.location.href&&(f=document.documentElement.outerHTML.split(\"\\n\")[f],c+=\"&cad=\"+b(f?f.substring(0,300):\"No script found.\")));google.ple&&google.ple===1&&(e=2);c+=\"&jsel=\"+e;for(var v in d)c+=\"&\",c+=b(v),c+=\"=\",c+=b(d[v]);c=c+\"&emsg=\"+b(a.name+\": \"+a.message);c=c+\"&jsst=\"+b(a.stack||\"N/A\");c.length>=12288&&(c=c.substr(0,12288));a=c;n||google.log(0,\"\",a);return a};window.onerror=function(a,b,d,n,e){u!==a&&(a=e instanceof Error?e:Error(a),d===void 0||\"lineNumber\"in a||(a.lineNumber=d),b===void 0||\"fileName\"in a||(a.fileName=b),google.ml(a,!1,void 0,!1,a.name===\"SyntaxError\"||a.message.substring(0,11)===\"SyntaxError\"||a.message.indexOf(\"Script error\")!==-1?3:p));u=null;r&&t>=l&&(window.onerror=null)};})();</script></head><body bgcolor=\"#fff\"><script nonce=\"-VGLrgc8hRfsVGUsDnT7KA\">(function(){var src='/images/nav_logo229.png';var iesg=false;document.body.onload = function(){window.n && window.n();if (document.images){new Image().src=src;}\n",
      "if (!iesg){document.f&&document.f.q.focus();document.gbqf&&document.gbqf.q.focus();}\n",
      "}\n",
      "})();</script><div id=\"mngb\"><div id=gbar><nobr><b class=gb1>Search</b> <a class=gb1 href=\"https://www.google.com/imghp?hl=en&tab=wi\">Images</a> <a class=gb1 href=\"http://maps.google.com.sg/maps?hl=en&tab=wl\">Maps</a> <a class=gb1 href=\"https://play.google.com/?hl=en&tab=w8\">Play</a> <a class=gb1 href=\"https://www.youtube.com/?tab=w1\">YouTube</a> <a class=gb1 href=\"https://news.google.com/?tab=wn\">News</a> <a class=gb1 href=\"https://mail.google.com/mail/?tab=wm\">Gmail</a> <a class=gb1 href=\"https://drive.google.com/?tab=wo\">Drive</a> <a class=gb1 style=\"text-decoration:none\" href=\"https://www.google.com.sg/intl/en/about/products?tab=wh\"><u>More</u> &raquo;</a></nobr></div><div id=guser width=100%><nobr><span id=gbn class=gbi></span><span id=gbf class=gbf></span><span id=gbe></span><a href=\"http://www.google.com.sg/history/optout?hl=en\" class=gb4>Web History</a> | <a  href=\"/preferences?hl=en\" class=gb4>Settings</a> | <a target=_top id=gb_70 href=\"https://accounts.google.com/ServiceLogin?hl=en&passive=true&continue=http://www.google.com/&ec=GAZAAQ\" class=gb4>Sign in</a></nobr></div><div class=gbh style=left:0></div><div class=gbh style=right:0></div></div><center><br clear=\"all\" id=\"lgpd\"><div id=\"XjhHGf\"><img alt=\"Google\" height=\"92\" src=\"/images/branding/googlelogo/1x/googlelogo_white_background_color_272x92dp.png\" style=\"padding:28px 0 14px\" width=\"272\" id=\"hplogo\"><br><br></div><form action=\"/search\" name=\"f\"><table cellpadding=\"0\" cellspacing=\"0\"><tr valign=\"top\"><td width=\"25%\">&nbsp;</td><td align=\"center\" nowrap=\"\"><input name=\"ie\" value=\"ISO-8859-1\" type=\"hidden\"><input value=\"en-SG\" name=\"hl\" type=\"hidden\"><input name=\"source\" type=\"hidden\" value=\"hp\"><input name=\"biw\" type=\"hidden\"><input name=\"bih\" type=\"hidden\"><div class=\"ds\" style=\"height:32px;margin:4px 0\"><input class=\"lst\" style=\"margin:0;padding:5px 8px 0 6px;vertical-align:top;color:#000\" autocomplete=\"off\" value=\"\" title=\"Google Search\" maxlength=\"2048\" name=\"q\" size=\"57\"></div><br style=\"line-height:0\"><span class=\"ds\"><span class=\"lsbb\"><input class=\"lsb\" value=\"Google Search\" name=\"btnG\" type=\"submit\"></span></span><span class=\"ds\"><span class=\"lsbb\"><input class=\"lsb\" id=\"tsuid_B74PaNzhLryc4-EPnoXq0Qs_1\" value=\"I'm Feeling Lucky\" name=\"btnI\" type=\"submit\"><script nonce=\"-VGLrgc8hRfsVGUsDnT7KA\">(function(){var id='tsuid_B74PaNzhLryc4-EPnoXq0Qs_1';document.getElementById(id).onclick = function(){if (this.form.q.value){this.checked = 1;if (this.form.iflsig)this.form.iflsig.disabled = false;}\n"
     ]
    }
   ],
   "source": [
    "%%bash\n",
    "curl www.google.com -o google.txt\n",
    "head -n 10 google.txt "
   ]
  },
  {
   "cell_type": "code",
   "execution_count": 13,
   "id": "0b9b9219",
   "metadata": {},
   "outputs": [
    {
     "name": "stderr",
     "output_type": "stream",
     "text": [
      "--2025-04-28 17:45:10--  https://www.w3.org/TR/PNG/iso_8859-1.txt\n",
      "Resolving www.w3.org (www.w3.org)... 104.18.23.19, 104.18.22.19, 2606:4700::6812:1713, ...\n",
      "Connecting to www.w3.org (www.w3.org)|104.18.23.19|:443... connected.\n",
      "HTTP request sent, awaiting response... 301 Moved Permanently\n",
      "Location: https://www.w3.org/TR/png/iso_8859-1.txt [following]\n",
      "--2025-04-28 17:45:11--  https://www.w3.org/TR/png/iso_8859-1.txt\n",
      "Reusing existing connection to www.w3.org:443.\n",
      "HTTP request sent, awaiting response... 200 OK\n",
      "Length: unspecified [text/plain]\n",
      "Saving to: ‘iso_8859-1.txt’\n",
      "\n",
      "     0K .....                                                  8.91M=0.001s\n",
      "\n",
      "2025-04-28 17:45:11 (8.91 MB/s) - ‘iso_8859-1.txt’ saved [6121]\n",
      "\n"
     ]
    }
   ],
   "source": [
    "%%bash\n",
    "wget https://www.w3.org/TR/PNG/iso_8859-1.txt"
   ]
  },
  {
   "cell_type": "code",
   "execution_count": 20,
   "id": "3a0f4ff3",
   "metadata": {},
   "outputs": [
    {
     "name": "stderr",
     "output_type": "stream",
     "text": [
      "  % Total    % Received % Xferd  Average Speed   Time    Time     Time  Current\n",
      "                                 Dload  Upload   Total   Spent    Left  Speed\n",
      "100   248    0   248    0     0   6200      0 --:--:-- --:--:-- --:--:--  6200\n"
     ]
    }
   ],
   "source": [
    "%%bash\n",
    "curl -O https://www.w3.org/TR/PNG/iso_8859-1.txt"
   ]
  },
  {
   "cell_type": "code",
   "execution_count": 15,
   "id": "3b6c1b32",
   "metadata": {},
   "outputs": [
    {
     "name": "stdout",
     "output_type": "stream",
     "text": [
      "The following are the graphical (non-control) characters defined by\n",
      "ISO 8859-1 (1987).  Descriptions in words aren't all that helpful,\n",
      "but they're the best we can do in text.  A graphics file illustrating\n",
      "the character set should be available from the same archive as this\n",
      "file.\n",
      "\n",
      "Hex Description                 Hex Description\n",
      "\n",
      "20  SPACE\n",
      "21  EXCLAMATION MARK            A1  INVERTED EXCLAMATION MARK\n"
     ]
    }
   ],
   "source": [
    "%%bash\n",
    "head -n 10 iso_8859-1.txt"
   ]
  },
  {
   "cell_type": "code",
   "execution_count": 14,
   "id": "71483cb6",
   "metadata": {},
   "outputs": [
    {
     "name": "stdout",
     "output_type": "stream",
     "text": [
      "README.md\n",
      "google.txt\n",
      "iso_8859-1.txt\n",
      "linux.ipynb\n",
      "linux.sh\n"
     ]
    }
   ],
   "source": [
    "%%bash\n",
    "ls"
   ]
  },
  {
   "cell_type": "code",
   "execution_count": 16,
   "id": "7e7e8584",
   "metadata": {},
   "outputs": [
    {
     "name": "stderr",
     "output_type": "stream",
     "text": [
      "\n",
      "WARNING: apt does not have a stable CLI interface. Use with caution in scripts.\n",
      "\n"
     ]
    },
    {
     "name": "stdout",
     "output_type": "stream",
     "text": [
      "Hit:1 https://repo.anaconda.com/pkgs/misc/debrepo/conda stable InRelease\n",
      "Get:2 https://packages.microsoft.com/repos/microsoft-ubuntu-focal-prod focal InRelease [3632 B]\n",
      "Get:3 https://dl.yarnpkg.com/debian stable InRelease [17.1 kB]\n",
      "Get:4 http://security.ubuntu.com/ubuntu focal-security InRelease [128 kB]\n",
      "Get:5 https://packages.microsoft.com/repos/microsoft-ubuntu-focal-prod focal/main amd64 Packages [349 kB]\n",
      "Hit:6 http://archive.ubuntu.com/ubuntu focal InRelease\n",
      "Get:7 http://archive.ubuntu.com/ubuntu focal-updates InRelease [128 kB]\n",
      "Get:9 http://security.ubuntu.com/ubuntu focal-security/restricted amd64 Packages [4611 kB]\n",
      "Hit:8 https://packagecloud.io/github/git-lfs/ubuntu focal InRelease\n",
      "Get:10 http://archive.ubuntu.com/ubuntu focal-backports InRelease [128 kB]\n",
      "Get:11 http://archive.ubuntu.com/ubuntu focal-updates/universe amd64 Packages [1599 kB]\n",
      "Get:12 http://security.ubuntu.com/ubuntu focal-security/universe amd64 Packages [1308 kB]\n",
      "Get:13 http://security.ubuntu.com/ubuntu focal-security/main amd64 Packages [4356 kB]\n",
      "Get:14 http://archive.ubuntu.com/ubuntu focal-updates/main amd64 Packages [4846 kB]\n",
      "Fetched 17.5 MB in 4s (4535 kB/s)\n",
      "Reading package lists...\n",
      "Building dependency tree...\n",
      "Reading state information...\n",
      "53 packages can be upgraded. Run 'apt list --upgradable' to see them.\n"
     ]
    }
   ],
   "source": [
    "%%bash\n",
    "sudo apt update"
   ]
  },
  {
   "cell_type": "code",
   "execution_count": 17,
   "id": "1f038064",
   "metadata": {},
   "outputs": [
    {
     "name": "stderr",
     "output_type": "stream",
     "text": [
      "\n",
      "WARNING: apt does not have a stable CLI interface. Use with caution in scripts.\n",
      "\n"
     ]
    },
    {
     "name": "stdout",
     "output_type": "stream",
     "text": [
      "Reading package lists...\n",
      "Building dependency tree...\n",
      "Reading state information...\n",
      "iproute2 is already the newest version (5.5.0-1ubuntu1).\n",
      "0 upgraded, 0 newly installed, 0 to remove and 53 not upgraded.\n"
     ]
    }
   ],
   "source": [
    "%%bash\n",
    "sudo apt install iproute2"
   ]
  },
  {
   "cell_type": "code",
   "execution_count": 18,
   "id": "c5bb4db8",
   "metadata": {},
   "outputs": [
    {
     "name": "stdout",
     "output_type": "stream",
     "text": [
      "1: lo: <LOOPBACK,UP,LOWER_UP> mtu 65536 qdisc noqueue state UNKNOWN group default qlen 1000\n",
      "    link/loopback 00:00:00:00:00:00 brd 00:00:00:00:00:00\n",
      "    inet 127.0.0.1/8 scope host lo\n",
      "       valid_lft forever preferred_lft forever\n",
      "    inet6 ::1/128 scope host \n",
      "       valid_lft forever preferred_lft forever\n",
      "2: eth0: <BROADCAST,MULTICAST,UP,LOWER_UP> mtu 1500 qdisc mq state UP group default qlen 1000\n",
      "    link/ether 00:0d:3a:07:c1:a7 brd ff:ff:ff:ff:ff:ff\n",
      "    inet 10.0.1.62/16 metric 100 brd 10.0.255.255 scope global eth0\n",
      "       valid_lft forever preferred_lft forever\n",
      "    inet6 fe80::20d:3aff:fe07:c1a7/64 scope link \n",
      "       valid_lft forever preferred_lft forever\n",
      "3: docker0: <NO-CARRIER,BROADCAST,MULTICAST,UP> mtu 1500 qdisc noqueue state DOWN group default \n",
      "    link/ether 02:42:d9:50:b9:93 brd ff:ff:ff:ff:ff:ff\n",
      "    inet 172.17.0.1/16 brd 172.17.255.255 scope global docker0\n",
      "       valid_lft forever preferred_lft forever\n"
     ]
    }
   ],
   "source": [
    "%%bash\n",
    "ip a"
   ]
  },
  {
   "cell_type": "code",
   "execution_count": 19,
   "id": "16461dc8",
   "metadata": {},
   "outputs": [
    {
     "name": "stdout",
     "output_type": "stream",
     "text": [
      "2: eth0: <BROADCAST,MULTICAST,UP,LOWER_UP> mtu 1500 qdisc mq state UP group default qlen 1000\n",
      "    link/ether 00:0d:3a:07:c1:a7 brd ff:ff:ff:ff:ff:ff\n",
      "    inet 10.0.1.62/16 metric 100 brd 10.0.255.255 scope global eth0\n",
      "       valid_lft forever preferred_lft forever\n",
      "    inet6 fe80::20d:3aff:fe07:c1a7/64 scope link \n",
      "       valid_lft forever preferred_lft forever\n"
     ]
    }
   ],
   "source": [
    "%%bash\n",
    "ip addr show eth0"
   ]
  },
  {
   "cell_type": "code",
   "execution_count": 62,
   "id": "80b421cb",
   "metadata": {},
   "outputs": [
    {
     "name": "stdout",
     "output_type": "stream",
     "text": [
      "/workspaces\n",
      ".:\n",
      "Introduction-to-Shell-Scripting\n",
      "\n",
      "./Introduction-to-Shell-Scripting:\n",
      "README.md\n",
      "google.txt\n",
      "introToShell.tar\n",
      "introToShell.tar.gz\n",
      "iso_8859-1.txt\n",
      "linux.ipynb\n",
      "linux.sh\n"
     ]
    }
   ],
   "source": [
    "%%bash\n",
    "cd /workspaces\n",
    "pwd\n",
    "ls -R"
   ]
  },
  {
   "cell_type": "code",
   "execution_count": 39,
   "id": "795efa6d",
   "metadata": {},
   "outputs": [
    {
     "name": "stderr",
     "output_type": "stream",
     "text": [
      "bash: line 1: cd: ../../workspace/Introduction-to-Shell-Scripting: No such file or directory\n"
     ]
    },
    {
     "name": "stdout",
     "output_type": "stream",
     "text": [
      "/workspaces/Introduction-to-Shell-Scripting\n"
     ]
    }
   ],
   "source": [
    "%%bash\n",
    "cd ../../workspace/Introduction-to-Shell-Scripting\n",
    "pwd"
   ]
  },
  {
   "cell_type": "code",
   "execution_count": 65,
   "id": "97b57f5b",
   "metadata": {},
   "outputs": [
    {
     "name": "stdout",
     "output_type": "stream",
     "text": [
      "README.md\n",
      "google.txt\n",
      "iso_8859-1.txt\n",
      "linux.ipynb\n",
      "linux.sh\n"
     ]
    }
   ],
   "source": [
    "%%bash\n",
    "ls"
   ]
  },
  {
   "cell_type": "code",
   "execution_count": 66,
   "id": "f376a9e9",
   "metadata": {},
   "outputs": [
    {
     "name": "stdout",
     "output_type": "stream",
     "text": [
      "/workspaces/Introduction-to-Shell-Scripting\n"
     ]
    },
    {
     "name": "stderr",
     "output_type": "stream",
     "text": [
      "tar: Removing leading `../../' from member names\n",
      "tar: ../../workspaces/Introduction-to-Shell-Scripting/introToShell.tar: file is the archive; not dumped\n"
     ]
    }
   ],
   "source": [
    "%%bash\n",
    "pwd\n",
    "tar -cf introToShell.tar ../../workspaces/Introduction-to-Shell-Scripting"
   ]
  },
  {
   "cell_type": "code",
   "execution_count": 67,
   "id": "5ae9d687",
   "metadata": {},
   "outputs": [
    {
     "name": "stdout",
     "output_type": "stream",
     "text": [
      "README.md\n",
      "google.txt\n",
      "introToShell.tar\n",
      "iso_8859-1.txt\n",
      "linux.ipynb\n",
      "linux.sh\n"
     ]
    }
   ],
   "source": [
    "%%bash\n",
    "ls"
   ]
  },
  {
   "cell_type": "code",
   "execution_count": 68,
   "id": "29cb3c28",
   "metadata": {},
   "outputs": [
    {
     "name": "stderr",
     "output_type": "stream",
     "text": [
      "tar: Removing leading `../../' from member names\n"
     ]
    },
    {
     "name": "stderr",
     "output_type": "stream",
     "text": [
      "tar: ../../workspaces/Introduction-to-Shell-Scripting/introToShell.tar.gz: file changed as we read it\n"
     ]
    },
    {
     "ename": "CalledProcessError",
     "evalue": "Command 'b'tar -czf introToShell.tar.gz ../../workspaces/Introduction-to-Shell-Scripting\\n'' returned non-zero exit status 1.",
     "output_type": "error",
     "traceback": [
      "\u001b[31m---------------------------------------------------------------------------\u001b[39m",
      "\u001b[31mCalledProcessError\u001b[39m                        Traceback (most recent call last)",
      "\u001b[36mCell\u001b[39m\u001b[36m \u001b[39m\u001b[32mIn[68]\u001b[39m\u001b[32m, line 1\u001b[39m\n\u001b[32m----> \u001b[39m\u001b[32m1\u001b[39m \u001b[43mget_ipython\u001b[49m\u001b[43m(\u001b[49m\u001b[43m)\u001b[49m\u001b[43m.\u001b[49m\u001b[43mrun_cell_magic\u001b[49m\u001b[43m(\u001b[49m\u001b[33;43m'\u001b[39;49m\u001b[33;43mbash\u001b[39;49m\u001b[33;43m'\u001b[39;49m\u001b[43m,\u001b[49m\u001b[43m \u001b[49m\u001b[33;43m'\u001b[39;49m\u001b[33;43m'\u001b[39;49m\u001b[43m,\u001b[49m\u001b[43m \u001b[49m\u001b[33;43m'\u001b[39;49m\u001b[33;43mtar -czf introToShell.tar.gz ../../workspaces/Introduction-to-Shell-Scripting\u001b[39;49m\u001b[38;5;130;43;01m\\n\u001b[39;49;00m\u001b[33;43m'\u001b[39;49m\u001b[43m)\u001b[49m\n",
      "\u001b[36mFile \u001b[39m\u001b[32m~/.local/lib/python3.12/site-packages/IPython/core/interactiveshell.py:2542\u001b[39m, in \u001b[36mInteractiveShell.run_cell_magic\u001b[39m\u001b[34m(self, magic_name, line, cell)\u001b[39m\n\u001b[32m   2540\u001b[39m \u001b[38;5;28;01mwith\u001b[39;00m \u001b[38;5;28mself\u001b[39m.builtin_trap:\n\u001b[32m   2541\u001b[39m     args = (magic_arg_s, cell)\n\u001b[32m-> \u001b[39m\u001b[32m2542\u001b[39m     result = \u001b[43mfn\u001b[49m\u001b[43m(\u001b[49m\u001b[43m*\u001b[49m\u001b[43margs\u001b[49m\u001b[43m,\u001b[49m\u001b[43m \u001b[49m\u001b[43m*\u001b[49m\u001b[43m*\u001b[49m\u001b[43mkwargs\u001b[49m\u001b[43m)\u001b[49m\n\u001b[32m   2544\u001b[39m \u001b[38;5;66;03m# The code below prevents the output from being displayed\u001b[39;00m\n\u001b[32m   2545\u001b[39m \u001b[38;5;66;03m# when using magics with decorator @output_can_be_silenced\u001b[39;00m\n\u001b[32m   2546\u001b[39m \u001b[38;5;66;03m# when the last Python token in the expression is a ';'.\u001b[39;00m\n\u001b[32m   2547\u001b[39m \u001b[38;5;28;01mif\u001b[39;00m \u001b[38;5;28mgetattr\u001b[39m(fn, magic.MAGIC_OUTPUT_CAN_BE_SILENCED, \u001b[38;5;28;01mFalse\u001b[39;00m):\n",
      "\u001b[36mFile \u001b[39m\u001b[32m~/.local/lib/python3.12/site-packages/IPython/core/magics/script.py:159\u001b[39m, in \u001b[36mScriptMagics._make_script_magic.<locals>.named_script_magic\u001b[39m\u001b[34m(line, cell)\u001b[39m\n\u001b[32m    157\u001b[39m \u001b[38;5;28;01melse\u001b[39;00m:\n\u001b[32m    158\u001b[39m     line = script\n\u001b[32m--> \u001b[39m\u001b[32m159\u001b[39m \u001b[38;5;28;01mreturn\u001b[39;00m \u001b[38;5;28;43mself\u001b[39;49m\u001b[43m.\u001b[49m\u001b[43mshebang\u001b[49m\u001b[43m(\u001b[49m\u001b[43mline\u001b[49m\u001b[43m,\u001b[49m\u001b[43m \u001b[49m\u001b[43mcell\u001b[49m\u001b[43m)\u001b[49m\n",
      "\u001b[36mFile \u001b[39m\u001b[32m~/.local/lib/python3.12/site-packages/IPython/core/magics/script.py:336\u001b[39m, in \u001b[36mScriptMagics.shebang\u001b[39m\u001b[34m(self, line, cell)\u001b[39m\n\u001b[32m    331\u001b[39m \u001b[38;5;28;01mif\u001b[39;00m args.raise_error \u001b[38;5;129;01mand\u001b[39;00m p.returncode != \u001b[32m0\u001b[39m:\n\u001b[32m    332\u001b[39m     \u001b[38;5;66;03m# If we get here and p.returncode is still None, we must have\u001b[39;00m\n\u001b[32m    333\u001b[39m     \u001b[38;5;66;03m# killed it but not yet seen its return code. We don't wait for it,\u001b[39;00m\n\u001b[32m    334\u001b[39m     \u001b[38;5;66;03m# in case it's stuck in uninterruptible sleep. -9 = SIGKILL\u001b[39;00m\n\u001b[32m    335\u001b[39m     rc = p.returncode \u001b[38;5;129;01mor\u001b[39;00m -\u001b[32m9\u001b[39m\n\u001b[32m--> \u001b[39m\u001b[32m336\u001b[39m     \u001b[38;5;28;01mraise\u001b[39;00m CalledProcessError(rc, cell)\n",
      "\u001b[31mCalledProcessError\u001b[39m: Command 'b'tar -czf introToShell.tar.gz ../../workspaces/Introduction-to-Shell-Scripting\\n'' returned non-zero exit status 1."
     ]
    }
   ],
   "source": [
    "%%bash\n",
    "tar -czf introToShell.tar.gz ../../workspaces/Introduction-to-Shell-Scripting"
   ]
  },
  {
   "cell_type": "code",
   "execution_count": 69,
   "id": "92edfd10",
   "metadata": {},
   "outputs": [
    {
     "name": "stdout",
     "output_type": "stream",
     "text": [
      "README.md\n",
      "google.txt\n",
      "introToShell.tar\n",
      "introToShell.tar.gz\n",
      "iso_8859-1.txt\n",
      "linux.ipynb\n",
      "linux.sh\n"
     ]
    }
   ],
   "source": [
    "%%bash\n",
    "ls"
   ]
  },
  {
   "cell_type": "code",
   "execution_count": 109,
   "id": "d1fe86a4",
   "metadata": {},
   "outputs": [
    {
     "name": "stdout",
     "output_type": "stream",
     "text": [
      "workspaces/Introduction-to-Shell-Scripting/\n",
      "workspaces/Introduction-to-Shell-Scripting/linux.sh\n",
      "workspaces/Introduction-to-Shell-Scripting/.linux.sh.swp\n",
      "workspaces/Introduction-to-Shell-Scripting/.git/\n",
      "workspaces/Introduction-to-Shell-Scripting/.git/refs/\n",
      "workspaces/Introduction-to-Shell-Scripting/.git/refs/tags/\n",
      "workspaces/Introduction-to-Shell-Scripting/.git/refs/heads/\n",
      "workspaces/Introduction-to-Shell-Scripting/.git/refs/heads/main\n",
      "workspaces/Introduction-to-Shell-Scripting/.git/refs/remotes/\n",
      "workspaces/Introduction-to-Shell-Scripting/.git/refs/remotes/origin/\n",
      "workspaces/Introduction-to-Shell-Scripting/.git/refs/remotes/origin/HEAD\n",
      "workspaces/Introduction-to-Shell-Scripting/.git/refs/remotes/origin/main\n",
      "workspaces/Introduction-to-Shell-Scripting/.git/config\n",
      "workspaces/Introduction-to-Shell-Scripting/.git/description\n",
      "workspaces/Introduction-to-Shell-Scripting/.git/HEAD\n",
      "workspaces/Introduction-to-Shell-Scripting/.git/FETCH_HEAD\n",
      "workspaces/Introduction-to-Shell-Scripting/.git/branches/\n",
      "workspaces/Introduction-to-Shell-Scripting/.git/logs/\n",
      "workspaces/Introduction-to-Shell-Scripting/.git/logs/refs/\n",
      "workspaces/Introduction-to-Shell-Scripting/.git/logs/refs/heads/\n"
     ]
    }
   ],
   "source": [
    "%%bash\n",
    "tar -tf introToShell.tar | head -n 20"
   ]
  },
  {
   "cell_type": "code",
   "execution_count": 108,
   "id": "323b1306",
   "metadata": {},
   "outputs": [],
   "source": [
    "%%bash\n",
    "tar -xf introToShell.tar workspaces"
   ]
  },
  {
   "cell_type": "code",
   "execution_count": null,
   "id": "6535d4dd",
   "metadata": {},
   "outputs": [
    {
     "name": "stdout",
     "output_type": "stream",
     "text": [
      "/workspaces/Introduction-to-Shell-Scripting\n",
      ".:\n",
      "README.md\n",
      "google.txt\n",
      "introToShell.tar\n",
      "introToShell.tar.gz\n",
      "iso_8859-1.txt\n",
      "linux.ipynb\n",
      "linux.sh\n",
      "workspaces\n",
      "\n",
      "./workspaces:\n",
      "Introduction-to-Shell-Scripting\n",
      "\n",
      "./workspaces/Introduction-to-Shell-Scripting:\n",
      "README.md\n",
      "google.txt\n",
      "iso_8859-1.txt\n",
      "linux.ipynb\n",
      "linux.sh\n"
     ]
    }
   ],
   "source": [
    "%%bash\n",
    "pwd\n",
    "ls -R"
   ]
  },
  {
   "cell_type": "code",
   "execution_count": null,
   "id": "475ff1e0",
   "metadata": {},
   "outputs": [],
   "source": [
    "%%bash\n",
    "rm -r workspaces"
   ]
  },
  {
   "cell_type": "code",
   "execution_count": 114,
   "id": "cab6d06e",
   "metadata": {},
   "outputs": [
    {
     "name": "stdout",
     "output_type": "stream",
     "text": [
      "README.md\n",
      "google.txt\n",
      "introToShell.tar\n",
      "introToShell.tar.gz\n",
      "iso_8859-1.txt\n",
      "linux.ipynb\n",
      "linux.sh\n"
     ]
    }
   ],
   "source": [
    "%%bash\n",
    "ls"
   ]
  },
  {
   "cell_type": "code",
   "execution_count": 115,
   "id": "9e7096cb",
   "metadata": {},
   "outputs": [],
   "source": [
    "%%bash\n",
    "tar -xzf introToShell.tar.gz workspaces"
   ]
  },
  {
   "cell_type": "code",
   "execution_count": 117,
   "id": "2ff8c18e",
   "metadata": {},
   "outputs": [
    {
     "name": "stdout",
     "output_type": "stream",
     "text": [
      ".:\n",
      "README.md\n",
      "google.txt\n",
      "introToShell.tar\n",
      "introToShell.tar.gz\n",
      "iso_8859-1.txt\n",
      "linux.ipynb\n",
      "linux.sh\n",
      "workspaces\n",
      "\n",
      "./workspaces:\n",
      "Introduction-to-Shell-Scripting\n",
      "\n",
      "./workspaces/Introduction-to-Shell-Scripting:\n",
      "README.md\n",
      "google.txt\n",
      "introToShell.tar\n",
      "introToShell.tar.gz\n",
      "iso_8859-1.txt\n",
      "linux.ipynb\n",
      "linux.sh\n"
     ]
    }
   ],
   "source": [
    "%%bash\n",
    "ls -R"
   ]
  },
  {
   "cell_type": "code",
   "execution_count": 118,
   "id": "7f934a9e",
   "metadata": {},
   "outputs": [
    {
     "name": "stdout",
     "output_type": "stream",
     "text": [
      "  adding: ../../workspaces/Introduction-to-Shell-Scripting/ (stored 0%)\n",
      "  adding: ../../workspaces/Introduction-to-Shell-Scripting/linux.sh (stored 0%)\n",
      "  adding: ../../workspaces/Introduction-to-Shell-Scripting/.linux.sh.swp (deflated 98%)\n",
      "  adding: ../../workspaces/Introduction-to-Shell-Scripting/.git/ (stored 0%)\n",
      "  adding: ../../workspaces/Introduction-to-Shell-Scripting/.git/refs/ (stored 0%)\n",
      "  adding: ../../workspaces/Introduction-to-Shell-Scripting/.git/refs/tags/ (stored 0%)\n",
      "  adding: ../../workspaces/Introduction-to-Shell-Scripting/.git/refs/heads/ (stored 0%)\n",
      "  adding: ../../workspaces/Introduction-to-Shell-Scripting/.git/refs/heads/main (stored 0%)\n",
      "  adding: ../../workspaces/Introduction-to-Shell-Scripting/.git/refs/remotes/ (stored 0%)\n",
      "  adding: ../../workspaces/Introduction-to-Shell-Scripting/.git/refs/remotes/origin/ (stored 0%)\n",
      "  adding: ../../workspaces/Introduction-to-Shell-Scripting/.git/refs/remotes/origin/HEAD (stored 0%)\n",
      "  adding: ../../workspaces/Introduction-to-Shell-Scripting/.git/refs/remotes/origin/main (stored 0%)\n",
      "  adding: ../../workspaces/Introduction-to-Shell-Scripting/.git/config (deflated 39%)\n",
      "  adding: ../../workspaces/Introduction-to-Shell-Scripting/.git/description (deflated 14%)\n",
      "  adding: ../../workspaces/Introduction-to-Shell-Scripting/.git/HEAD (stored 0%)\n",
      "  adding: ../../workspaces/Introduction-to-Shell-Scripting/.git/FETCH_HEAD (deflated 9%)\n",
      "  adding: ../../workspaces/Introduction-to-Shell-Scripting/.git/branches/ (stored 0%)\n",
      "  adding: ../../workspaces/Introduction-to-Shell-Scripting/.git/logs/ (stored 0%)\n",
      "  adding: ../../workspaces/Introduction-to-Shell-Scripting/.git/logs/refs/ (stored 0%)\n",
      "  adding: ../../workspaces/Introduction-to-Shell-Scripting/.git/logs/refs/heads/ (stored 0%)\n",
      "  adding: ../../workspaces/Introduction-to-Shell-Scripting/.git/logs/refs/heads/main (deflated 75%)\n",
      "  adding: ../../workspaces/Introduction-to-Shell-Scripting/.git/logs/refs/remotes/ (stored 0%)\n",
      "  adding: ../../workspaces/Introduction-to-Shell-Scripting/.git/logs/refs/remotes/origin/ (stored 0%)\n",
      "  adding: ../../workspaces/Introduction-to-Shell-Scripting/.git/logs/refs/remotes/origin/HEAD (deflated 28%)\n",
      "  adding: ../../workspaces/Introduction-to-Shell-Scripting/.git/logs/refs/remotes/origin/main (deflated 78%)\n",
      "  adding: ../../workspaces/Introduction-to-Shell-Scripting/.git/logs/HEAD (deflated 75%)\n",
      "  adding: ../../workspaces/Introduction-to-Shell-Scripting/.git/lfs/ (stored 0%)\n",
      "  adding: ../../workspaces/Introduction-to-Shell-Scripting/.git/lfs/tmp/ (stored 0%)\n",
      "  adding: ../../workspaces/Introduction-to-Shell-Scripting/.git/ORIG_HEAD (stored 0%)\n",
      "  adding: ../../workspaces/Introduction-to-Shell-Scripting/.git/hooks/ (stored 0%)\n",
      "  adding: ../../workspaces/Introduction-to-Shell-Scripting/.git/hooks/fsmonitor-watchman.sample (deflated 62%)\n",
      "  adding: ../../workspaces/Introduction-to-Shell-Scripting/.git/hooks/post-update.sample (deflated 27%)\n",
      "  adding: ../../workspaces/Introduction-to-Shell-Scripting/.git/hooks/applypatch-msg.sample (deflated 42%)\n",
      "  adding: ../../workspaces/Introduction-to-Shell-Scripting/.git/hooks/pre-merge-commit.sample (deflated 39%)\n",
      "  adding: ../../workspaces/Introduction-to-Shell-Scripting/.git/hooks/sendemail-validate.sample (deflated 58%)\n",
      "  adding: ../../workspaces/Introduction-to-Shell-Scripting/.git/hooks/pre-applypatch.sample (deflated 38%)\n",
      "  adding: ../../workspaces/Introduction-to-Shell-Scripting/.git/hooks/update.sample (deflated 68%)\n",
      "  adding: ../../workspaces/Introduction-to-Shell-Scripting/.git/hooks/commit-msg.sample (deflated 44%)\n",
      "  adding: ../../workspaces/Introduction-to-Shell-Scripting/.git/hooks/pre-rebase.sample (deflated 59%)\n",
      "  adding: ../../workspaces/Introduction-to-Shell-Scripting/.git/hooks/pre-commit.sample (deflated 45%)\n",
      "  adding: ../../workspaces/Introduction-to-Shell-Scripting/.git/hooks/prepare-commit-msg.sample (deflated 50%)\n",
      "  adding: ../../workspaces/Introduction-to-Shell-Scripting/.git/hooks/pre-push.sample (deflated 49%)\n",
      "  adding: ../../workspaces/Introduction-to-Shell-Scripting/.git/hooks/push-to-checkout.sample (deflated 55%)\n",
      "  adding: ../../workspaces/Introduction-to-Shell-Scripting/.git/hooks/pre-receive.sample (deflated 40%)\n",
      "  adding: ../../workspaces/Introduction-to-Shell-Scripting/.git/index (deflated 21%)\n",
      "  adding: ../../workspaces/Introduction-to-Shell-Scripting/.git/COMMIT_EDITMSG (stored 0%)\n",
      "  adding: ../../workspaces/Introduction-to-Shell-Scripting/.git/objects/ (stored 0%)\n",
      "  adding: ../../workspaces/Introduction-to-Shell-Scripting/.git/objects/pack/ (stored 0%)\n",
      "  adding: ../../workspaces/Introduction-to-Shell-Scripting/.git/objects/pack/pack-641a23ee51bea22a863cf854e6688294d5916dcb.rev (deflated 9%)\n",
      "  adding: ../../workspaces/Introduction-to-Shell-Scripting/.git/objects/pack/pack-641a23ee51bea22a863cf854e6688294d5916dcb.idx (deflated 87%)\n",
      "  adding: ../../workspaces/Introduction-to-Shell-Scripting/.git/objects/pack/pack-641a23ee51bea22a863cf854e6688294d5916dcb.pack (stored 0%)\n",
      "  adding: ../../workspaces/Introduction-to-Shell-Scripting/.git/objects/a5/ (stored 0%)\n",
      "  adding: ../../workspaces/Introduction-to-Shell-Scripting/.git/objects/a5/ab3fc8e83cb83477aba3f4ad9b1650338d3ef2 (stored 0%)\n",
      "  adding: ../../workspaces/Introduction-to-Shell-Scripting/.git/objects/04/ (stored 0%)\n",
      "  adding: ../../workspaces/Introduction-to-Shell-Scripting/.git/objects/04/9a0ef7f14c523e4651ce275620930bde1749c8 (stored 0%)\n",
      "  adding: ../../workspaces/Introduction-to-Shell-Scripting/.git/objects/9b/ (stored 0%)\n",
      "  adding: ../../workspaces/Introduction-to-Shell-Scripting/.git/objects/9b/dbc2c015c2e7ebb536d67a9900627deaba7e35 (stored 0%)\n",
      "  adding: ../../workspaces/Introduction-to-Shell-Scripting/.git/objects/41/ (stored 0%)\n",
      "  adding: ../../workspaces/Introduction-to-Shell-Scripting/.git/objects/41/2c59375fea13e9ecc5900fdfd997e5147c3402 (stored 0%)\n",
      "  adding: ../../workspaces/Introduction-to-Shell-Scripting/.git/objects/00/ (stored 0%)\n",
      "  adding: ../../workspaces/Introduction-to-Shell-Scripting/.git/objects/00/497ffe877cdba1064dc4566fe359d85b3e91b7 (stored 0%)\n",
      "  adding: ../../workspaces/Introduction-to-Shell-Scripting/.git/objects/4e/ (stored 0%)\n",
      "  adding: ../../workspaces/Introduction-to-Shell-Scripting/.git/objects/4e/669c22ca6f266f07f24f7c6b1c093d62787a6a (deflated 0%)\n",
      "  adding: ../../workspaces/Introduction-to-Shell-Scripting/.git/objects/df/ (stored 0%)\n",
      "  adding: ../../workspaces/Introduction-to-Shell-Scripting/.git/objects/df/843cfa1aae036eda294cdaa503d06b45ca9407 (stored 0%)\n",
      "  adding: ../../workspaces/Introduction-to-Shell-Scripting/.git/objects/55/ (stored 0%)\n",
      "  adding: ../../workspaces/Introduction-to-Shell-Scripting/.git/objects/55/a9b1eb6cf480897a2df48761fcba15af987852 (deflated 0%)\n",
      "  adding: ../../workspaces/Introduction-to-Shell-Scripting/.git/objects/f2/ (stored 0%)\n",
      "  adding: ../../workspaces/Introduction-to-Shell-Scripting/.git/objects/f2/d29319db3ad161abe05b8b0ec30271a5d53998 (stored 0%)\n",
      "  adding: ../../workspaces/Introduction-to-Shell-Scripting/.git/objects/ba/ (stored 0%)\n",
      "  adding: ../../workspaces/Introduction-to-Shell-Scripting/.git/objects/ba/27b06caa8b9515c5003254bd0b278514451dfc (deflated 0%)\n",
      "  adding: ../../workspaces/Introduction-to-Shell-Scripting/.git/objects/68/ (stored 0%)\n",
      "  adding: ../../workspaces/Introduction-to-Shell-Scripting/.git/objects/68/91f8c168e052d14201d1ed1b3878a3bc9c9187 (stored 0%)\n",
      "  adding: ../../workspaces/Introduction-to-Shell-Scripting/.git/objects/a9/ (stored 0%)\n",
      "  adding: ../../workspaces/Introduction-to-Shell-Scripting/.git/objects/a9/fa82c29eef0f023853593b7212a84f4d6677a0 (stored 0%)\n",
      "  adding: ../../workspaces/Introduction-to-Shell-Scripting/.git/objects/60/ (stored 0%)\n",
      "  adding: ../../workspaces/Introduction-to-Shell-Scripting/.git/objects/60/ffdd55fb7307114e13d0daed3ea393ff1d4e9a (stored 0%)\n",
      "  adding: ../../workspaces/Introduction-to-Shell-Scripting/.git/objects/6d/ (stored 0%)\n",
      "  adding: ../../workspaces/Introduction-to-Shell-Scripting/.git/objects/6d/5157c7b7b01ebdef40ebf0cb34e7831df16648 (stored 0%)\n",
      "  adding: ../../workspaces/Introduction-to-Shell-Scripting/.git/objects/9c/ (stored 0%)\n",
      "  adding: ../../workspaces/Introduction-to-Shell-Scripting/.git/objects/9c/b22a78e4ea99a9e158840c329e3158d52679fe (stored 0%)\n",
      "  adding: ../../workspaces/Introduction-to-Shell-Scripting/.git/objects/6f/ (stored 0%)\n",
      "  adding: ../../workspaces/Introduction-to-Shell-Scripting/.git/objects/6f/992bea44f3156c1314172bc8352615ca2d76db (stored 0%)\n",
      "  adding: ../../workspaces/Introduction-to-Shell-Scripting/.git/objects/e5/ (stored 0%)\n",
      "  adding: ../../workspaces/Introduction-to-Shell-Scripting/.git/objects/e5/88d87772a1e4ad38a5043feb817c9984ee9996 (stored 0%)\n",
      "  adding: ../../workspaces/Introduction-to-Shell-Scripting/.git/objects/56/ (stored 0%)\n",
      "  adding: ../../workspaces/Introduction-to-Shell-Scripting/.git/objects/56/0474d71866fd44ef88ed0173f67020f90998c2 (stored 0%)\n",
      "  adding: ../../workspaces/Introduction-to-Shell-Scripting/.git/objects/c6/ (stored 0%)\n",
      "  adding: ../../workspaces/Introduction-to-Shell-Scripting/.git/objects/c6/37f5f73eb678887e5af64369d90c7d836228ae (stored 0%)\n",
      "  adding: ../../workspaces/Introduction-to-Shell-Scripting/.git/objects/67/ (stored 0%)\n",
      "  adding: ../../workspaces/Introduction-to-Shell-Scripting/.git/objects/67/a6dcd069d563361f926c2f364532fa81de5d7d (stored 0%)\n",
      "  adding: ../../workspaces/Introduction-to-Shell-Scripting/.git/objects/eb/ (stored 0%)\n",
      "  adding: ../../workspaces/Introduction-to-Shell-Scripting/.git/objects/eb/9b314cf43258f337ff5bdb374466d539ebffca (stored 0%)\n",
      "  adding: ../../workspaces/Introduction-to-Shell-Scripting/.git/objects/98/ (stored 0%)\n",
      "  adding: ../../workspaces/Introduction-to-Shell-Scripting/.git/objects/98/64d33b56eb40ed083c787d97e169c58188d382 (stored 0%)\n",
      "  adding: ../../workspaces/Introduction-to-Shell-Scripting/.git/objects/01/ (stored 0%)\n",
      "  adding: ../../workspaces/Introduction-to-Shell-Scripting/.git/objects/01/1ca13bf99cc374c7ddef8a6c2f55e9fe2b5984 (stored 0%)\n",
      "  adding: ../../workspaces/Introduction-to-Shell-Scripting/.git/objects/01/0e00e524a15df526df34f24367b6fdb9ad81eb (stored 0%)\n",
      "  adding: ../../workspaces/Introduction-to-Shell-Scripting/.git/objects/cb/ (stored 0%)\n",
      "  adding: ../../workspaces/Introduction-to-Shell-Scripting/.git/objects/cb/779c6cef799fa8ecc0385c8d920734a50cbeba (stored 0%)\n",
      "  adding: ../../workspaces/Introduction-to-Shell-Scripting/.git/objects/57/ (stored 0%)\n",
      "  adding: ../../workspaces/Introduction-to-Shell-Scripting/.git/objects/57/4847912fb1e64ab7278bd8954d30067d725446 (stored 0%)\n",
      "  adding: ../../workspaces/Introduction-to-Shell-Scripting/.git/objects/93/ (stored 0%)\n",
      "  adding: ../../workspaces/Introduction-to-Shell-Scripting/.git/objects/93/37032857fe248f9e4373634ae5192c45055b14 (deflated 0%)\n",
      "  adding: ../../workspaces/Introduction-to-Shell-Scripting/.git/objects/a6/ (stored 0%)\n",
      "  adding: ../../workspaces/Introduction-to-Shell-Scripting/.git/objects/a6/80c2a2a0ea6e158af5860dbb66d5cdaea9a734 (stored 0%)\n",
      "  adding: ../../workspaces/Introduction-to-Shell-Scripting/.git/objects/46/ (stored 0%)\n",
      "  adding: ../../workspaces/Introduction-to-Shell-Scripting/.git/objects/46/224174d2c1bc6fa1636b2c853ca750379fb906 (stored 0%)\n",
      "  adding: ../../workspaces/Introduction-to-Shell-Scripting/.git/objects/e2/ (stored 0%)\n",
      "  adding: ../../workspaces/Introduction-to-Shell-Scripting/.git/objects/e2/16457967ee92f9f80aef50e51d9ed11e7f3521 (stored 0%)\n",
      "  adding: ../../workspaces/Introduction-to-Shell-Scripting/.git/objects/d8/ (stored 0%)\n",
      "  adding: ../../workspaces/Introduction-to-Shell-Scripting/.git/objects/d8/eee128c15ec15cf1dda6ef3190c71df97523a0 (stored 0%)\n",
      "  adding: ../../workspaces/Introduction-to-Shell-Scripting/.git/objects/e0/ (stored 0%)\n",
      "  adding: ../../workspaces/Introduction-to-Shell-Scripting/.git/objects/e0/ae2a3a9bed74866fcf222b7afb5348127bccdb (stored 0%)\n",
      "  adding: ../../workspaces/Introduction-to-Shell-Scripting/.git/objects/92/ (stored 0%)\n",
      "  adding: ../../workspaces/Introduction-to-Shell-Scripting/.git/objects/92/909826a886647fc58429fb2a79b0aa88062063 (stored 0%)\n",
      "  adding: ../../workspaces/Introduction-to-Shell-Scripting/.git/objects/78/ (stored 0%)\n",
      "  adding: ../../workspaces/Introduction-to-Shell-Scripting/.git/objects/78/58a02fb92b43198be4e91a82576aed4edd5c1a (deflated 0%)\n",
      "  adding: ../../workspaces/Introduction-to-Shell-Scripting/.git/objects/66/ (stored 0%)\n",
      "  adding: ../../workspaces/Introduction-to-Shell-Scripting/.git/objects/66/057426bc523433cfb02adff94649adee915212 (stored 0%)\n",
      "  adding: ../../workspaces/Introduction-to-Shell-Scripting/.git/objects/5e/ (stored 0%)\n",
      "  adding: ../../workspaces/Introduction-to-Shell-Scripting/.git/objects/5e/5ce235c1f5917a4b738557d021d30ab35d1424 (stored 0%)\n",
      "  adding: ../../workspaces/Introduction-to-Shell-Scripting/.git/objects/79/ (stored 0%)\n",
      "  adding: ../../workspaces/Introduction-to-Shell-Scripting/.git/objects/79/93af958b7ff947c206474e29e36b6157c29162 (stored 0%)\n",
      "  adding: ../../workspaces/Introduction-to-Shell-Scripting/.git/objects/79/be289b50118a2df9d372aea0b4d55864664417 (stored 0%)\n",
      "  adding: ../../workspaces/Introduction-to-Shell-Scripting/.git/objects/69/ (stored 0%)\n",
      "  adding: ../../workspaces/Introduction-to-Shell-Scripting/.git/objects/69/0980e6946cd29b4ac1d360f07377292a8afaba (stored 0%)\n",
      "  adding: ../../workspaces/Introduction-to-Shell-Scripting/.git/objects/b0/ (stored 0%)\n",
      "  adding: ../../workspaces/Introduction-to-Shell-Scripting/.git/objects/b0/8fad06796c118fb6884867b9f28f168b5067b2 (deflated 6%)\n",
      "  adding: ../../workspaces/Introduction-to-Shell-Scripting/.git/objects/f8/ (stored 0%)\n",
      "  adding: ../../workspaces/Introduction-to-Shell-Scripting/.git/objects/f8/28f20652329c6ff243474ed55ee588e5c1670b (stored 0%)\n",
      "  adding: ../../workspaces/Introduction-to-Shell-Scripting/.git/objects/ec/ (stored 0%)\n",
      "  adding: ../../workspaces/Introduction-to-Shell-Scripting/.git/objects/ec/f861456915dae590e28d6c4421d2523554afb0 (stored 0%)\n",
      "  adding: ../../workspaces/Introduction-to-Shell-Scripting/.git/objects/d1/ (stored 0%)\n",
      "  adding: ../../workspaces/Introduction-to-Shell-Scripting/.git/objects/d1/5ee322cdb66bf5ec02ff8d089764ebf901635b (stored 0%)\n",
      "  adding: ../../workspaces/Introduction-to-Shell-Scripting/.git/objects/05/ (stored 0%)\n",
      "  adding: ../../workspaces/Introduction-to-Shell-Scripting/.git/objects/05/281ff24bc67968493f66ca875820dff50087b2 (stored 0%)\n",
      "  adding: ../../workspaces/Introduction-to-Shell-Scripting/.git/objects/bf/ (stored 0%)\n",
      "  adding: ../../workspaces/Introduction-to-Shell-Scripting/.git/objects/bf/95b8f38831a25de18cc4513cbe81ac0cf28eb0 (stored 0%)\n",
      "  adding: ../../workspaces/Introduction-to-Shell-Scripting/.git/objects/4d/ (stored 0%)\n",
      "  adding: ../../workspaces/Introduction-to-Shell-Scripting/.git/objects/4d/62e73736fc716ac32aca943d2302e931b77af9 (stored 0%)\n",
      "  adding: ../../workspaces/Introduction-to-Shell-Scripting/.git/objects/63/ (stored 0%)\n",
      "  adding: ../../workspaces/Introduction-to-Shell-Scripting/.git/objects/63/ff9f090474a9aa82d206f2a91f884fa7f7cf84 (stored 0%)\n",
      "  adding: ../../workspaces/Introduction-to-Shell-Scripting/.git/objects/96/ (stored 0%)\n",
      "  adding: ../../workspaces/Introduction-to-Shell-Scripting/.git/objects/96/ef697948124d69b233062f5d4090615b0831ba (stored 0%)\n",
      "  adding: ../../workspaces/Introduction-to-Shell-Scripting/.git/objects/ad/ (stored 0%)\n",
      "  adding: ../../workspaces/Introduction-to-Shell-Scripting/.git/objects/ad/5a729b48492d8907e120ae905752cc7db739b3 (stored 0%)\n",
      "  adding: ../../workspaces/Introduction-to-Shell-Scripting/.git/objects/b3/ (stored 0%)\n",
      "  adding: ../../workspaces/Introduction-to-Shell-Scripting/.git/objects/b3/e72eb3696b81150d44ad9aa6caa613aa6277b0 (deflated 0%)\n",
      "  adding: ../../workspaces/Introduction-to-Shell-Scripting/.git/objects/7e/ (stored 0%)\n",
      "  adding: ../../workspaces/Introduction-to-Shell-Scripting/.git/objects/7e/da396677077ab4a9423f69196b7c96b817698c (stored 0%)\n",
      "  adding: ../../workspaces/Introduction-to-Shell-Scripting/.git/objects/12/ (stored 0%)\n",
      "  adding: ../../workspaces/Introduction-to-Shell-Scripting/.git/objects/12/c296e90d8c80f0f606ba9f513f43024cf076af (stored 0%)\n",
      "  adding: ../../workspaces/Introduction-to-Shell-Scripting/.git/objects/83/ (stored 0%)\n",
      "  adding: ../../workspaces/Introduction-to-Shell-Scripting/.git/objects/83/03d2e414d272cc9e87e445db2187fae7fe2f47 (stored 0%)\n",
      "  adding: ../../workspaces/Introduction-to-Shell-Scripting/.git/objects/info/ (stored 0%)\n",
      "  adding: ../../workspaces/Introduction-to-Shell-Scripting/.git/objects/b4/ (stored 0%)\n",
      "  adding: ../../workspaces/Introduction-to-Shell-Scripting/.git/objects/b4/d72896c64da89d8fcd7fa0a38bbb47fabd42bb (stored 0%)\n",
      "  adding: ../../workspaces/Introduction-to-Shell-Scripting/.git/objects/53/ (stored 0%)\n",
      "  adding: ../../workspaces/Introduction-to-Shell-Scripting/.git/objects/53/c3d37add56ccafae05652e9f14aad647bfc58b (stored 0%)\n",
      "  adding: ../../workspaces/Introduction-to-Shell-Scripting/.git/objects/35/ (stored 0%)\n",
      "  adding: ../../workspaces/Introduction-to-Shell-Scripting/.git/objects/35/37f67b235f1dc9b51ba50f400ea7fbc725c535 (stored 0%)\n",
      "  adding: ../../workspaces/Introduction-to-Shell-Scripting/.git/packed-refs (deflated 9%)\n",
      "  adding: ../../workspaces/Introduction-to-Shell-Scripting/.git/info/ (stored 0%)\n",
      "  adding: ../../workspaces/Introduction-to-Shell-Scripting/.git/info/exclude (deflated 28%)\n",
      "  adding: ../../workspaces/Introduction-to-Shell-Scripting/introToShell.tar.gz (deflated 0%)\n",
      "  adding: ../../workspaces/Introduction-to-Shell-Scripting/google.txt (deflated 58%)\n",
      "  adding: ../../workspaces/Introduction-to-Shell-Scripting/workspaces/ (stored 0%)\n",
      "  adding: ../../workspaces/Introduction-to-Shell-Scripting/workspaces/Introduction-to-Shell-Scripting/ (stored 0%)\n",
      "  adding: ../../workspaces/Introduction-to-Shell-Scripting/workspaces/Introduction-to-Shell-Scripting/linux.sh (stored 0%)\n",
      "  adding: ../../workspaces/Introduction-to-Shell-Scripting/workspaces/Introduction-to-Shell-Scripting/.linux.sh.swp (deflated 98%)\n",
      "  adding: ../../workspaces/Introduction-to-Shell-Scripting/workspaces/Introduction-to-Shell-Scripting/.git/ (stored 0%)\n",
      "  adding: ../../workspaces/Introduction-to-Shell-Scripting/workspaces/Introduction-to-Shell-Scripting/.git/refs/ (stored 0%)\n",
      "  adding: ../../workspaces/Introduction-to-Shell-Scripting/workspaces/Introduction-to-Shell-Scripting/.git/refs/tags/ (stored 0%)\n",
      "  adding: ../../workspaces/Introduction-to-Shell-Scripting/workspaces/Introduction-to-Shell-Scripting/.git/refs/heads/ (stored 0%)\n",
      "  adding: ../../workspaces/Introduction-to-Shell-Scripting/workspaces/Introduction-to-Shell-Scripting/.git/refs/heads/main (stored 0%)\n",
      "  adding: ../../workspaces/Introduction-to-Shell-Scripting/workspaces/Introduction-to-Shell-Scripting/.git/refs/remotes/ (stored 0%)\n",
      "  adding: ../../workspaces/Introduction-to-Shell-Scripting/workspaces/Introduction-to-Shell-Scripting/.git/refs/remotes/origin/ (stored 0%)\n",
      "  adding: ../../workspaces/Introduction-to-Shell-Scripting/workspaces/Introduction-to-Shell-Scripting/.git/refs/remotes/origin/HEAD (stored 0%)\n",
      "  adding: ../../workspaces/Introduction-to-Shell-Scripting/workspaces/Introduction-to-Shell-Scripting/.git/refs/remotes/origin/main (stored 0%)\n",
      "  adding: ../../workspaces/Introduction-to-Shell-Scripting/workspaces/Introduction-to-Shell-Scripting/.git/config (deflated 39%)\n",
      "  adding: ../../workspaces/Introduction-to-Shell-Scripting/workspaces/Introduction-to-Shell-Scripting/.git/description (deflated 14%)\n",
      "  adding: ../../workspaces/Introduction-to-Shell-Scripting/workspaces/Introduction-to-Shell-Scripting/.git/HEAD (stored 0%)\n",
      "  adding: ../../workspaces/Introduction-to-Shell-Scripting/workspaces/Introduction-to-Shell-Scripting/.git/FETCH_HEAD (deflated 9%)\n",
      "  adding: ../../workspaces/Introduction-to-Shell-Scripting/workspaces/Introduction-to-Shell-Scripting/.git/branches/ (stored 0%)\n",
      "  adding: ../../workspaces/Introduction-to-Shell-Scripting/workspaces/Introduction-to-Shell-Scripting/.git/logs/ (stored 0%)\n",
      "  adding: ../../workspaces/Introduction-to-Shell-Scripting/workspaces/Introduction-to-Shell-Scripting/.git/logs/refs/ (stored 0%)\n",
      "  adding: ../../workspaces/Introduction-to-Shell-Scripting/workspaces/Introduction-to-Shell-Scripting/.git/logs/refs/heads/ (stored 0%)\n",
      "  adding: ../../workspaces/Introduction-to-Shell-Scripting/workspaces/Introduction-to-Shell-Scripting/.git/logs/refs/heads/main (deflated 75%)\n",
      "  adding: ../../workspaces/Introduction-to-Shell-Scripting/workspaces/Introduction-to-Shell-Scripting/.git/logs/refs/remotes/ (stored 0%)\n",
      "  adding: ../../workspaces/Introduction-to-Shell-Scripting/workspaces/Introduction-to-Shell-Scripting/.git/logs/refs/remotes/origin/ (stored 0%)\n",
      "  adding: ../../workspaces/Introduction-to-Shell-Scripting/workspaces/Introduction-to-Shell-Scripting/.git/logs/refs/remotes/origin/HEAD (deflated 28%)\n",
      "  adding: ../../workspaces/Introduction-to-Shell-Scripting/workspaces/Introduction-to-Shell-Scripting/.git/logs/refs/remotes/origin/main (deflated 78%)\n",
      "  adding: ../../workspaces/Introduction-to-Shell-Scripting/workspaces/Introduction-to-Shell-Scripting/.git/logs/HEAD (deflated 75%)\n",
      "  adding: ../../workspaces/Introduction-to-Shell-Scripting/workspaces/Introduction-to-Shell-Scripting/.git/lfs/ (stored 0%)\n",
      "  adding: ../../workspaces/Introduction-to-Shell-Scripting/workspaces/Introduction-to-Shell-Scripting/.git/lfs/tmp/ (stored 0%)\n",
      "  adding: ../../workspaces/Introduction-to-Shell-Scripting/workspaces/Introduction-to-Shell-Scripting/.git/ORIG_HEAD (stored 0%)\n",
      "  adding: ../../workspaces/Introduction-to-Shell-Scripting/workspaces/Introduction-to-Shell-Scripting/.git/hooks/ (stored 0%)\n",
      "  adding: ../../workspaces/Introduction-to-Shell-Scripting/workspaces/Introduction-to-Shell-Scripting/.git/hooks/fsmonitor-watchman.sample (deflated 62%)\n",
      "  adding: ../../workspaces/Introduction-to-Shell-Scripting/workspaces/Introduction-to-Shell-Scripting/.git/hooks/post-update.sample (deflated 27%)\n",
      "  adding: ../../workspaces/Introduction-to-Shell-Scripting/workspaces/Introduction-to-Shell-Scripting/.git/hooks/applypatch-msg.sample (deflated 42%)\n",
      "  adding: ../../workspaces/Introduction-to-Shell-Scripting/workspaces/Introduction-to-Shell-Scripting/.git/hooks/pre-merge-commit.sample (deflated 39%)\n",
      "  adding: ../../workspaces/Introduction-to-Shell-Scripting/workspaces/Introduction-to-Shell-Scripting/.git/hooks/sendemail-validate.sample (deflated 58%)\n",
      "  adding: ../../workspaces/Introduction-to-Shell-Scripting/workspaces/Introduction-to-Shell-Scripting/.git/hooks/pre-applypatch.sample (deflated 38%)\n",
      "  adding: ../../workspaces/Introduction-to-Shell-Scripting/workspaces/Introduction-to-Shell-Scripting/.git/hooks/update.sample (deflated 68%)\n",
      "  adding: ../../workspaces/Introduction-to-Shell-Scripting/workspaces/Introduction-to-Shell-Scripting/.git/hooks/commit-msg.sample (deflated 44%)\n",
      "  adding: ../../workspaces/Introduction-to-Shell-Scripting/workspaces/Introduction-to-Shell-Scripting/.git/hooks/pre-rebase.sample (deflated 59%)\n",
      "  adding: ../../workspaces/Introduction-to-Shell-Scripting/workspaces/Introduction-to-Shell-Scripting/.git/hooks/pre-commit.sample (deflated 45%)\n",
      "  adding: ../../workspaces/Introduction-to-Shell-Scripting/workspaces/Introduction-to-Shell-Scripting/.git/hooks/prepare-commit-msg.sample (deflated 50%)\n",
      "  adding: ../../workspaces/Introduction-to-Shell-Scripting/workspaces/Introduction-to-Shell-Scripting/.git/hooks/pre-push.sample (deflated 49%)\n",
      "  adding: ../../workspaces/Introduction-to-Shell-Scripting/workspaces/Introduction-to-Shell-Scripting/.git/hooks/push-to-checkout.sample (deflated 55%)\n",
      "  adding: ../../workspaces/Introduction-to-Shell-Scripting/workspaces/Introduction-to-Shell-Scripting/.git/hooks/pre-receive.sample (deflated 40%)\n",
      "  adding: ../../workspaces/Introduction-to-Shell-Scripting/workspaces/Introduction-to-Shell-Scripting/.git/index (deflated 21%)\n",
      "  adding: ../../workspaces/Introduction-to-Shell-Scripting/workspaces/Introduction-to-Shell-Scripting/.git/COMMIT_EDITMSG (stored 0%)\n",
      "  adding: ../../workspaces/Introduction-to-Shell-Scripting/workspaces/Introduction-to-Shell-Scripting/.git/objects/ (stored 0%)\n",
      "  adding: ../../workspaces/Introduction-to-Shell-Scripting/workspaces/Introduction-to-Shell-Scripting/.git/objects/pack/ (stored 0%)\n",
      "  adding: ../../workspaces/Introduction-to-Shell-Scripting/workspaces/Introduction-to-Shell-Scripting/.git/objects/pack/pack-641a23ee51bea22a863cf854e6688294d5916dcb.rev (deflated 9%)\n",
      "  adding: ../../workspaces/Introduction-to-Shell-Scripting/workspaces/Introduction-to-Shell-Scripting/.git/objects/pack/pack-641a23ee51bea22a863cf854e6688294d5916dcb.idx (deflated 87%)\n",
      "  adding: ../../workspaces/Introduction-to-Shell-Scripting/workspaces/Introduction-to-Shell-Scripting/.git/objects/pack/pack-641a23ee51bea22a863cf854e6688294d5916dcb.pack (stored 0%)\n",
      "  adding: ../../workspaces/Introduction-to-Shell-Scripting/workspaces/Introduction-to-Shell-Scripting/.git/objects/a5/ (stored 0%)\n",
      "  adding: ../../workspaces/Introduction-to-Shell-Scripting/workspaces/Introduction-to-Shell-Scripting/.git/objects/a5/ab3fc8e83cb83477aba3f4ad9b1650338d3ef2 (stored 0%)\n",
      "  adding: ../../workspaces/Introduction-to-Shell-Scripting/workspaces/Introduction-to-Shell-Scripting/.git/objects/04/ (stored 0%)\n",
      "  adding: ../../workspaces/Introduction-to-Shell-Scripting/workspaces/Introduction-to-Shell-Scripting/.git/objects/04/9a0ef7f14c523e4651ce275620930bde1749c8 (stored 0%)\n",
      "  adding: ../../workspaces/Introduction-to-Shell-Scripting/workspaces/Introduction-to-Shell-Scripting/.git/objects/9b/ (stored 0%)\n",
      "  adding: ../../workspaces/Introduction-to-Shell-Scripting/workspaces/Introduction-to-Shell-Scripting/.git/objects/9b/dbc2c015c2e7ebb536d67a9900627deaba7e35 (stored 0%)\n",
      "  adding: ../../workspaces/Introduction-to-Shell-Scripting/workspaces/Introduction-to-Shell-Scripting/.git/objects/41/ (stored 0%)\n",
      "  adding: ../../workspaces/Introduction-to-Shell-Scripting/workspaces/Introduction-to-Shell-Scripting/.git/objects/41/2c59375fea13e9ecc5900fdfd997e5147c3402 (stored 0%)\n",
      "  adding: ../../workspaces/Introduction-to-Shell-Scripting/workspaces/Introduction-to-Shell-Scripting/.git/objects/00/ (stored 0%)\n",
      "  adding: ../../workspaces/Introduction-to-Shell-Scripting/workspaces/Introduction-to-Shell-Scripting/.git/objects/00/497ffe877cdba1064dc4566fe359d85b3e91b7 (stored 0%)\n",
      "  adding: ../../workspaces/Introduction-to-Shell-Scripting/workspaces/Introduction-to-Shell-Scripting/.git/objects/4e/ (stored 0%)\n",
      "  adding: ../../workspaces/Introduction-to-Shell-Scripting/workspaces/Introduction-to-Shell-Scripting/.git/objects/4e/669c22ca6f266f07f24f7c6b1c093d62787a6a (deflated 0%)\n",
      "  adding: ../../workspaces/Introduction-to-Shell-Scripting/workspaces/Introduction-to-Shell-Scripting/.git/objects/df/ (stored 0%)\n",
      "  adding: ../../workspaces/Introduction-to-Shell-Scripting/workspaces/Introduction-to-Shell-Scripting/.git/objects/df/843cfa1aae036eda294cdaa503d06b45ca9407 (stored 0%)\n",
      "  adding: ../../workspaces/Introduction-to-Shell-Scripting/workspaces/Introduction-to-Shell-Scripting/.git/objects/55/ (stored 0%)\n",
      "  adding: ../../workspaces/Introduction-to-Shell-Scripting/workspaces/Introduction-to-Shell-Scripting/.git/objects/55/a9b1eb6cf480897a2df48761fcba15af987852 (deflated 0%)\n",
      "  adding: ../../workspaces/Introduction-to-Shell-Scripting/workspaces/Introduction-to-Shell-Scripting/.git/objects/f2/ (stored 0%)\n",
      "  adding: ../../workspaces/Introduction-to-Shell-Scripting/workspaces/Introduction-to-Shell-Scripting/.git/objects/f2/d29319db3ad161abe05b8b0ec30271a5d53998 (stored 0%)\n",
      "  adding: ../../workspaces/Introduction-to-Shell-Scripting/workspaces/Introduction-to-Shell-Scripting/.git/objects/ba/ (stored 0%)\n",
      "  adding: ../../workspaces/Introduction-to-Shell-Scripting/workspaces/Introduction-to-Shell-Scripting/.git/objects/ba/27b06caa8b9515c5003254bd0b278514451dfc (deflated 0%)\n",
      "  adding: ../../workspaces/Introduction-to-Shell-Scripting/workspaces/Introduction-to-Shell-Scripting/.git/objects/68/ (stored 0%)\n",
      "  adding: ../../workspaces/Introduction-to-Shell-Scripting/workspaces/Introduction-to-Shell-Scripting/.git/objects/68/91f8c168e052d14201d1ed1b3878a3bc9c9187 (stored 0%)\n",
      "  adding: ../../workspaces/Introduction-to-Shell-Scripting/workspaces/Introduction-to-Shell-Scripting/.git/objects/a9/ (stored 0%)\n",
      "  adding: ../../workspaces/Introduction-to-Shell-Scripting/workspaces/Introduction-to-Shell-Scripting/.git/objects/a9/fa82c29eef0f023853593b7212a84f4d6677a0 (stored 0%)\n",
      "  adding: ../../workspaces/Introduction-to-Shell-Scripting/workspaces/Introduction-to-Shell-Scripting/.git/objects/60/ (stored 0%)\n",
      "  adding: ../../workspaces/Introduction-to-Shell-Scripting/workspaces/Introduction-to-Shell-Scripting/.git/objects/60/ffdd55fb7307114e13d0daed3ea393ff1d4e9a (stored 0%)\n",
      "  adding: ../../workspaces/Introduction-to-Shell-Scripting/workspaces/Introduction-to-Shell-Scripting/.git/objects/6d/ (stored 0%)\n",
      "  adding: ../../workspaces/Introduction-to-Shell-Scripting/workspaces/Introduction-to-Shell-Scripting/.git/objects/6d/5157c7b7b01ebdef40ebf0cb34e7831df16648 (stored 0%)\n",
      "  adding: ../../workspaces/Introduction-to-Shell-Scripting/workspaces/Introduction-to-Shell-Scripting/.git/objects/9c/ (stored 0%)\n",
      "  adding: ../../workspaces/Introduction-to-Shell-Scripting/workspaces/Introduction-to-Shell-Scripting/.git/objects/9c/b22a78e4ea99a9e158840c329e3158d52679fe (stored 0%)\n",
      "  adding: ../../workspaces/Introduction-to-Shell-Scripting/workspaces/Introduction-to-Shell-Scripting/.git/objects/6f/ (stored 0%)\n",
      "  adding: ../../workspaces/Introduction-to-Shell-Scripting/workspaces/Introduction-to-Shell-Scripting/.git/objects/6f/992bea44f3156c1314172bc8352615ca2d76db (stored 0%)\n",
      "  adding: ../../workspaces/Introduction-to-Shell-Scripting/workspaces/Introduction-to-Shell-Scripting/.git/objects/e5/ (stored 0%)\n",
      "  adding: ../../workspaces/Introduction-to-Shell-Scripting/workspaces/Introduction-to-Shell-Scripting/.git/objects/e5/88d87772a1e4ad38a5043feb817c9984ee9996 (stored 0%)\n",
      "  adding: ../../workspaces/Introduction-to-Shell-Scripting/workspaces/Introduction-to-Shell-Scripting/.git/objects/56/ (stored 0%)\n",
      "  adding: ../../workspaces/Introduction-to-Shell-Scripting/workspaces/Introduction-to-Shell-Scripting/.git/objects/56/0474d71866fd44ef88ed0173f67020f90998c2 (stored 0%)\n",
      "  adding: ../../workspaces/Introduction-to-Shell-Scripting/workspaces/Introduction-to-Shell-Scripting/.git/objects/c6/ (stored 0%)\n",
      "  adding: ../../workspaces/Introduction-to-Shell-Scripting/workspaces/Introduction-to-Shell-Scripting/.git/objects/c6/37f5f73eb678887e5af64369d90c7d836228ae (stored 0%)\n",
      "  adding: ../../workspaces/Introduction-to-Shell-Scripting/workspaces/Introduction-to-Shell-Scripting/.git/objects/67/ (stored 0%)\n",
      "  adding: ../../workspaces/Introduction-to-Shell-Scripting/workspaces/Introduction-to-Shell-Scripting/.git/objects/67/a6dcd069d563361f926c2f364532fa81de5d7d (stored 0%)\n",
      "  adding: ../../workspaces/Introduction-to-Shell-Scripting/workspaces/Introduction-to-Shell-Scripting/.git/objects/eb/ (stored 0%)\n",
      "  adding: ../../workspaces/Introduction-to-Shell-Scripting/workspaces/Introduction-to-Shell-Scripting/.git/objects/eb/9b314cf43258f337ff5bdb374466d539ebffca (stored 0%)\n",
      "  adding: ../../workspaces/Introduction-to-Shell-Scripting/workspaces/Introduction-to-Shell-Scripting/.git/objects/98/ (stored 0%)\n",
      "  adding: ../../workspaces/Introduction-to-Shell-Scripting/workspaces/Introduction-to-Shell-Scripting/.git/objects/98/64d33b56eb40ed083c787d97e169c58188d382 (stored 0%)\n",
      "  adding: ../../workspaces/Introduction-to-Shell-Scripting/workspaces/Introduction-to-Shell-Scripting/.git/objects/01/ (stored 0%)\n",
      "  adding: ../../workspaces/Introduction-to-Shell-Scripting/workspaces/Introduction-to-Shell-Scripting/.git/objects/01/1ca13bf99cc374c7ddef8a6c2f55e9fe2b5984 (stored 0%)\n",
      "  adding: ../../workspaces/Introduction-to-Shell-Scripting/workspaces/Introduction-to-Shell-Scripting/.git/objects/01/0e00e524a15df526df34f24367b6fdb9ad81eb (stored 0%)\n",
      "  adding: ../../workspaces/Introduction-to-Shell-Scripting/workspaces/Introduction-to-Shell-Scripting/.git/objects/cb/ (stored 0%)\n",
      "  adding: ../../workspaces/Introduction-to-Shell-Scripting/workspaces/Introduction-to-Shell-Scripting/.git/objects/cb/779c6cef799fa8ecc0385c8d920734a50cbeba (stored 0%)\n",
      "  adding: ../../workspaces/Introduction-to-Shell-Scripting/workspaces/Introduction-to-Shell-Scripting/.git/objects/57/ (stored 0%)\n",
      "  adding: ../../workspaces/Introduction-to-Shell-Scripting/workspaces/Introduction-to-Shell-Scripting/.git/objects/57/4847912fb1e64ab7278bd8954d30067d725446 (stored 0%)\n",
      "  adding: ../../workspaces/Introduction-to-Shell-Scripting/workspaces/Introduction-to-Shell-Scripting/.git/objects/93/ (stored 0%)\n",
      "  adding: ../../workspaces/Introduction-to-Shell-Scripting/workspaces/Introduction-to-Shell-Scripting/.git/objects/93/37032857fe248f9e4373634ae5192c45055b14 (deflated 0%)\n",
      "  adding: ../../workspaces/Introduction-to-Shell-Scripting/workspaces/Introduction-to-Shell-Scripting/.git/objects/a6/ (stored 0%)\n",
      "  adding: ../../workspaces/Introduction-to-Shell-Scripting/workspaces/Introduction-to-Shell-Scripting/.git/objects/a6/80c2a2a0ea6e158af5860dbb66d5cdaea9a734 (stored 0%)\n",
      "  adding: ../../workspaces/Introduction-to-Shell-Scripting/workspaces/Introduction-to-Shell-Scripting/.git/objects/46/ (stored 0%)\n",
      "  adding: ../../workspaces/Introduction-to-Shell-Scripting/workspaces/Introduction-to-Shell-Scripting/.git/objects/46/224174d2c1bc6fa1636b2c853ca750379fb906 (stored 0%)\n",
      "  adding: ../../workspaces/Introduction-to-Shell-Scripting/workspaces/Introduction-to-Shell-Scripting/.git/objects/e2/ (stored 0%)\n",
      "  adding: ../../workspaces/Introduction-to-Shell-Scripting/workspaces/Introduction-to-Shell-Scripting/.git/objects/e2/16457967ee92f9f80aef50e51d9ed11e7f3521 (stored 0%)\n",
      "  adding: ../../workspaces/Introduction-to-Shell-Scripting/workspaces/Introduction-to-Shell-Scripting/.git/objects/d8/ (stored 0%)\n",
      "  adding: ../../workspaces/Introduction-to-Shell-Scripting/workspaces/Introduction-to-Shell-Scripting/.git/objects/d8/eee128c15ec15cf1dda6ef3190c71df97523a0 (stored 0%)\n",
      "  adding: ../../workspaces/Introduction-to-Shell-Scripting/workspaces/Introduction-to-Shell-Scripting/.git/objects/e0/ (stored 0%)\n",
      "  adding: ../../workspaces/Introduction-to-Shell-Scripting/workspaces/Introduction-to-Shell-Scripting/.git/objects/e0/ae2a3a9bed74866fcf222b7afb5348127bccdb (stored 0%)\n",
      "  adding: ../../workspaces/Introduction-to-Shell-Scripting/workspaces/Introduction-to-Shell-Scripting/.git/objects/92/ (stored 0%)\n",
      "  adding: ../../workspaces/Introduction-to-Shell-Scripting/workspaces/Introduction-to-Shell-Scripting/.git/objects/92/909826a886647fc58429fb2a79b0aa88062063 (stored 0%)\n",
      "  adding: ../../workspaces/Introduction-to-Shell-Scripting/workspaces/Introduction-to-Shell-Scripting/.git/objects/78/ (stored 0%)\n",
      "  adding: ../../workspaces/Introduction-to-Shell-Scripting/workspaces/Introduction-to-Shell-Scripting/.git/objects/78/58a02fb92b43198be4e91a82576aed4edd5c1a (deflated 0%)\n",
      "  adding: ../../workspaces/Introduction-to-Shell-Scripting/workspaces/Introduction-to-Shell-Scripting/.git/objects/66/ (stored 0%)\n",
      "  adding: ../../workspaces/Introduction-to-Shell-Scripting/workspaces/Introduction-to-Shell-Scripting/.git/objects/66/057426bc523433cfb02adff94649adee915212 (stored 0%)\n",
      "  adding: ../../workspaces/Introduction-to-Shell-Scripting/workspaces/Introduction-to-Shell-Scripting/.git/objects/5e/ (stored 0%)\n",
      "  adding: ../../workspaces/Introduction-to-Shell-Scripting/workspaces/Introduction-to-Shell-Scripting/.git/objects/5e/5ce235c1f5917a4b738557d021d30ab35d1424 (stored 0%)\n",
      "  adding: ../../workspaces/Introduction-to-Shell-Scripting/workspaces/Introduction-to-Shell-Scripting/.git/objects/79/ (stored 0%)\n",
      "  adding: ../../workspaces/Introduction-to-Shell-Scripting/workspaces/Introduction-to-Shell-Scripting/.git/objects/79/93af958b7ff947c206474e29e36b6157c29162 (stored 0%)\n",
      "  adding: ../../workspaces/Introduction-to-Shell-Scripting/workspaces/Introduction-to-Shell-Scripting/.git/objects/79/be289b50118a2df9d372aea0b4d55864664417 (stored 0%)\n",
      "  adding: ../../workspaces/Introduction-to-Shell-Scripting/workspaces/Introduction-to-Shell-Scripting/.git/objects/69/ (stored 0%)\n",
      "  adding: ../../workspaces/Introduction-to-Shell-Scripting/workspaces/Introduction-to-Shell-Scripting/.git/objects/69/0980e6946cd29b4ac1d360f07377292a8afaba (stored 0%)\n",
      "  adding: ../../workspaces/Introduction-to-Shell-Scripting/workspaces/Introduction-to-Shell-Scripting/.git/objects/b0/ (stored 0%)\n",
      "  adding: ../../workspaces/Introduction-to-Shell-Scripting/workspaces/Introduction-to-Shell-Scripting/.git/objects/b0/8fad06796c118fb6884867b9f28f168b5067b2 (deflated 6%)\n",
      "  adding: ../../workspaces/Introduction-to-Shell-Scripting/workspaces/Introduction-to-Shell-Scripting/.git/objects/f8/ (stored 0%)\n",
      "  adding: ../../workspaces/Introduction-to-Shell-Scripting/workspaces/Introduction-to-Shell-Scripting/.git/objects/f8/28f20652329c6ff243474ed55ee588e5c1670b (stored 0%)\n",
      "  adding: ../../workspaces/Introduction-to-Shell-Scripting/workspaces/Introduction-to-Shell-Scripting/.git/objects/ec/ (stored 0%)\n",
      "  adding: ../../workspaces/Introduction-to-Shell-Scripting/workspaces/Introduction-to-Shell-Scripting/.git/objects/ec/f861456915dae590e28d6c4421d2523554afb0 (stored 0%)\n",
      "  adding: ../../workspaces/Introduction-to-Shell-Scripting/workspaces/Introduction-to-Shell-Scripting/.git/objects/d1/ (stored 0%)\n",
      "  adding: ../../workspaces/Introduction-to-Shell-Scripting/workspaces/Introduction-to-Shell-Scripting/.git/objects/d1/5ee322cdb66bf5ec02ff8d089764ebf901635b (stored 0%)\n",
      "  adding: ../../workspaces/Introduction-to-Shell-Scripting/workspaces/Introduction-to-Shell-Scripting/.git/objects/05/ (stored 0%)\n",
      "  adding: ../../workspaces/Introduction-to-Shell-Scripting/workspaces/Introduction-to-Shell-Scripting/.git/objects/05/281ff24bc67968493f66ca875820dff50087b2 (stored 0%)\n",
      "  adding: ../../workspaces/Introduction-to-Shell-Scripting/workspaces/Introduction-to-Shell-Scripting/.git/objects/bf/ (stored 0%)\n",
      "  adding: ../../workspaces/Introduction-to-Shell-Scripting/workspaces/Introduction-to-Shell-Scripting/.git/objects/bf/95b8f38831a25de18cc4513cbe81ac0cf28eb0 (stored 0%)\n",
      "  adding: ../../workspaces/Introduction-to-Shell-Scripting/workspaces/Introduction-to-Shell-Scripting/.git/objects/4d/ (stored 0%)\n",
      "  adding: ../../workspaces/Introduction-to-Shell-Scripting/workspaces/Introduction-to-Shell-Scripting/.git/objects/4d/62e73736fc716ac32aca943d2302e931b77af9 (stored 0%)\n",
      "  adding: ../../workspaces/Introduction-to-Shell-Scripting/workspaces/Introduction-to-Shell-Scripting/.git/objects/63/ (stored 0%)\n",
      "  adding: ../../workspaces/Introduction-to-Shell-Scripting/workspaces/Introduction-to-Shell-Scripting/.git/objects/63/ff9f090474a9aa82d206f2a91f884fa7f7cf84 (stored 0%)\n",
      "  adding: ../../workspaces/Introduction-to-Shell-Scripting/workspaces/Introduction-to-Shell-Scripting/.git/objects/96/ (stored 0%)\n",
      "  adding: ../../workspaces/Introduction-to-Shell-Scripting/workspaces/Introduction-to-Shell-Scripting/.git/objects/96/ef697948124d69b233062f5d4090615b0831ba (stored 0%)\n",
      "  adding: ../../workspaces/Introduction-to-Shell-Scripting/workspaces/Introduction-to-Shell-Scripting/.git/objects/ad/ (stored 0%)\n",
      "  adding: ../../workspaces/Introduction-to-Shell-Scripting/workspaces/Introduction-to-Shell-Scripting/.git/objects/ad/5a729b48492d8907e120ae905752cc7db739b3 (stored 0%)\n",
      "  adding: ../../workspaces/Introduction-to-Shell-Scripting/workspaces/Introduction-to-Shell-Scripting/.git/objects/b3/ (stored 0%)\n",
      "  adding: ../../workspaces/Introduction-to-Shell-Scripting/workspaces/Introduction-to-Shell-Scripting/.git/objects/b3/e72eb3696b81150d44ad9aa6caa613aa6277b0 (deflated 0%)\n",
      "  adding: ../../workspaces/Introduction-to-Shell-Scripting/workspaces/Introduction-to-Shell-Scripting/.git/objects/7e/ (stored 0%)\n",
      "  adding: ../../workspaces/Introduction-to-Shell-Scripting/workspaces/Introduction-to-Shell-Scripting/.git/objects/7e/da396677077ab4a9423f69196b7c96b817698c (stored 0%)\n",
      "  adding: ../../workspaces/Introduction-to-Shell-Scripting/workspaces/Introduction-to-Shell-Scripting/.git/objects/12/ (stored 0%)\n",
      "  adding: ../../workspaces/Introduction-to-Shell-Scripting/workspaces/Introduction-to-Shell-Scripting/.git/objects/12/c296e90d8c80f0f606ba9f513f43024cf076af (stored 0%)\n",
      "  adding: ../../workspaces/Introduction-to-Shell-Scripting/workspaces/Introduction-to-Shell-Scripting/.git/objects/83/ (stored 0%)\n",
      "  adding: ../../workspaces/Introduction-to-Shell-Scripting/workspaces/Introduction-to-Shell-Scripting/.git/objects/83/03d2e414d272cc9e87e445db2187fae7fe2f47 (stored 0%)\n",
      "  adding: ../../workspaces/Introduction-to-Shell-Scripting/workspaces/Introduction-to-Shell-Scripting/.git/objects/info/ (stored 0%)\n",
      "  adding: ../../workspaces/Introduction-to-Shell-Scripting/workspaces/Introduction-to-Shell-Scripting/.git/objects/b4/ (stored 0%)\n",
      "  adding: ../../workspaces/Introduction-to-Shell-Scripting/workspaces/Introduction-to-Shell-Scripting/.git/objects/b4/d72896c64da89d8fcd7fa0a38bbb47fabd42bb (stored 0%)\n",
      "  adding: ../../workspaces/Introduction-to-Shell-Scripting/workspaces/Introduction-to-Shell-Scripting/.git/objects/53/ (stored 0%)\n",
      "  adding: ../../workspaces/Introduction-to-Shell-Scripting/workspaces/Introduction-to-Shell-Scripting/.git/objects/53/c3d37add56ccafae05652e9f14aad647bfc58b (stored 0%)\n",
      "  adding: ../../workspaces/Introduction-to-Shell-Scripting/workspaces/Introduction-to-Shell-Scripting/.git/objects/35/ (stored 0%)\n",
      "  adding: ../../workspaces/Introduction-to-Shell-Scripting/workspaces/Introduction-to-Shell-Scripting/.git/objects/35/37f67b235f1dc9b51ba50f400ea7fbc725c535 (stored 0%)\n",
      "  adding: ../../workspaces/Introduction-to-Shell-Scripting/workspaces/Introduction-to-Shell-Scripting/.git/packed-refs (deflated 9%)\n",
      "  adding: ../../workspaces/Introduction-to-Shell-Scripting/workspaces/Introduction-to-Shell-Scripting/.git/info/ (stored 0%)\n",
      "  adding: ../../workspaces/Introduction-to-Shell-Scripting/workspaces/Introduction-to-Shell-Scripting/.git/info/exclude (deflated 28%)\n",
      "  adding: ../../workspaces/Introduction-to-Shell-Scripting/workspaces/Introduction-to-Shell-Scripting/introToShell.tar.gz (deflated 0%)\n",
      "  adding: ../../workspaces/Introduction-to-Shell-Scripting/workspaces/Introduction-to-Shell-Scripting/google.txt (deflated 58%)\n",
      "  adding: ../../workspaces/Introduction-to-Shell-Scripting/workspaces/Introduction-to-Shell-Scripting/iso_8859-1.txt (deflated 23%)\n",
      "  adding: ../../workspaces/Introduction-to-Shell-Scripting/workspaces/Introduction-to-Shell-Scripting/linux.ipynb (deflated 81%)\n",
      "  adding: ../../workspaces/Introduction-to-Shell-Scripting/workspaces/Introduction-to-Shell-Scripting/introToShell.tar (deflated 12%)\n",
      "  adding: ../../workspaces/Introduction-to-Shell-Scripting/workspaces/Introduction-to-Shell-Scripting/README.md (deflated 72%)\n",
      "  adding: ../../workspaces/Introduction-to-Shell-Scripting/iso_8859-1.txt (deflated 23%)\n",
      "  adding: ../../workspaces/Introduction-to-Shell-Scripting/linux.ipynb (deflated 81%)\n",
      "  adding: ../../workspaces/Introduction-to-Shell-Scripting/introToShell.tar (deflated 12%)\n",
      "  adding: ../../workspaces/Introduction-to-Shell-Scripting/README.md (deflated 72%)\n"
     ]
    }
   ],
   "source": [
    "%%bash\n",
    "zip -r introToShell.zip ../../workspaces/Introduction-to-Shell-Scripting/"
   ]
  },
  {
   "cell_type": "code",
   "execution_count": 120,
   "id": "89567848",
   "metadata": {},
   "outputs": [
    {
     "name": "stdout",
     "output_type": "stream",
     "text": [
      "README.md\n",
      "google.txt\n",
      "introToShell.tar\n",
      "introToShell.tar.gz\n",
      "introToShell.zip\n",
      "iso_8859-1.txt\n",
      "linux.ipynb\n",
      "linux.sh\n",
      "workspaces\n"
     ]
    }
   ],
   "source": [
    "%%bash\n",
    "ls"
   ]
  },
  {
   "cell_type": "code",
   "execution_count": 121,
   "id": "ba210df7",
   "metadata": {},
   "outputs": [
    {
     "name": "stdout",
     "output_type": "stream",
     "text": [
      "README.md\n",
      "google.txt\n",
      "introToShell.tar\n",
      "introToShell.tar.gz\n",
      "introToShell.zip\n",
      "iso_8859-1.txt\n",
      "linux.ipynb\n",
      "linux.sh\n"
     ]
    }
   ],
   "source": [
    "%%bash\n",
    "rm -r workspaces \n",
    "ls"
   ]
  },
  {
   "cell_type": "code",
   "execution_count": null,
   "id": "53cc481e",
   "metadata": {},
   "outputs": [
    {
     "name": "stderr",
     "output_type": "stream",
     "text": [
      "unzip:  cannot find or open i, i.zip or i.ZIP.\n"
     ]
    },
    {
     "ename": "CalledProcessError",
     "evalue": "Command 'b'unzip i\\n'' returned non-zero exit status 9.",
     "output_type": "error",
     "traceback": [
      "\u001b[31m---------------------------------------------------------------------------\u001b[39m",
      "\u001b[31mCalledProcessError\u001b[39m                        Traceback (most recent call last)",
      "\u001b[36mCell\u001b[39m\u001b[36m \u001b[39m\u001b[32mIn[122]\u001b[39m\u001b[32m, line 1\u001b[39m\n\u001b[32m----> \u001b[39m\u001b[32m1\u001b[39m \u001b[43mget_ipython\u001b[49m\u001b[43m(\u001b[49m\u001b[43m)\u001b[49m\u001b[43m.\u001b[49m\u001b[43mrun_cell_magic\u001b[49m\u001b[43m(\u001b[49m\u001b[33;43m'\u001b[39;49m\u001b[33;43mbash\u001b[39;49m\u001b[33;43m'\u001b[39;49m\u001b[43m,\u001b[49m\u001b[43m \u001b[49m\u001b[33;43m'\u001b[39;49m\u001b[33;43m'\u001b[39;49m\u001b[43m,\u001b[49m\u001b[43m \u001b[49m\u001b[33;43m'\u001b[39;49m\u001b[33;43munzip i\u001b[39;49m\u001b[38;5;130;43;01m\\n\u001b[39;49;00m\u001b[33;43m'\u001b[39;49m\u001b[43m)\u001b[49m\n",
      "\u001b[36mFile \u001b[39m\u001b[32m~/.local/lib/python3.12/site-packages/IPython/core/interactiveshell.py:2542\u001b[39m, in \u001b[36mInteractiveShell.run_cell_magic\u001b[39m\u001b[34m(self, magic_name, line, cell)\u001b[39m\n\u001b[32m   2540\u001b[39m \u001b[38;5;28;01mwith\u001b[39;00m \u001b[38;5;28mself\u001b[39m.builtin_trap:\n\u001b[32m   2541\u001b[39m     args = (magic_arg_s, cell)\n\u001b[32m-> \u001b[39m\u001b[32m2542\u001b[39m     result = \u001b[43mfn\u001b[49m\u001b[43m(\u001b[49m\u001b[43m*\u001b[49m\u001b[43margs\u001b[49m\u001b[43m,\u001b[49m\u001b[43m \u001b[49m\u001b[43m*\u001b[49m\u001b[43m*\u001b[49m\u001b[43mkwargs\u001b[49m\u001b[43m)\u001b[49m\n\u001b[32m   2544\u001b[39m \u001b[38;5;66;03m# The code below prevents the output from being displayed\u001b[39;00m\n\u001b[32m   2545\u001b[39m \u001b[38;5;66;03m# when using magics with decorator @output_can_be_silenced\u001b[39;00m\n\u001b[32m   2546\u001b[39m \u001b[38;5;66;03m# when the last Python token in the expression is a ';'.\u001b[39;00m\n\u001b[32m   2547\u001b[39m \u001b[38;5;28;01mif\u001b[39;00m \u001b[38;5;28mgetattr\u001b[39m(fn, magic.MAGIC_OUTPUT_CAN_BE_SILENCED, \u001b[38;5;28;01mFalse\u001b[39;00m):\n",
      "\u001b[36mFile \u001b[39m\u001b[32m~/.local/lib/python3.12/site-packages/IPython/core/magics/script.py:159\u001b[39m, in \u001b[36mScriptMagics._make_script_magic.<locals>.named_script_magic\u001b[39m\u001b[34m(line, cell)\u001b[39m\n\u001b[32m    157\u001b[39m \u001b[38;5;28;01melse\u001b[39;00m:\n\u001b[32m    158\u001b[39m     line = script\n\u001b[32m--> \u001b[39m\u001b[32m159\u001b[39m \u001b[38;5;28;01mreturn\u001b[39;00m \u001b[38;5;28;43mself\u001b[39;49m\u001b[43m.\u001b[49m\u001b[43mshebang\u001b[49m\u001b[43m(\u001b[49m\u001b[43mline\u001b[49m\u001b[43m,\u001b[49m\u001b[43m \u001b[49m\u001b[43mcell\u001b[49m\u001b[43m)\u001b[49m\n",
      "\u001b[36mFile \u001b[39m\u001b[32m~/.local/lib/python3.12/site-packages/IPython/core/magics/script.py:336\u001b[39m, in \u001b[36mScriptMagics.shebang\u001b[39m\u001b[34m(self, line, cell)\u001b[39m\n\u001b[32m    331\u001b[39m \u001b[38;5;28;01mif\u001b[39;00m args.raise_error \u001b[38;5;129;01mand\u001b[39;00m p.returncode != \u001b[32m0\u001b[39m:\n\u001b[32m    332\u001b[39m     \u001b[38;5;66;03m# If we get here and p.returncode is still None, we must have\u001b[39;00m\n\u001b[32m    333\u001b[39m     \u001b[38;5;66;03m# killed it but not yet seen its return code. We don't wait for it,\u001b[39;00m\n\u001b[32m    334\u001b[39m     \u001b[38;5;66;03m# in case it's stuck in uninterruptible sleep. -9 = SIGKILL\u001b[39;00m\n\u001b[32m    335\u001b[39m     rc = p.returncode \u001b[38;5;129;01mor\u001b[39;00m -\u001b[32m9\u001b[39m\n\u001b[32m--> \u001b[39m\u001b[32m336\u001b[39m     \u001b[38;5;28;01mraise\u001b[39;00m CalledProcessError(rc, cell)\n",
      "\u001b[31mCalledProcessError\u001b[39m: Command 'b'unzip i\\n'' returned non-zero exit status 9."
     ]
    }
   ],
   "source": [
    "%%bash\n",
    "unzip intoToShell"
   ]
  },
  {
   "cell_type": "code",
   "execution_count": null,
   "id": "521c5278",
   "metadata": {},
   "outputs": [],
   "source": []
  }
 ],
 "metadata": {
  "kernelspec": {
   "display_name": "Python 3",
   "language": "python",
   "name": "python3"
  },
  "language_info": {
   "codemirror_mode": {
    "name": "ipython",
    "version": 3
   },
   "file_extension": ".py",
   "mimetype": "text/x-python",
   "name": "python",
   "nbconvert_exporter": "python",
   "pygments_lexer": "ipython3",
   "version": "3.12.1"
  }
 },
 "nbformat": 4,
 "nbformat_minor": 5
}
