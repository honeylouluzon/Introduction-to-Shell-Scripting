{
 "cells": [
  {
   "cell_type": "code",
   "execution_count": null,
   "id": "2fee6365",
   "metadata": {},
   "outputs": [],
   "source": [
    "%%bash\n",
    "man -k ."
   ]
  },
  {
   "cell_type": "code",
   "execution_count": null,
   "id": "e758ae43",
   "metadata": {},
   "outputs": [],
   "source": [
    "%%bash\n",
    "man ls"
   ]
  },
  {
   "cell_type": "code",
   "execution_count": 14,
   "id": "f5f71e3c",
   "metadata": {},
   "outputs": [
    {
     "name": "stdout",
     "output_type": "stream",
     "text": [
      "README.md\n",
      "linux.ipynb\n",
      "linux.sh\n"
     ]
    }
   ],
   "source": [
    "%%bash\n",
    "ls"
   ]
  },
  {
   "cell_type": "code",
   "execution_count": null,
   "id": "7aea0e32",
   "metadata": {},
   "outputs": [],
   "source": [
    "%%bash\n",
    "npm install -g tldr"
   ]
  },
  {
   "cell_type": "code",
   "execution_count": null,
   "id": "a6b867b4",
   "metadata": {},
   "outputs": [
    {
     "name": "stderr",
     "output_type": "stream",
     "text": [
      "- Page not found. Updating cache...\n",
      "\u001b[32m✔\u001b[39m Page not found. Updating cache...\n",
      "- Creating index...\n"
     ]
    }
   ],
   "source": [
    "%%bash\n",
    "tldr ls"
   ]
  }
 ],
 "metadata": {
  "kernelspec": {
   "display_name": "Python 3",
   "language": "python",
   "name": "python3"
  },
  "language_info": {
   "codemirror_mode": {
    "name": "ipython",
    "version": 3
   },
   "file_extension": ".py",
   "mimetype": "text/x-python",
   "name": "python",
   "nbconvert_exporter": "python",
   "pygments_lexer": "ipython3",
   "version": "3.12.1"
  }
 },
 "nbformat": 4,
 "nbformat_minor": 5
}
