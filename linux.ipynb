{
 "cells": [
  {
   "cell_type": "code",
   "execution_count": 1,
   "id": "7ab7e4b6",
   "metadata": {},
   "outputs": [
    {
     "name": "stderr",
     "output_type": "stream",
     "text": [
      "\n",
      "WARNING: apt does not have a stable CLI interface. Use with caution in scripts.\n",
      "\n"
     ]
    },
    {
     "name": "stdout",
     "output_type": "stream",
     "text": [
      "Hit:1 https://repo.anaconda.com/pkgs/misc/debrepo/conda stable InRelease\n",
      "Hit:2 https://dl.yarnpkg.com/debian stable InRelease\n",
      "Hit:3 https://packages.microsoft.com/repos/microsoft-ubuntu-focal-prod focal InRelease\n",
      "Hit:4 http://archive.ubuntu.com/ubuntu focal InRelease\n",
      "Get:5 http://security.ubuntu.com/ubuntu focal-security InRelease [128 kB]\n",
      "Get:7 http://archive.ubuntu.com/ubuntu focal-updates InRelease [128 kB]\n",
      "Hit:6 https://packagecloud.io/github/git-lfs/ubuntu focal InRelease\n",
      "Get:8 http://archive.ubuntu.com/ubuntu focal-backports InRelease [128 kB]\n",
      "Fetched 383 kB in 4s (103 kB/s)\n",
      "Reading package lists...\n",
      "Building dependency tree...\n",
      "Reading state information...\n",
      "51 packages can be upgraded. Run 'apt list --upgradable' to see them.\n"
     ]
    }
   ],
   "source": [
    "%%bash\n",
    "sudo apt update"
   ]
  },
  {
   "cell_type": "code",
   "execution_count": 2,
   "id": "2fee6365",
   "metadata": {},
   "outputs": [
    {
     "name": "stdout",
     "output_type": "stream",
     "text": [
      "ldap.conf (5)        - LDAP configuration file/environment variables\n",
      "adduser.conf (5)     - configuration file for adduser(8) and addgroup(8) .\n",
      "deluser.conf (5)     - configuration file for deluser(8) and delgroup(8) .\n",
      "mailcap.order (5)    - the mailcap ordering specifications\n",
      "odbc.ini (5)         - unixODBC data sources configuration\n",
      "odbcinst.ini (5)     - An unixODBC drivers configuration\n",
      "30-systemd-environment-d-generator (8) - Load variables specified by environm...\n",
      "as (1)               - the portable GNU assembler.\n",
      "tc-bpf (8)           - BPF programmable classifier and actions for ingress/eg...\n",
      "bpf-helpers (7)      - list of eBPF helper functions\n",
      "Compose (5)          - X client mappings for multi-key input sequences\n",
      "Dpkg (3perl)         - module with core variables\n",
      "Error (3pm)          - Error/exception handling in an OO-ish way\n",
      "FD_CLR (2)           - synchronous I/O multiplexing\n",
      "FD_CLR (3)           - synchronous I/O multiplexing\n",
      "pselect (2)          - synchronous I/O multiplexing\n",
      "FD_ISSET (3)         - synchronous I/O multiplexing\n",
      "FD_SET (3)           - synchronous I/O multiplexing\n",
      "FD_ZERO (3)          - synchronous I/O multiplexing\n",
      "ffi (3)              - Foreign Function Interface\n"
     ]
    }
   ],
   "source": [
    "%%bash\n",
    "man -k . | head -n 20"
   ]
  },
  {
   "cell_type": "code",
   "execution_count": 3,
   "id": "e758ae43",
   "metadata": {},
   "outputs": [
    {
     "name": "stdout",
     "output_type": "stream",
     "text": [
      "LS(1)                            User Commands                           LS(1)\n",
      "\n",
      "NAME\n",
      "       ls - list directory contents\n",
      "\n",
      "SYNOPSIS\n",
      "       ls [OPTION]... [FILE]...\n",
      "\n",
      "DESCRIPTION\n",
      "       List  information  about  the FILEs (the current directory by default).\n",
      "       Sort entries alphabetically if none of -cftuvSUX nor --sort  is  speci‐\n",
      "       fied.\n",
      "\n",
      "       Mandatory  arguments  to  long  options are mandatory for short options\n",
      "       too.\n",
      "\n",
      "       -a, --all\n",
      "              do not ignore entries starting with .\n",
      "\n",
      "       -A, --almost-all\n"
     ]
    }
   ],
   "source": [
    "%%bash\n",
    "man ls | head -n 20"
   ]
  },
  {
   "cell_type": "code",
   "execution_count": 4,
   "id": "f5f71e3c",
   "metadata": {},
   "outputs": [
    {
     "name": "stdout",
     "output_type": "stream",
     "text": [
      "README.md\n",
      "linux.ipynb\n",
      "linux.sh\n"
     ]
    }
   ],
   "source": [
    "%%bash\n",
    "ls"
   ]
  },
  {
   "cell_type": "code",
   "execution_count": 5,
   "id": "7aea0e32",
   "metadata": {},
   "outputs": [
    {
     "name": "stderr",
     "output_type": "stream",
     "text": [
      "npm warn deprecated inflight@1.0.6: This module is not supported, and leaks memory. Do not use it. Check out lru-cache if you want a good and tested way to coalesce async requests by a key value, which is much more comprehensive and powerful.\n",
      "npm warn deprecated glob@7.2.3: Glob versions prior to v9 are no longer supported\n"
     ]
    },
    {
     "name": "stdout",
     "output_type": "stream",
     "text": [
      "\n",
      "changed 90 packages in 8s\n",
      "\n",
      "27 packages are looking for funding\n",
      "  run `npm fund` for details\n"
     ]
    }
   ],
   "source": [
    "%%bash\n",
    "npm install -g tldr"
   ]
  },
  {
   "cell_type": "code",
   "execution_count": 6,
   "id": "a6b867b4",
   "metadata": {},
   "outputs": [
    {
     "name": "stdout",
     "output_type": "stream",
     "text": [
      "\n",
      "  \u001b[1m\u001b[4mls\u001b[24m\u001b[22m\n",
      "\n",
      "  \u001b[1mList directory contents.\u001b[22m\n",
      "\u001b[1m  More information: https://www.gnu.org/software/coreutils/manual/html_node/ls-invocation.html.\u001b[22m\n",
      "\n",
      "  - List files one per line:\n",
      "    ls -1\n",
      "\n",
      "  - List all files, including hidden files:\n",
      "    ls \u001b[4m[-a|--all]\u001b[24m\n",
      "\n",
      "  - List files with a trailing symbol to indicate file type (directory/, symbolic_link@, executable*, ...):\n",
      "    ls \u001b[4m[-F|--classify]\u001b[24m\n",
      "\n",
      "  - List all files in [l]ong format (permissions, ownership, size, and modification date):\n",
      "    ls \u001b[4m[-la|-l --all]\u001b[24m\n",
      "\n",
      "  - List files in [l]ong format with size displayed using human-readable units (KiB, MiB, GiB):\n",
      "    ls \u001b[4m[-lh|-l --human-readable]\u001b[24m\n"
     ]
    }
   ],
   "source": [
    "%%bash\n",
    "tldr ls | head -n 20"
   ]
  },
  {
   "cell_type": "code",
   "execution_count": 7,
   "id": "019f4a9e",
   "metadata": {},
   "outputs": [
    {
     "name": "stdout",
     "output_type": "stream",
     "text": [
      "codespace\n"
     ]
    }
   ],
   "source": [
    "%%bash\n",
    "whoami"
   ]
  },
  {
   "cell_type": "code",
   "execution_count": 8,
   "id": "292e3c54",
   "metadata": {},
   "outputs": [
    {
     "name": "stdout",
     "output_type": "stream",
     "text": [
      "Linux\n"
     ]
    }
   ],
   "source": [
    "%%bash\n",
    "uname"
   ]
  },
  {
   "cell_type": "code",
   "execution_count": 9,
   "id": "061a0f88",
   "metadata": {},
   "outputs": [
    {
     "name": "stdout",
     "output_type": "stream",
     "text": [
      "Linux codespaces-94d38b 6.8.0-1026-azure #31~22.04.1-Ubuntu SMP Thu Mar 20 04:12:50 UTC 2025 x86_64 x86_64 x86_64 GNU/Linux\n"
     ]
    }
   ],
   "source": [
    "%%bash\n",
    "uname -a"
   ]
  },
  {
   "cell_type": "code",
   "execution_count": 10,
   "id": "cf307c06",
   "metadata": {},
   "outputs": [
    {
     "name": "stdout",
     "output_type": "stream",
     "text": [
      "uid=1000(codespace) gid=1000(codespace) groups=1000(codespace),106(ssh),107(docker),989(pipx),990(python),991(oryx),992(golang),993(sdkman),994(rvm),995(php),996(conda),997(nvs),998(nvm),999(hugo)\n"
     ]
    }
   ],
   "source": [
    "%%bash\n",
    "id"
   ]
  },
  {
   "cell_type": "code",
   "execution_count": 11,
   "id": "a34b3ddf",
   "metadata": {},
   "outputs": [
    {
     "name": "stdout",
     "output_type": "stream",
     "text": [
      "1000\n"
     ]
    }
   ],
   "source": [
    "%%bash\n",
    "id -u"
   ]
  },
  {
   "cell_type": "code",
   "execution_count": 12,
   "id": "f762e87e",
   "metadata": {},
   "outputs": [
    {
     "name": "stdout",
     "output_type": "stream",
     "text": [
      "codespace\n"
     ]
    }
   ],
   "source": [
    "%%bash\n",
    "id -u -n"
   ]
  },
  {
   "cell_type": "code",
   "execution_count": 13,
   "id": "3a37b193",
   "metadata": {},
   "outputs": [
    {
     "name": "stdout",
     "output_type": "stream",
     "text": [
      "Filesystem     1K-blocks     Used Available Use% Mounted on\n",
      "overlay         32847680 11485944  19667636  37% /\n",
      "tmpfs              65536        0     65536   0% /dev\n",
      "shm                65536        8     65528   1% /dev/shm\n",
      "/dev/root       30298176 13442980  16838812  45% /vscode\n",
      "/dev/sda1       46127956 19161960  24590420  44% /tmp\n",
      "/dev/loop4      32847680 11485944  19667636  37% /workspaces\n"
     ]
    }
   ],
   "source": [
    "%%bash\n",
    "df"
   ]
  },
  {
   "cell_type": "code",
   "execution_count": 15,
   "id": "3d29210b",
   "metadata": {},
   "outputs": [
    {
     "name": "stdout",
     "output_type": "stream",
     "text": [
      "Filesystem      Size  Used Avail Use% Mounted on\n",
      "overlay          32G   11G   19G  37% /\n",
      "tmpfs            64M     0   64M   0% /dev\n",
      "shm              64M  8.0K   64M   1% /dev/shm\n",
      "/dev/root        29G   13G   17G  45% /vscode\n",
      "/dev/sda1        44G   19G   24G  44% /tmp\n",
      "/dev/loop4       32G   11G   19G  37% /workspaces\n"
     ]
    }
   ],
   "source": [
    "%%bash\n",
    "df -h"
   ]
  },
  {
   "cell_type": "code",
   "execution_count": 14,
   "id": "dcbc4f7e",
   "metadata": {},
   "outputs": [
    {
     "name": "stdout",
     "output_type": "stream",
     "text": [
      "    PID TTY          TIME CMD\n",
      "      1 ?        00:00:00 docker-init\n",
      "      6 ?        00:00:01 sh\n",
      "   1408 ?        00:00:00 sh\n",
      "   2049 ?        00:00:00 sh\n",
      "   2058 ?        00:00:54 node\n",
      "   2218 ?        00:00:38 node\n",
      "   2235 ?        00:00:05 node\n",
      "   2714 ?        00:00:12 node\n",
      "   3214 ?        00:00:00 node\n",
      "   3755 ?        00:00:00 sh\n",
      "   8101 ?        00:00:00 node\n",
      "   8536 ?        00:00:00 pet\n",
      "   9155 ?        00:00:03 node\n",
      "   9549 ?        00:00:00 sh\n",
      "   9851 ?        00:00:26 node\n",
      "   9863 ?        00:00:05 node\n",
      "   9976 ?        00:00:00 pet\n",
      "  10598 ?        00:00:03 node\n",
      "  10686 ?        00:00:00 sh\n",
      "  11259 ?        00:00:00 sh\n",
      "  11675 ?        00:00:13 node\n",
      "  12490 ?        00:00:00 sh\n",
      "  15052 ?        00:00:00 sh\n",
      "  15524 ?        00:00:06 node\n",
      "  16530 ?        00:00:00 sh\n",
      "  20824 ?        00:00:00 sh\n",
      "  21409 ?        00:00:12 node\n",
      "  22453 ?        00:00:00 sh\n",
      "  25569 ?        00:00:15 python\n",
      "  39047 ?        00:00:00 sh\n",
      "  39650 ?        00:00:10 node\n",
      "  40519 ?        00:00:01 python\n",
      "  40590 ?        00:00:00 sh\n",
      "  42286 ?        00:00:00 sh\n",
      "  42938 ?        00:00:06 node\n",
      "  43772 ?        00:00:10 python\n",
      "  43881 ?        00:00:00 sh\n",
      "  59788 ?        00:00:00 sh\n",
      "  60499 ?        00:00:11 node\n",
      "  61285 ?        00:00:08 python\n",
      "  61372 ?        00:00:00 sh\n",
      "  72418 ?        00:00:00 sh\n",
      "  73186 ?        00:00:19 node\n",
      "  74002 ?        00:00:00 python\n",
      "  74106 ?        00:00:00 sh\n",
      "  75858 ?        00:00:00 python\n",
      "  76825 ?        00:00:00 python\n",
      "  78150 ?        00:00:00 python\n",
      "  78257 ?        00:00:00 sh\n",
      "  79912 ?        00:00:00 python\n",
      "  80804 ?        00:00:00 python\n",
      "  81667 ?        00:00:00 python\n",
      "  82597 ?        00:00:00 python\n",
      "  83717 ?        00:00:00 python\n",
      "  87542 ?        00:00:01 node\n",
      "  90236 ?        00:00:00 sh\n",
      "  91196 ?        00:00:22 node\n",
      "  91207 ?        00:00:05 node\n",
      "  91345 ?        00:00:00 pet\n",
      "  91981 ?        00:00:00 python\n",
      "  92036 ?        00:00:10 node\n",
      "  92116 ?        00:00:00 sh\n",
      "  93901 ?        00:00:00 sleep\n",
      "  93902 ?        00:00:00 bash\n",
      "  93903 ?        00:00:00 ps\n"
     ]
    }
   ],
   "source": [
    "%%bash\n",
    "ps"
   ]
  },
  {
   "cell_type": "code",
   "execution_count": 16,
   "id": "00a26d33",
   "metadata": {},
   "outputs": [
    {
     "name": "stdout",
     "output_type": "stream",
     "text": [
      "    PID TTY          TIME CMD\n",
      "      1 ?        00:00:00 docker-init\n",
      "      6 ?        00:00:01 sh\n",
      "    174 ?        00:00:00 sshd\n",
      "    325 ?        00:00:00 dockerd\n",
      "    578 ?        00:00:04 containerd\n",
      "   1408 ?        00:00:00 sh\n",
      "   1431 ?        00:00:00 sh\n",
      "   2049 ?        00:00:00 sh\n",
      "   2058 ?        00:00:54 node\n",
      "   2218 ?        00:00:38 node\n",
      "   2235 ?        00:00:05 node\n",
      "   2714 ?        00:00:12 node\n",
      "   3214 ?        00:00:00 node\n",
      "   3755 ?        00:00:00 sh\n",
      "   3815 ?        00:00:00 sh\n",
      "   8101 ?        00:00:00 node\n",
      "   8536 ?        00:00:00 pet\n",
      "   8730 pts/0    00:00:00 bash\n",
      "   9155 ?        00:00:03 node\n",
      "   9549 ?        00:00:00 sh\n",
      "   9603 ?        00:00:00 sh\n",
      "   9851 ?        00:00:26 node\n",
      "   9863 ?        00:00:05 node\n",
      "   9976 ?        00:00:00 pet\n",
      "  10171 pts/3    00:00:00 bash\n",
      "  10598 ?        00:00:03 node\n",
      "  10686 ?        00:00:00 sh\n",
      "  10710 ?        00:00:00 sh\n",
      "  11259 ?        00:00:00 sh\n",
      "  11316 ?        00:00:00 sh\n",
      "  11675 ?        00:00:13 node\n",
      "  11974 pts/4    00:00:00 bash\n",
      "  12490 ?        00:00:00 sh\n",
      "  12519 ?        00:00:00 sh\n",
      "  15052 ?        00:00:00 sh\n",
      "  15107 ?        00:00:00 sh\n",
      "  15524 ?        00:00:06 node\n",
      "  15868 pts/5    00:00:00 bash\n",
      "  16530 ?        00:00:00 sh\n",
      "  16582 ?        00:00:00 sh\n",
      "  20824 ?        00:00:00 sh\n",
      "  20860 ?        00:00:00 sh\n",
      "  21409 ?        00:00:12 node\n",
      "  21808 pts/6    00:00:00 bash\n",
      "  22453 ?        00:00:00 sh\n",
      "  22476 ?        00:00:00 sh\n",
      "  25569 ?        00:00:15 python\n",
      "  39047 ?        00:00:00 sh\n",
      "  39088 ?        00:00:00 sh\n",
      "  39650 ?        00:00:10 node\n",
      "  40030 pts/1    00:00:00 bash\n",
      "  40519 ?        00:00:01 python\n",
      "  40590 ?        00:00:00 sh\n",
      "  40625 ?        00:00:00 sh\n",
      "  42286 ?        00:00:00 sh\n",
      "  42325 ?        00:00:00 sh\n",
      "  42938 ?        00:00:06 node\n",
      "  43255 pts/7    00:00:00 bash\n",
      "  43772 ?        00:00:10 python\n",
      "  43881 ?        00:00:00 sh\n",
      "  43908 ?        00:00:00 sh\n",
      "  59788 ?        00:00:00 sh\n",
      "  59820 ?        00:00:00 sh\n",
      "  60499 ?        00:00:11 node\n",
      "  60835 pts/8    00:00:00 bash\n",
      "  61285 ?        00:00:08 python\n",
      "  61372 ?        00:00:00 sh\n",
      "  61397 ?        00:00:00 sh\n",
      "  72418 ?        00:00:00 sh\n",
      "  72451 ?        00:00:00 sh\n",
      "  73186 ?        00:00:19 node\n",
      "  73564 pts/9    00:00:00 bash\n",
      "  74002 ?        00:00:00 python\n",
      "  74106 ?        00:00:00 sh\n",
      "  74131 ?        00:00:00 sh\n",
      "  75429 pts/10   00:00:00 bash\n",
      "  75858 ?        00:00:00 python\n",
      "  76296 pts/11   00:00:00 bash\n",
      "  76825 ?        00:00:00 python\n",
      "  77662 pts/12   00:00:00 bash\n",
      "  78150 ?        00:00:00 python\n",
      "  78257 ?        00:00:00 sh\n",
      "  78275 ?        00:00:00 sh\n",
      "  79388 pts/13   00:00:00 bash\n",
      "  79912 ?        00:00:00 python\n",
      "  80317 pts/14   00:00:00 bash\n",
      "  80804 ?        00:00:00 python\n",
      "  81184 pts/15   00:00:00 bash\n",
      "  81667 ?        00:00:00 python\n",
      "  82062 pts/16   00:00:00 bash\n",
      "  82597 ?        00:00:00 python\n",
      "  83199 pts/17   00:00:00 bash\n",
      "  83717 ?        00:00:00 python\n",
      "  84070 pts/18   00:00:00 bash\n",
      "  84957 pts/19   00:00:00 bash\n",
      "  85807 pts/20   00:00:00 bash\n",
      "  86927 pts/21   00:00:00 bash\n",
      "  87542 ?        00:00:01 node\n",
      "  90236 ?        00:00:00 sh\n",
      "  90269 ?        00:00:00 sh\n",
      "  91196 ?        00:00:22 node\n",
      "  91207 ?        00:00:05 node\n",
      "  91345 ?        00:00:00 pet\n",
      "  91525 pts/22   00:00:00 bash\n",
      "  91981 ?        00:00:01 python\n",
      "  92036 ?        00:00:10 node\n",
      "  92116 ?        00:00:00 sh\n",
      "  92136 ?        00:00:00 sh\n",
      "  93961 ?        00:00:00 sleep\n",
      "  93980 ?        00:00:00 bash\n",
      "  93981 ?        00:00:00 ps\n"
     ]
    }
   ],
   "source": [
    "%%bash\n",
    "ps -e"
   ]
  },
  {
   "cell_type": "code",
   "execution_count": 2,
   "id": "ad5ddbfd",
   "metadata": {},
   "outputs": [
    {
     "name": "stdout",
     "output_type": "stream",
     "text": [
      "/home/codespace/.python/current/bin\n",
      "/vscode/bin/linux-x64/17baf841131aa23349f217ca7c570c76ee87b957/bin/remote-cli\n",
      "/home/codespace/.local/bin\n",
      "/home/codespace/.dotnet\n",
      "/home/codespace/nvm/current/bin\n",
      "/home/codespace/.php/current/bin\n",
      "/home/codespace/.python/current/bin\n",
      "/home/codespace/java/current/bin\n",
      "/home/codespace/.ruby/current/bin\n",
      "/home/codespace/.local/bin\n",
      "/usr/local/python/current/bin\n",
      "/usr/local/py-utils/bin\n",
      "/usr/local/jupyter\n",
      "/usr/local/oryx\n",
      "/usr/local/go/bin\n",
      "/go/bin\n",
      "/usr/local/sdkman/bin\n",
      "/usr/local/sdkman/candidates/java/current/bin\n",
      "/usr/local/sdkman/candidates/gradle/current/bin\n",
      "/usr/local/sdkman/candidates/maven/current/bin\n",
      "/usr/local/sdkman/candidates/ant/current/bin\n",
      "/usr/local/rvm/gems/default/bin\n",
      "/usr/local/rvm/gems/default@global/bin\n",
      "/usr/local/rvm/rubies/default/bin\n",
      "/usr/local/share/rbenv/bin\n",
      "/usr/local/php/current/bin\n",
      "/opt/conda/bin\n",
      "/usr/local/nvs\n",
      "/usr/local/share/nvm/current/bin\n",
      "/usr/local/hugo/bin\n",
      "/usr/local/sbin\n",
      "/usr/local/bin\n",
      "/usr/sbin\n",
      "/usr/bin\n",
      "/sbin\n",
      "/bin\n",
      "/usr/share/dotnet\n",
      "/home/codespace/.dotnet/tools\n",
      "/usr/local/rvm/bin\n",
      "/vscode/bin/linux-x64/17baf841131aa23349f217ca7c570c76ee87b957/bin/remote-cli\n",
      "/home/codespace/.local/bin\n",
      "/home/codespace/.dotnet\n",
      "/home/codespace/nvm/current/bin\n",
      "/home/codespace/.php/current/bin\n",
      "/home/codespace/.python/current/bin\n",
      "/home/codespace/java/current/bin\n",
      "/home/codespace/.ruby/current/bin\n",
      "/home/codespace/.local/bin\n",
      "/usr/local/python/current/bin\n",
      "/usr/local/py-utils/bin\n",
      "/usr/local/jupyter\n",
      "/usr/local/oryx\n",
      "/usr/local/go/bin\n",
      "/go/bin\n",
      "/usr/local/sdkman/bin\n",
      "/usr/local/sdkman/candidates/java/current/bin\n",
      "/usr/local/sdkman/candidates/gradle/current/bin\n",
      "/usr/local/sdkman/candidates/maven/current/bin\n",
      "/usr/local/sdkman/candidates/ant/current/bin\n",
      "/usr/local/rvm/gems/default/bin\n",
      "/usr/local/rvm/gems/default@global/bin\n",
      "/usr/local/rvm/rubies/default/bin\n",
      "/usr/local/share/rbenv/bin\n",
      "/usr/local/php/current/bin\n",
      "/opt/conda/bin\n",
      "/usr/local/nvs\n",
      "/usr/local/share/nvm/current/bin\n",
      "/usr/local/hugo/bin\n",
      "/usr/local/sbin\n",
      "/usr/local/bin\n",
      "/usr/sbin\n",
      "/usr/bin\n",
      "/sbin\n",
      "/bin\n",
      "/usr/share/dotnet\n",
      "/home/codespace/.dotnet/tools\n",
      "/usr/local/rvm/bin\n",
      "Hello World!\n"
     ]
    }
   ],
   "source": [
    "%%bash\n",
    "echo $PATH | tr ':' '\\n'\n",
    "echo \"Hello World!\""
   ]
  },
  {
   "cell_type": "code",
   "execution_count": 3,
   "id": "2555cbf0",
   "metadata": {},
   "outputs": [
    {
     "name": "stdout",
     "output_type": "stream",
     "text": [
      "Printing\n",
      "This 2nd line.\n"
     ]
    }
   ],
   "source": [
    "%%bash\n",
    "echo -e \"Printing\\nThis 2nd line.\""
   ]
  },
  {
   "cell_type": "code",
   "execution_count": 4,
   "id": "660013a2",
   "metadata": {},
   "outputs": [
    {
     "name": "stdout",
     "output_type": "stream",
     "text": [
      "Sun Apr 27 21:32:32 UTC 2025\n"
     ]
    }
   ],
   "source": [
    "%%bash\n",
    "date"
   ]
  },
  {
   "cell_type": "code",
   "execution_count": 4,
   "id": "9e9a2df6",
   "metadata": {},
   "outputs": [
    {
     "name": "stdout",
     "output_type": "stream",
     "text": [
      "2025\n",
      "04/27/25\n",
      "The current time is 22:06:06\n"
     ]
    }
   ],
   "source": [
    "%%bash\n",
    "date \"+%Y\"\n",
    "date \"+%D\"\n",
    "date \"+The current time is %T\""
   ]
  },
  {
   "cell_type": "code",
   "execution_count": 47,
   "id": "b1cb54cb",
   "metadata": {},
   "outputs": [
    {
     "name": "stdout",
     "output_type": "stream",
     "text": [
      "bin\n",
      "boot\n",
      "dev\n",
      "etc\n",
      "go\n",
      "home\n",
      "lib\n",
      "lib32\n",
      "lib64\n",
      "libx32\n",
      "media\n",
      "mnt\n",
      "opt\n",
      "proc\n",
      "root\n",
      "run\n",
      "sbin\n",
      "srv\n",
      "sys\n",
      "tmp\n",
      "usr\n",
      "var\n",
      "vscode\n",
      "workspaces\n"
     ]
    }
   ],
   "source": [
    "%%bash\n",
    "ls ../.."
   ]
  },
  {
   "cell_type": "code",
   "execution_count": 48,
   "id": "06ffec30",
   "metadata": {},
   "outputs": [
    {
     "name": "stdout",
     "output_type": "stream",
     "text": [
      "java\n",
      "nvm\n"
     ]
    }
   ],
   "source": [
    "%%bash\n",
    "ls ~"
   ]
  },
  {
   "cell_type": "code",
   "execution_count": 49,
   "id": "83b68958",
   "metadata": {},
   "outputs": [
    {
     "name": "stdout",
     "output_type": "stream",
     "text": [
      "/workspaces/Introduction-to-Shell-Scripting\n"
     ]
    }
   ],
   "source": [
    "%%bash\n",
    "pwd"
   ]
  },
  {
   "cell_type": "code",
   "execution_count": 50,
   "id": "a74c4f5f",
   "metadata": {},
   "outputs": [
    {
     "name": "stdout",
     "output_type": "stream",
     "text": [
      "/home/codespace\n"
     ]
    }
   ],
   "source": [
    "%%bash\n",
    "cd ~\n",
    "pwd"
   ]
  },
  {
   "cell_type": "code",
   "execution_count": 51,
   "id": "759e89c3",
   "metadata": {},
   "outputs": [
    {
     "name": "stderr",
     "output_type": "stream",
     "text": [
      "bash: line 1: cd: ../../workspace/Introduction-to-Shell-Scripting: No such file or directory\n"
     ]
    },
    {
     "name": "stdout",
     "output_type": "stream",
     "text": [
      "/workspaces/Introduction-to-Shell-Scripting\n",
      "README.md\n",
      "linux.ipynb\n",
      "linux.sh\n"
     ]
    }
   ],
   "source": [
    "%%bash\n",
    "cd ../../workspace/Introduction-to-Shell-Scripting\n",
    "pwd\n",
    "ls"
   ]
  },
  {
   "cell_type": "code",
   "execution_count": null,
   "id": "fcefda3c",
   "metadata": {},
   "outputs": [
    {
     "name": "stdout",
     "output_type": "stream",
     "text": [
      "Introduction-to-Shell-Scripting\n",
      "/workspaces/Introduction-to-Shell-Scripting\n"
     ]
    }
   ],
   "source": [
    "%%bash\n",
    "ls .."
   ]
  },
  {
   "cell_type": "code",
   "execution_count": 44,
   "id": "ab4ef0bb",
   "metadata": {},
   "outputs": [
    {
     "name": "stdout",
     "output_type": "stream",
     "text": [
      "README.md\n",
      "linux.ipynb\n",
      "linux.sh\n",
      "/workspaces/Introduction-to-Shell-Scripting\n"
     ]
    }
   ],
   "source": [
    "%%bash\n",
    "ls .\n",
    "pwd ."
   ]
  },
  {
   "cell_type": "code",
   "execution_count": 3,
   "id": "9309bb0b",
   "metadata": {},
   "outputs": [
    {
     "name": "stdout",
     "output_type": "stream",
     "text": [
      "README.md\n",
      "linux.ipynb\n",
      "linux.sh\n",
      "sample\n",
      "sample2\n"
     ]
    }
   ],
   "source": [
    "%%bash\n",
    "mkdir sample\n",
    "mkdir sample2\n",
    "ls"
   ]
  },
  {
   "cell_type": "code",
   "execution_count": 4,
   "id": "c2f83517",
   "metadata": {},
   "outputs": [
    {
     "name": "stdout",
     "output_type": "stream",
     "text": [
      "README.md\n",
      "linux.ipynb\n",
      "linux.sh\n",
      "sample\n",
      "sample.md\n",
      "sample2\n",
      "sample2.md\n"
     ]
    }
   ],
   "source": [
    "%%bash\n",
    "touch sample.md\n",
    "touch sample2.md\n",
    "ls"
   ]
  },
  {
   "cell_type": "code",
   "execution_count": 5,
   "id": "b89137d3",
   "metadata": {},
   "outputs": [
    {
     "name": "stdout",
     "output_type": "stream",
     "text": [
      "sample.md\n"
     ]
    }
   ],
   "source": [
    "%%bash\n",
    "cp sample.md sample\n",
    "ls sample"
   ]
  },
  {
   "cell_type": "code",
   "execution_count": 6,
   "id": "6cda35f3",
   "metadata": {},
   "outputs": [],
   "source": [
    "%%bash\n",
    "cp -r sample sample3"
   ]
  },
  {
   "cell_type": "code",
   "execution_count": 7,
   "id": "54e93727",
   "metadata": {},
   "outputs": [
    {
     "name": "stdout",
     "output_type": "stream",
     "text": [
      "README.md\n",
      "linux.ipynb\n",
      "linux.sh\n",
      "sample\n",
      "sample.md\n",
      "sample2\n",
      "sample2.md\n",
      "sample3\n"
     ]
    }
   ],
   "source": [
    "%%bash\n",
    "ls"
   ]
  },
  {
   "cell_type": "code",
   "execution_count": 8,
   "id": "7a15f259",
   "metadata": {},
   "outputs": [
    {
     "name": "stdout",
     "output_type": "stream",
     "text": [
      "sample.md\n"
     ]
    }
   ],
   "source": [
    "%%bash\n",
    "ls sample"
   ]
  },
  {
   "cell_type": "code",
   "execution_count": 9,
   "id": "a565833b",
   "metadata": {},
   "outputs": [
    {
     "name": "stdout",
     "output_type": "stream",
     "text": [
      "sample.md\n"
     ]
    }
   ],
   "source": [
    "%%bash\n",
    "ls sample3"
   ]
  },
  {
   "cell_type": "code",
   "execution_count": 10,
   "id": "9e5c1761",
   "metadata": {},
   "outputs": [
    {
     "name": "stdout",
     "output_type": "stream",
     "text": [
      "README.md\n",
      "linux.ipynb\n",
      "linux.sh\n",
      "sample\n",
      "sample.md\n",
      "sample2\n",
      "sample3\n"
     ]
    }
   ],
   "source": [
    "%%bash\n",
    "mv sample2.md sample\n",
    "ls"
   ]
  },
  {
   "cell_type": "code",
   "execution_count": 11,
   "id": "8722bf14",
   "metadata": {},
   "outputs": [
    {
     "name": "stdout",
     "output_type": "stream",
     "text": [
      "sample.md\n",
      "sample2.md\n"
     ]
    }
   ],
   "source": [
    "%%bash\n",
    "ls sample"
   ]
  },
  {
   "cell_type": "code",
   "execution_count": 12,
   "id": "8627ab53",
   "metadata": {},
   "outputs": [
    {
     "name": "stdout",
     "output_type": "stream",
     "text": [
      "README.md\n",
      "linux.ipynb\n",
      "linux.sh\n",
      "sample.md\n",
      "sample2\n",
      "sample3\n"
     ]
    }
   ],
   "source": [
    "%%bash\n",
    "mv sample sample3\n",
    "ls"
   ]
  },
  {
   "cell_type": "code",
   "execution_count": 13,
   "id": "143cad35",
   "metadata": {},
   "outputs": [
    {
     "name": "stdout",
     "output_type": "stream",
     "text": [
      "sample\n",
      "sample.md\n"
     ]
    }
   ],
   "source": [
    "%%bash\n",
    "ls sample3"
   ]
  },
  {
   "cell_type": "code",
   "execution_count": 14,
   "id": "00f6ef73",
   "metadata": {},
   "outputs": [
    {
     "name": "stdout",
     "output_type": "stream",
     "text": [
      "README.md\n",
      "linux.ipynb\n",
      "linux.sh\n"
     ]
    }
   ],
   "source": [
    "%%bash\n",
    "rm sample.md\n",
    "rm -r sample3\n",
    "rmdir sample2\n",
    "ls"
   ]
  },
  {
   "cell_type": "code",
   "execution_count": 39,
   "id": "6d6b0aed",
   "metadata": {},
   "outputs": [
    {
     "name": "stdout",
     "output_type": "stream",
     "text": [
      "man -k ."
     ]
    }
   ],
   "source": [
    "%%bash\n",
    "cat linux.sh"
   ]
  },
  {
   "cell_type": "code",
   "execution_count": 17,
   "id": "1ab32604",
   "metadata": {},
   "outputs": [
    {
     "name": "stdout",
     "output_type": "stream",
     "text": [
      "ldap.conf (5)        - LDAP configuration file/environment variables\n",
      "adduser.conf (5)     - configuration file for adduser(8) and addgroup(8) .\n",
      "deluser.conf (5)     - configuration file for deluser(8) and delgroup(8) .\n",
      "mailcap.order (5)    - the mailcap ordering specifications\n",
      "odbc.ini (5)         - unixODBC data sources configuration\n",
      "odbcinst.ini (5)     - An unixODBC drivers configuration\n",
      "30-systemd-environment-d-generator (8) - Load variables specified by environm...\n",
      "as (1)               - the portable GNU assembler.\n",
      "tc-bpf (8)           - BPF programmable classifier and actions for ingress/eg...\n",
      "bpf-helpers (7)      - list of eBPF helper functions\n",
      "Compose (5)          - X client mappings for multi-key input sequences\n",
      "Dpkg (3perl)         - module with core variables\n",
      "Error (3pm)          - Error/exception handling in an OO-ish way\n",
      "FD_CLR (2)           - synchronous I/O multiplexing\n",
      "FD_CLR (3)           - synchronous I/O multiplexing\n",
      "pselect (2)          - synchronous I/O multiplexing\n",
      "FD_ISSET (3)         - synchronous I/O multiplexing\n",
      "FD_SET (3)           - synchronous I/O multiplexing\n",
      "FD_ZERO (3)          - synchronous I/O multiplexing\n",
      "ffi (3)              - Foreign Function Interface\n"
     ]
    }
   ],
   "source": [
    "%%bash\n",
    "man -k . | head -n 20"
   ]
  },
  {
   "cell_type": "code",
   "execution_count": 18,
   "id": "ad925b15",
   "metadata": {},
   "outputs": [
    {
     "name": "stdout",
     "output_type": "stream",
     "text": [
      "BASH(1)                     General Commands Manual                    BASH(1)\n",
      "\n",
      "NAME\n",
      "       bash - GNU Bourne-Again SHell\n",
      "\n",
      "SYNOPSIS\n",
      "       bash [options] [command_string | file]\n",
      "\n",
      "COPYRIGHT\n",
      "       Bash is Copyright (C) 1989-2018 by the Free Software Foundation, Inc.\n",
      "\n",
      "DESCRIPTION\n",
      "       Bash  is  an  sh-compatible  command language interpreter that executes\n",
      "       commands read from the standard input or from a file.  Bash also incor‐\n",
      "       porates useful features from the Korn and C shells (ksh and csh).\n",
      "\n",
      "       Bash  is  intended  to  be a conformant implementation of the Shell and\n",
      "       Utilities portion  of  the  IEEE  POSIX  specification  (IEEE  Standard\n",
      "       1003.1).  Bash can be configured to be POSIX-conformant by default.\n",
      "\n"
     ]
    }
   ],
   "source": [
    "%%bash\n",
    "man bash | head -n 20"
   ]
  },
  {
   "cell_type": "code",
   "execution_count": null,
   "id": "17c05484",
   "metadata": {},
   "outputs": [],
   "source": [
    "%%bash\n",
    "nano -w linux.sh"
   ]
  },
  {
   "cell_type": "code",
   "execution_count": null,
   "id": "7e83e19f",
   "metadata": {},
   "outputs": [],
   "source": [
    "%%bash\n",
    "vim linux.sh"
   ]
  },
  {
   "cell_type": "code",
   "execution_count": null,
   "id": "feeefd7d",
   "metadata": {},
   "outputs": [],
   "source": []
  }
 ],
 "metadata": {
  "kernelspec": {
   "display_name": "Python 3",
   "language": "python",
   "name": "python3"
  },
  "language_info": {
   "codemirror_mode": {
    "name": "ipython",
    "version": 3
   },
   "file_extension": ".py",
   "mimetype": "text/x-python",
   "name": "python",
   "nbconvert_exporter": "python",
   "pygments_lexer": "ipython3",
   "version": "3.12.1"
  }
 },
 "nbformat": 4,
 "nbformat_minor": 5
}
