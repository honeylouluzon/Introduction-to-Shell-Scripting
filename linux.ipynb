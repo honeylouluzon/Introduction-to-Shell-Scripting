{
 "cells": [
  {
   "cell_type": "code",
   "execution_count": 32,
   "id": "7ab7e4b6",
   "metadata": {},
   "outputs": [
    {
     "name": "stderr",
     "output_type": "stream",
     "text": [
      "\n",
      "WARNING: apt does not have a stable CLI interface. Use with caution in scripts.\n",
      "\n"
     ]
    },
    {
     "name": "stdout",
     "output_type": "stream",
     "text": [
      "Get:1 https://packages.microsoft.com/repos/microsoft-ubuntu-focal-prod focal InRelease [3632 B]\n",
      "Get:2 https://repo.anaconda.com/pkgs/misc/debrepo/conda stable InRelease [3961 B]\n",
      "Get:3 https://packages.microsoft.com/repos/microsoft-ubuntu-focal-prod focal/main all Packages [2938 B]\n",
      "Get:4 https://packages.microsoft.com/repos/microsoft-ubuntu-focal-prod focal/main amd64 Packages [348 kB]\n",
      "Get:5 https://repo.anaconda.com/pkgs/misc/debrepo/conda stable/main amd64 Packages [4557 B]\n",
      "Get:6 https://dl.yarnpkg.com/debian stable InRelease [17.1 kB]\n",
      "Get:7 https://dl.yarnpkg.com/debian stable/main all Packages [11.8 kB]\n",
      "Get:8 https://dl.yarnpkg.com/debian stable/main amd64 Packages [11.8 kB]\n",
      "Get:10 http://archive.ubuntu.com/ubuntu focal InRelease [265 kB]\n",
      "Get:11 http://security.ubuntu.com/ubuntu focal-security InRelease [128 kB]\n",
      "Get:9 https://packagecloud.io/github/git-lfs/ubuntu focal InRelease [29.1 kB]\n",
      "Get:12 http://security.ubuntu.com/ubuntu focal-security/multiverse amd64 Packages [33.2 kB]\n",
      "Get:13 http://archive.ubuntu.com/ubuntu focal-updates InRelease [128 kB]\n",
      "Get:14 http://security.ubuntu.com/ubuntu focal-security/restricted amd64 Packages [4604 kB]\n",
      "Get:16 http://archive.ubuntu.com/ubuntu focal-backports InRelease [128 kB]\n",
      "Get:17 http://archive.ubuntu.com/ubuntu focal/restricted amd64 Packages [33.4 kB]\n",
      "Get:18 http://archive.ubuntu.com/ubuntu focal/multiverse amd64 Packages [177 kB]\n",
      "Get:15 https://packagecloud.io/github/git-lfs/ubuntu focal/main amd64 Packages [4064 B]\n",
      "Get:19 http://archive.ubuntu.com/ubuntu focal/universe amd64 Packages [11.3 MB]\n",
      "Get:20 http://security.ubuntu.com/ubuntu focal-security/universe amd64 Packages [1308 kB]\n",
      "Get:21 http://security.ubuntu.com/ubuntu focal-security/main amd64 Packages [4354 kB]\n",
      "Get:22 http://archive.ubuntu.com/ubuntu focal/main amd64 Packages [1275 kB]\n",
      "Get:23 http://archive.ubuntu.com/ubuntu focal-updates/multiverse amd64 Packages [36.8 kB]\n",
      "Get:24 http://archive.ubuntu.com/ubuntu focal-updates/main amd64 Packages [4841 kB]\n",
      "Get:25 http://archive.ubuntu.com/ubuntu focal-updates/universe amd64 Packages [1605 kB]\n",
      "Get:26 http://archive.ubuntu.com/ubuntu focal-updates/restricted amd64 Packages [4808 kB]\n",
      "Get:27 http://archive.ubuntu.com/ubuntu focal-backports/main amd64 Packages [55.2 kB]\n",
      "Get:28 http://archive.ubuntu.com/ubuntu focal-backports/universe amd64 Packages [28.6 kB]\n",
      "Fetched 35.6 MB in 6s (6291 kB/s)\n",
      "Reading package lists...\n",
      "Building dependency tree...\n",
      "Reading state information...\n",
      "51 packages can be upgraded. Run 'apt list --upgradable' to see them.\n"
     ]
    }
   ],
   "source": [
    "%%bash\n",
    "sudo apt update"
   ]
  },
  {
   "cell_type": "code",
   "execution_count": null,
   "id": "0e9d81ed",
   "metadata": {},
   "outputs": [],
   "source": [
    "%%bash\n",
    "sudo apt install top"
   ]
  },
  {
   "cell_type": "code",
   "execution_count": null,
   "id": "2fee6365",
   "metadata": {},
   "outputs": [],
   "source": [
    "%%bash\n",
    "man -k ."
   ]
  },
  {
   "cell_type": "code",
   "execution_count": null,
   "id": "e758ae43",
   "metadata": {},
   "outputs": [],
   "source": [
    "%%bash\n",
    "man ls"
   ]
  },
  {
   "cell_type": "code",
   "execution_count": 14,
   "id": "f5f71e3c",
   "metadata": {},
   "outputs": [
    {
     "name": "stdout",
     "output_type": "stream",
     "text": [
      "README.md\n",
      "linux.ipynb\n",
      "linux.sh\n"
     ]
    }
   ],
   "source": [
    "%%bash\n",
    "ls"
   ]
  },
  {
   "cell_type": "code",
   "execution_count": null,
   "id": "7aea0e32",
   "metadata": {},
   "outputs": [],
   "source": [
    "%%bash\n",
    "npm install -g tldr"
   ]
  },
  {
   "cell_type": "code",
   "execution_count": 16,
   "id": "a6b867b4",
   "metadata": {},
   "outputs": [
    {
     "name": "stderr",
     "output_type": "stream",
     "text": [
      "- Page not found. Updating cache...\n",
      "\u001b[32m✔\u001b[39m Page not found. Updating cache...\n",
      "- Creating index...\n",
      "\u001b[32m✔\u001b[39m Creating index...\n"
     ]
    },
    {
     "name": "stdout",
     "output_type": "stream",
     "text": [
      "\n",
      "  \u001b[1m\u001b[4mls\u001b[24m\u001b[22m\n",
      "\n",
      "  \u001b[1mList directory contents.\u001b[22m\n",
      "\u001b[1m  More information: https://www.gnu.org/software/coreutils/manual/html_node/ls-invocation.html.\u001b[22m\n",
      "\n",
      "  - List files one per line:\n",
      "    ls -1\n",
      "\n",
      "  - List all files, including hidden files:\n",
      "    ls \u001b[4m[-a|--all]\u001b[24m\n",
      "\n",
      "  - List files with a trailing symbol to indicate file type (directory/, symbolic_link@, executable*, ...):\n",
      "    ls \u001b[4m[-F|--classify]\u001b[24m\n",
      "\n",
      "  - List all files in [l]ong format (permissions, ownership, size, and modification date):\n",
      "    ls \u001b[4m[-la|-l --all]\u001b[24m\n",
      "\n",
      "  - List files in [l]ong format with size displayed using human-readable units (KiB, MiB, GiB):\n",
      "    ls \u001b[4m[-lh|-l --human-readable]\u001b[24m\n",
      "\n",
      "  - List files in [l]ong format, sorted by [S]ize (descending) recursively:\n",
      "    ls \u001b[4m[-lSR|-lS --recursive]\u001b[24m\n",
      "\n",
      "  - List files in [l]ong format, sorted by [t]ime the file was modified and in reverse order (oldest first):\n",
      "    ls \u001b[4m[-ltr|-lt --reverse]\u001b[24m\n",
      "\n",
      "  - Only list directories:\n",
      "    ls \u001b[4m[-d|--directory]\u001b[24m */\n",
      "\n",
      "\n"
     ]
    }
   ],
   "source": [
    "%%bash\n",
    "tldr ls"
   ]
  },
  {
   "cell_type": "code",
   "execution_count": 17,
   "id": "019f4a9e",
   "metadata": {},
   "outputs": [
    {
     "name": "stdout",
     "output_type": "stream",
     "text": [
      "codespace\n"
     ]
    }
   ],
   "source": [
    "%%bash\n",
    "whoami"
   ]
  },
  {
   "cell_type": "code",
   "execution_count": 19,
   "id": "292e3c54",
   "metadata": {},
   "outputs": [
    {
     "name": "stdout",
     "output_type": "stream",
     "text": [
      "Linux\n"
     ]
    }
   ],
   "source": [
    "%%bash\n",
    "uname"
   ]
  },
  {
   "cell_type": "code",
   "execution_count": 20,
   "id": "061a0f88",
   "metadata": {},
   "outputs": [
    {
     "name": "stdout",
     "output_type": "stream",
     "text": [
      "Linux codespaces-94d38b 6.8.0-1026-azure #31~22.04.1-Ubuntu SMP Thu Mar 20 04:12:50 UTC 2025 x86_64 x86_64 x86_64 GNU/Linux\n"
     ]
    }
   ],
   "source": [
    "%%bash\n",
    "uname -a"
   ]
  },
  {
   "cell_type": "code",
   "execution_count": 21,
   "id": "cf307c06",
   "metadata": {},
   "outputs": [
    {
     "name": "stdout",
     "output_type": "stream",
     "text": [
      "uid=1000(codespace) gid=1000(codespace) groups=1000(codespace),106(ssh),107(docker),989(pipx),990(python),991(oryx),992(golang),993(sdkman),994(rvm),995(php),996(conda),997(nvs),998(nvm),999(hugo)\n"
     ]
    }
   ],
   "source": [
    "%%bash\n",
    "id"
   ]
  },
  {
   "cell_type": "code",
   "execution_count": 22,
   "id": "a34b3ddf",
   "metadata": {},
   "outputs": [
    {
     "name": "stdout",
     "output_type": "stream",
     "text": [
      "1000\n"
     ]
    }
   ],
   "source": [
    "%%bash\n",
    "id -u"
   ]
  },
  {
   "cell_type": "code",
   "execution_count": 23,
   "id": "f762e87e",
   "metadata": {},
   "outputs": [
    {
     "name": "stdout",
     "output_type": "stream",
     "text": [
      "codespace\n"
     ]
    }
   ],
   "source": [
    "%%bash\n",
    "id -u -n"
   ]
  },
  {
   "cell_type": "code",
   "execution_count": 24,
   "id": "3a37b193",
   "metadata": {},
   "outputs": [
    {
     "name": "stdout",
     "output_type": "stream",
     "text": [
      "Filesystem     1K-blocks     Used Available Use% Mounted on\n",
      "overlay         32847680 11422936  19730644  37% /\n",
      "tmpfs              65536        0     65536   0% /dev\n",
      "shm                65536        8     65528   1% /dev/shm\n",
      "/dev/root       30298176 13332480  16949312  45% /vscode\n",
      "/dev/sda1       46127956 19161832  24590548  44% /tmp\n",
      "/dev/loop4      32847680 11422936  19730644  37% /workspaces\n"
     ]
    }
   ],
   "source": [
    "%%bash\n",
    "df"
   ]
  },
  {
   "cell_type": "code",
   "execution_count": 25,
   "id": "3d29210b",
   "metadata": {},
   "outputs": [
    {
     "name": "stdout",
     "output_type": "stream",
     "text": [
      "Filesystem      Size  Used Avail Use% Mounted on\n",
      "overlay          32G   11G   19G  37% /\n",
      "tmpfs            64M     0   64M   0% /dev\n",
      "shm              64M  8.0K   64M   1% /dev/shm\n",
      "/dev/root        29G   13G   17G  45% /vscode\n",
      "/dev/sda1        44G   19G   24G  44% /tmp\n",
      "/dev/loop4       32G   11G   19G  37% /workspaces\n"
     ]
    }
   ],
   "source": [
    "%%bash\n",
    "df -h"
   ]
  },
  {
   "cell_type": "code",
   "execution_count": 26,
   "id": "dcbc4f7e",
   "metadata": {},
   "outputs": [
    {
     "name": "stdout",
     "output_type": "stream",
     "text": [
      "    PID TTY          TIME CMD\n",
      "      1 ?        00:00:00 docker-init\n",
      "      6 ?        00:00:00 sh\n",
      "   1408 ?        00:00:00 sh\n",
      "   2049 ?        00:00:00 sh\n",
      "   2058 ?        00:00:34 node\n",
      "   2218 ?        00:00:33 node\n",
      "   2235 ?        00:00:05 node\n",
      "   2714 ?        00:00:03 node\n",
      "   3214 ?        00:00:00 node\n",
      "   3755 ?        00:00:00 sh\n",
      "   8101 ?        00:00:00 node\n",
      "   8536 ?        00:00:00 pet\n",
      "   9155 ?        00:00:03 node\n",
      "   9549 ?        00:00:00 sh\n",
      "   9851 ?        00:00:22 node\n",
      "   9863 ?        00:00:04 node\n",
      "   9976 ?        00:00:00 pet\n",
      "  10598 ?        00:00:03 node\n",
      "  10686 ?        00:00:00 sh\n",
      "  11259 ?        00:00:00 sh\n",
      "  11652 ?        00:00:37 node\n",
      "  11675 ?        00:00:13 node\n",
      "  11764 ?        00:00:00 pet\n",
      "  12490 ?        00:00:00 sh\n",
      "  13998 ?        00:00:03 node\n",
      "  14253 ?        00:00:00 node\n",
      "  15052 ?        00:00:00 sh\n",
      "  15524 ?        00:00:06 node\n",
      "  16530 ?        00:00:00 sh\n",
      "  20824 ?        00:00:00 sh\n",
      "  21375 ?        00:01:33 node\n",
      "  21409 ?        00:00:12 node\n",
      "  21608 ?        00:00:00 pet\n",
      "  22336 ?        00:00:48 node\n",
      "  22453 ?        00:00:00 sh\n",
      "  23079 ?        00:00:00 node\n",
      "  25569 ?        00:00:09 python\n",
      "  26939 ?        00:00:00 node\n",
      "  35635 ?        00:00:00 sleep\n",
      "  35640 ?        00:00:00 bash\n",
      "  35641 ?        00:00:00 ps\n"
     ]
    }
   ],
   "source": [
    "%%bash\n",
    "ps"
   ]
  },
  {
   "cell_type": "code",
   "execution_count": 27,
   "id": "00a26d33",
   "metadata": {},
   "outputs": [
    {
     "name": "stdout",
     "output_type": "stream",
     "text": [
      "    PID TTY          TIME CMD\n",
      "      1 ?        00:00:00 docker-init\n",
      "      6 ?        00:00:00 sh\n",
      "    174 ?        00:00:00 sshd\n",
      "    325 ?        00:00:00 dockerd\n",
      "    578 ?        00:00:01 containerd\n",
      "   1408 ?        00:00:00 sh\n",
      "   1431 ?        00:00:00 sh\n",
      "   2049 ?        00:00:00 sh\n",
      "   2058 ?        00:00:34 node\n",
      "   2218 ?        00:00:33 node\n",
      "   2235 ?        00:00:05 node\n",
      "   2714 ?        00:00:03 node\n",
      "   3214 ?        00:00:00 node\n",
      "   3755 ?        00:00:00 sh\n",
      "   3815 ?        00:00:00 sh\n",
      "   8101 ?        00:00:00 node\n",
      "   8536 ?        00:00:00 pet\n",
      "   8730 pts/0    00:00:00 bash\n",
      "   9155 ?        00:00:03 node\n",
      "   9549 ?        00:00:00 sh\n",
      "   9603 ?        00:00:00 sh\n",
      "   9851 ?        00:00:22 node\n",
      "   9863 ?        00:00:04 node\n",
      "   9976 ?        00:00:00 pet\n",
      "  10171 pts/3    00:00:00 bash\n",
      "  10598 ?        00:00:03 node\n",
      "  10686 ?        00:00:00 sh\n",
      "  10710 ?        00:00:00 sh\n",
      "  11259 ?        00:00:00 sh\n",
      "  11316 ?        00:00:00 sh\n",
      "  11652 ?        00:00:37 node\n",
      "  11675 ?        00:00:13 node\n",
      "  11764 ?        00:00:00 pet\n",
      "  11974 pts/4    00:00:00 bash\n",
      "  12490 ?        00:00:00 sh\n",
      "  12519 ?        00:00:00 sh\n",
      "  13998 ?        00:00:03 node\n",
      "  14253 ?        00:00:00 node\n",
      "  15052 ?        00:00:00 sh\n",
      "  15107 ?        00:00:00 sh\n",
      "  15524 ?        00:00:06 node\n",
      "  15868 pts/5    00:00:00 bash\n",
      "  16530 ?        00:00:00 sh\n",
      "  16582 ?        00:00:00 sh\n",
      "  20824 ?        00:00:00 sh\n",
      "  20860 ?        00:00:00 sh\n",
      "  21375 ?        00:01:35 node\n",
      "  21409 ?        00:00:12 node\n",
      "  21608 ?        00:00:00 pet\n",
      "  21808 pts/6    00:00:00 bash\n",
      "  22336 ?        00:00:48 node\n",
      "  22453 ?        00:00:00 sh\n",
      "  22476 ?        00:00:00 sh\n",
      "  23079 ?        00:00:00 node\n",
      "  25569 ?        00:00:10 python\n",
      "  26939 ?        00:00:00 node\n",
      "  35828 ?        00:00:00 sleep\n",
      "  35829 ?        00:00:00 bash\n",
      "  35830 ?        00:00:00 ps\n"
     ]
    }
   ],
   "source": [
    "%%bash\n",
    "ps -e"
   ]
  },
  {
   "cell_type": "code",
   "execution_count": null,
   "id": "ad5ddbfd",
   "metadata": {},
   "outputs": [
    {
     "name": "stderr",
     "output_type": "stream",
     "text": [
      "top: failed tty get\n"
     ]
    },
    {
     "ename": "CalledProcessError",
     "evalue": "Command 'b'top -n 10\\n'' returned non-zero exit status 1.",
     "output_type": "error",
     "traceback": [
      "\u001b[31m---------------------------------------------------------------------------\u001b[39m",
      "\u001b[31mCalledProcessError\u001b[39m                        Traceback (most recent call last)",
      "\u001b[36mCell\u001b[39m\u001b[36m \u001b[39m\u001b[32mIn[30]\u001b[39m\u001b[32m, line 1\u001b[39m\n\u001b[32m----> \u001b[39m\u001b[32m1\u001b[39m \u001b[43mget_ipython\u001b[49m\u001b[43m(\u001b[49m\u001b[43m)\u001b[49m\u001b[43m.\u001b[49m\u001b[43mrun_cell_magic\u001b[49m\u001b[43m(\u001b[49m\u001b[33;43m'\u001b[39;49m\u001b[33;43mbash\u001b[39;49m\u001b[33;43m'\u001b[39;49m\u001b[43m,\u001b[49m\u001b[43m \u001b[49m\u001b[33;43m'\u001b[39;49m\u001b[33;43m'\u001b[39;49m\u001b[43m,\u001b[49m\u001b[43m \u001b[49m\u001b[33;43m'\u001b[39;49m\u001b[33;43mtop -n 10\u001b[39;49m\u001b[38;5;130;43;01m\\n\u001b[39;49;00m\u001b[33;43m'\u001b[39;49m\u001b[43m)\u001b[49m\n",
      "\u001b[36mFile \u001b[39m\u001b[32m~/.local/lib/python3.12/site-packages/IPython/core/interactiveshell.py:2542\u001b[39m, in \u001b[36mInteractiveShell.run_cell_magic\u001b[39m\u001b[34m(self, magic_name, line, cell)\u001b[39m\n\u001b[32m   2540\u001b[39m \u001b[38;5;28;01mwith\u001b[39;00m \u001b[38;5;28mself\u001b[39m.builtin_trap:\n\u001b[32m   2541\u001b[39m     args = (magic_arg_s, cell)\n\u001b[32m-> \u001b[39m\u001b[32m2542\u001b[39m     result = \u001b[43mfn\u001b[49m\u001b[43m(\u001b[49m\u001b[43m*\u001b[49m\u001b[43margs\u001b[49m\u001b[43m,\u001b[49m\u001b[43m \u001b[49m\u001b[43m*\u001b[49m\u001b[43m*\u001b[49m\u001b[43mkwargs\u001b[49m\u001b[43m)\u001b[49m\n\u001b[32m   2544\u001b[39m \u001b[38;5;66;03m# The code below prevents the output from being displayed\u001b[39;00m\n\u001b[32m   2545\u001b[39m \u001b[38;5;66;03m# when using magics with decorator @output_can_be_silenced\u001b[39;00m\n\u001b[32m   2546\u001b[39m \u001b[38;5;66;03m# when the last Python token in the expression is a ';'.\u001b[39;00m\n\u001b[32m   2547\u001b[39m \u001b[38;5;28;01mif\u001b[39;00m \u001b[38;5;28mgetattr\u001b[39m(fn, magic.MAGIC_OUTPUT_CAN_BE_SILENCED, \u001b[38;5;28;01mFalse\u001b[39;00m):\n",
      "\u001b[36mFile \u001b[39m\u001b[32m~/.local/lib/python3.12/site-packages/IPython/core/magics/script.py:159\u001b[39m, in \u001b[36mScriptMagics._make_script_magic.<locals>.named_script_magic\u001b[39m\u001b[34m(line, cell)\u001b[39m\n\u001b[32m    157\u001b[39m \u001b[38;5;28;01melse\u001b[39;00m:\n\u001b[32m    158\u001b[39m     line = script\n\u001b[32m--> \u001b[39m\u001b[32m159\u001b[39m \u001b[38;5;28;01mreturn\u001b[39;00m \u001b[38;5;28;43mself\u001b[39;49m\u001b[43m.\u001b[49m\u001b[43mshebang\u001b[49m\u001b[43m(\u001b[49m\u001b[43mline\u001b[49m\u001b[43m,\u001b[49m\u001b[43m \u001b[49m\u001b[43mcell\u001b[49m\u001b[43m)\u001b[49m\n",
      "\u001b[36mFile \u001b[39m\u001b[32m~/.local/lib/python3.12/site-packages/IPython/core/magics/script.py:336\u001b[39m, in \u001b[36mScriptMagics.shebang\u001b[39m\u001b[34m(self, line, cell)\u001b[39m\n\u001b[32m    331\u001b[39m \u001b[38;5;28;01mif\u001b[39;00m args.raise_error \u001b[38;5;129;01mand\u001b[39;00m p.returncode != \u001b[32m0\u001b[39m:\n\u001b[32m    332\u001b[39m     \u001b[38;5;66;03m# If we get here and p.returncode is still None, we must have\u001b[39;00m\n\u001b[32m    333\u001b[39m     \u001b[38;5;66;03m# killed it but not yet seen its return code. We don't wait for it,\u001b[39;00m\n\u001b[32m    334\u001b[39m     \u001b[38;5;66;03m# in case it's stuck in uninterruptible sleep. -9 = SIGKILL\u001b[39;00m\n\u001b[32m    335\u001b[39m     rc = p.returncode \u001b[38;5;129;01mor\u001b[39;00m -\u001b[32m9\u001b[39m\n\u001b[32m--> \u001b[39m\u001b[32m336\u001b[39m     \u001b[38;5;28;01mraise\u001b[39;00m CalledProcessError(rc, cell)\n",
      "\u001b[31mCalledProcessError\u001b[39m: Command 'b'top -n 10\\n'' returned non-zero exit status 1."
     ]
    }
   ],
   "source": [
    "%%bash\n"
   ]
  }
 ],
 "metadata": {
  "kernelspec": {
   "display_name": "Python 3",
   "language": "python",
   "name": "python3"
  },
  "language_info": {
   "codemirror_mode": {
    "name": "ipython",
    "version": 3
   },
   "file_extension": ".py",
   "mimetype": "text/x-python",
   "name": "python",
   "nbconvert_exporter": "python",
   "pygments_lexer": "ipython3",
   "version": "3.12.1"
  }
 },
 "nbformat": 4,
 "nbformat_minor": 5
}
